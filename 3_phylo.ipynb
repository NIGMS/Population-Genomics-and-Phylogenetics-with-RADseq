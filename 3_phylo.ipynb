{
 "cells": [
  {
   "cell_type": "markdown",
   "id": "dac6104a-3e1d-4bf0-85d0-79ff02ec9e4c",
   "metadata": {},
   "source": [
    "# Phylogenetic inference\n",
    "\n",
    "\n",
    "\n",
    "\n",
    "\n",
    "<br>\n",
    "\n",
    "\n",
    "## Overview\n",
    "\n",
    "\n",
    "In the first two, modules, we assembled RADseq data with ipyrad and ran some population clustering anlayses. **Next, we'll make a couple quick phylogenetic trees of our samples from the ipyrad assembly.** These anlayses will not require the output from submodule 2 on population structure, only submodule 1. \n",
    "\n",
    "\n",
    "We will continue to use the snake data that we have used so far, but note that phylogenetic methods are also commonly used to reconstruct the history of viruses like [Covid](https://www.science.org/doi/full/10.1126/science.abe3261) and [other pathogens](https://academic.oup.com/sysbio/article/66/1/e47/2670001).\n",
    "\n",
    "\n",
    "We'll use two different programs that have different theoretical underpinnings: IQ-TREE (IQ-TREE 2 paper [here](https://academic.oup.com/mbe/article/37/5/1530/5721363?ref=https://githubhelp.com) and documentation [here](http://www.iqtree.org/doc/)) and [SVDQuartets](https://academic.oup.com/bioinformatics/article/30/23/3317/206559?login=true). IQ-TREE is a maximum likelhood method for estimating phylogenies on concatentated alignments. Most models in IQ-TREE and similar maximum likelihood and Bayesian phylogeny programs assume that all sites in an alignment share a single underlying tree. This assumption may be broken for many reasons, including incomplete lineage sorting and gene flow. \n",
    "\n",
    "We will demonstrate two specific methods to infer phylogenies, but explaining the theoretical underpinnings of phylogenetic inference and the various classes of methods is beyond the scope of this tutorial. There are a great many programs and approaches for inferring phylogenies, and which one you choose will ultimately depend on your data and the questions you want to answer. If you need a general introduction to phylogenetics, Felsenstein's [Inferring Phylogenies](https://global.oup.com/academic/product/inferring-phylogenies-9780878931774?cc=us&lang=en&), Baum and Smith's [Tree Thinking: An Introduction to Phylogenetic Biology](https://store.macmillanlearning.com/us/product/Tree-Thinking-An-Introduction-to-Phylogenetic-Biology/p/1936221160?srsltid=AfmBOorzK_ikT0AD1kCOswzDK_hGQ4t5ht7iQp_l5MnGxGDe9JtSKkzg), and Kubatko and Knowles' [Species Tree Inference: A Guide to Methods and Applications](https://press.princeton.edu/books/hardcover/9780691207599/species-tree-inference?srsltid=AfmBOorMTxQfQ0L9s4oXURRlGYZhYRM2N3ggYRKpAhIz1mPR8_ffdf9T) are excellent places to start. [Maddison (1997)](https://academic.oup.com/sysbio/article/46/3/523/1651369) and [Degnan and Rosenberg (2006)](https://journals.plos.org/plosgenetics/article?id=10.1371/journal.pgen.0020068) both offer good introductions to the differences between species trees and gene trees and the problems that incomplete lineage sorting can cause.\n",
    "\n",
    "Gene flow is still notoriously hard to detect and adequately model in phylogenetic inference, but many programs now exist that are robust to variation in phylogenetic signal across sites/genes caused by incomplete lineage sorting.\n",
    "\n",
    "SVDQuartets is one such method. SVDQuartets uses a quartet approach that is statistically consistent with the multi-species coalescent without the computational burden of explicitly modeling the multi-species coalescent process.\n",
    "\n",
    "\n",
    "\n",
    "\n",
    "## Learning objectives\n",
    "\n",
    "1. Estimate phylogeny using IQ-TREE\n",
    "2. Estimate phylogeny using SVDQuartets\n",
    "\n",
    "\n",
    "## Prerequisites\n",
    "\n",
    "All necessary software is included in the container that we will use on Google Cloud: `us-east4-docker.pkg.dev/nih-cl-shared-resources/nigms-sandbox/nigms-vertex-r-wy`\n",
    "\n",
    "If you are not using the container, you will need to install the following software:\n",
    "\n",
    "- [PAUP](https://paup.phylosolutions.com/get-paup/) for running SVDQuartets\n",
    "- [IQtree](http://www.iqtree.org/#download)\n",
    "\n",
    "\n",
    "\n",
    "<br>\n",
    "<br>\n",
    "<br>\n",
    "<br>\n",
    "<br>\n",
    "\n",
    "# Get started\n",
    "\n",
    "<br>\n",
    "\n",
    "If you did not run through the previous tutorial or are running this tutorial from a fresh instance, you can download the ipyrad output we provide in the \"radseq_cloud\" Google bucket. Only uncomment and run these next lines if you want to download the ipyrad assembly."
   ]
  },
  {
   "cell_type": "markdown",
   "id": "6ad18385c30948be",
   "metadata": {},
   "source": [
    "<p align=\"center\">\n",
    "<a href=\"https://www.youtube.com/watch?v=bmKYXNhElV0&list=PLXaEJPtnQ4w7Vu7vqWbttBjUGrPp4Qa7b&index=2\">\n",
    "<img src=\"images/wy_video3.png\" alt=\"Phylogenetic inference and plotting\", width=\"550\"/>\n",
    "</a>\n",
    "<br>\n",
    "<span> Click above image to watch this video covering this and the next module </span>\n",
    "</p>"
   ]
  },
  {
   "cell_type": "code",
   "execution_count": 1,
   "id": "de77941a-6ebb-4d7d-96f5-ff9199a04022",
   "metadata": {},
   "outputs": [],
   "source": [
    "#! gsutil -m cp -r gs://radseq_cloud/ .\n",
    "#! mkdir -p ./ipyrad_out/ruber_reduced_denovo_outfiles/\n",
    "#! cp ./radseq_cloud/ruber-ipyrad-out/* ./ipyrad_out/ruber_reduced_denovo_outfiles/"
   ]
  },
  {
   "cell_type": "markdown",
   "id": "013bb47c-4835-47bf-b1b6-694919ab0fce",
   "metadata": {},
   "source": [
    "<br>\n",
    "<br>\n",
    "<br>\n",
    "\n",
    "\n",
    "## IQ-TREE\n",
    "\n",
    "IQ-TREE is a common and very easy to use program for generating maximum likelihood phylogenies. We'll start with this.\n",
    "\n",
    "\n",
    "\n",
    "It's very easy to run, we mostly just need to point iqtree to the input file, which we'll set as the phylip-formatted output from ipyrad, the `.phy` file. \n",
    "\n",
    "\n",
    "We'll set up our input and output paths as variables so that these can easily be changed and we shouldn't need to change much in the actual program call for different datasets, just these variables.\n",
    "\n",
    "`INFILE` will be the name and path to the input file\n",
    "`OUTFIX` will the be the prefix that gets prepended to each output file.\n",
    "`outdir` is the directory that we want all output to go into.\n",
    "\n",
    "\n",
    " Options that we'll set in the program call include:\n",
    "\n",
    "`-s $INFILE` sets the input sequence file.\n",
    "\n",
    "`-m MFP` which instead of specifying a model of evolution, tells IQTree to use ModelFinderPlus to find the best model of sequence evolution.\n",
    "\n",
    "`-T auto` tells IQTree to automatically determine the best number of threads to use, within some maximum we specify based on what we've allocated.\n",
    "\n",
    "`--prefix $OUTFIX` sets the prefix for our output to what we define in out `OUTFIX` bash variable.\n",
    "\n",
    "`-B 1000` tells IQTree to use 1000 ultrafast bootstraps for assessing support.\n",
    "\n",
    "`-alrt 1000` uses 1000 bootstrap replicates for SH-aLRT calculation (a likelihood-based metric of branch support).\n",
    "\n",
    "`-ntmax 8` sets the maximum number of threads to use, this should not exceeed the number of cores in your instance.\n"
   ]
  },
  {
   "cell_type": "code",
   "execution_count": 2,
   "id": "04bb5f9d-04fe-43f9-adfb-0b77e5eae2e5",
   "metadata": {
    "tags": []
   },
   "outputs": [],
   "source": [
    "import os\n",
    "from jupyterquiz import display_quiz\n",
    "\n",
    "# set up the input file, outfile prefix, and output directory\n",
    "os.environ[\"INFILE\"] = \"/home/jupyter/Population-Genomics-and-Phylogenetics-with-RADseq/ipyrad_out/ruber_reduced_denovo_outfiles/ruber_reduced_denovo.phy\"\n",
    "os.environ[\"OUTFIX\"] = \"ruber\"\n",
    "outdir = \"/home/jupyter/Population-Genomics-and-Phylogenetics-with-RADseq/iqtree_out\""
   ]
  },
  {
   "cell_type": "code",
   "execution_count": 3,
   "id": "9afea247-7d1e-4c3b-a2f4-8e1fc9a55a11",
   "metadata": {},
   "outputs": [],
   "source": [
    "os.makedirs(outdir, exist_ok=True) # create the output directory if it doesn't already exist\n",
    "os.chdir(outdir)"
   ]
  },
  {
   "cell_type": "code",
   "execution_count": 4,
   "id": "61323870-53fd-4586-8c49-468eb9fd7702",
   "metadata": {},
   "outputs": [
    {
     "name": "stdout",
     "output_type": "stream",
     "text": [
      "Checkpoint (ruber.ckp.gz) indicates that a previous run successfully finished\n",
      "Use `-redo` option if you really want to redo the analysis and overwrite all output files.\n",
      "Use `--redo-tree` option if you want to restore ModelFinder and only redo tree search.\n",
      "Use `--undo` option if you want to continue previous run when changing/adding options.\n"
     ]
    }
   ],
   "source": [
    "## Execute iqtree\n",
    "\n",
    "\n",
    "! iqtree2 -s $INFILE -m MFP -T auto --prefix $OUTFIX -B 1000 -alrt 1000 -nt AUTO -ntmax 8 -safe"
   ]
  },
  {
   "cell_type": "markdown",
   "id": "912a2da8-2f7f-4a49-87ab-21cdbcc7dbee",
   "metadata": {},
   "source": [
    "You may see a bunch of \"likelihood is underflown\" warnings, these aren't ideal, but the tree we get is reasonable even with these, so we'll ignore them for now.\n",
    "\n",
    "If IQ-TREE runs sucessfully, you should see something that ends like this:\n",
    "\n",
    "\n",
    "<img src=\"images/IQ_end.png\" width=40% />\n",
    "\n",
    "and your output directory should end up with various files, most importantly `ruber.treefile`. We'll visualize the tree you estimated in the R in the next tutorial.\n",
    "\n",
    "\n",
    "\n",
    "* Note that if you are using SNP data that does not include invariant characters, you need to use models that account for this. If your alignment contains only variable characters and you use standard substitution models, IQ-TREE will assume that the substitution rate is really high, which can cause weird inferences.\n",
    "\n"
   ]
  },
  {
   "cell_type": "code",
   "execution_count": 5,
   "id": "acf79d0a-55ac-49bc-a3b5-4c6a6a41d1b2",
   "metadata": {},
   "outputs": [
    {
     "data": {
      "text/html": [
       "<div id=\"LzsBtncvFdzV\" data-shufflequestions=\"False\" data-shuffleanswers=\"True\" data-preserveresponses=\"false\" data-numquestions=\"1000000\" data-maxwidth=\"600\" style=\"border-radius: 10px; text-align: left\"><style>\n",
       "#LzsBtncvFdzV {\n",
       "   --jq-multiple-choice-bg: #6f78ffff;\n",
       "   --jq-mc-button-bg: #fafafa;\n",
       "   --jq-mc-button-border: #e0e0e0e0;\n",
       "   --jq-mc-button-inset-shadow: #555555;\n",
       "   --jq-many-choice-bg: #f75c03ff;\n",
       "   --jq-numeric-bg: #392061ff;\n",
       "   --jq-numeric-input-bg: #c0c0c0;\n",
       "   --jq-numeric-input-label: #101010;\n",
       "   --jq-numeric-input-shadow: #999999;\n",
       "   --jq-string-bg: #4c1a57;\n",
       "   --jq-incorrect-color: #c80202;\n",
       "   --jq-correct-color: #009113;\n",
       "   --jq-text-color: #fafafa;\n",
       "}\n",
       "\n",
       ".Quiz {\n",
       "    max-width: 600px;\n",
       "    margin-top: 15px;\n",
       "    margin-left: auto;\n",
       "    margin-right: auto;\n",
       "/*    margin-bottom: 15px;*/\n",
       "/*    padding-bottom: 4px;*/\n",
       "    padding-top: 4px;\n",
       "    line-height: 1.1;\n",
       "    font-size: 16pt;\n",
       "    border-radius: inherit;\n",
       "}\n",
       "\n",
       ".QuizCode {\n",
       "    font-size: 14pt;\n",
       "    margin-top: 10px;\n",
       "    margin-left: 20px;\n",
       "    margin-right: 20px;\n",
       "}\n",
       "\n",
       ".QuizCode>pre {\n",
       "    padding: 4px;\n",
       "}\n",
       "\n",
       ".Quiz code {\n",
       "    background-color: lightgray;\n",
       "    color: black;\n",
       "}\n",
       "\n",
       ".Quiz .QuizCode code {\n",
       "    background-color: inherit;\n",
       "    color: inherit;\n",
       "}\n",
       "\n",
       "\n",
       ".Quiz .MCButton code {\n",
       "    background-color: inherit;\n",
       "    color: inherit;\n",
       "}\n",
       "\n",
       ".MCButton .QuizCode {\n",
       "    text-align: left;\n",
       "}\n",
       "\n",
       "\n",
       "\n",
       "\n",
       ".Answer {\n",
       "    border-radius: inherit;\n",
       "    display: grid;\n",
       "    grid-gap: 10px;\n",
       "    grid-template-columns: 1fr 1fr;\n",
       "    margin: 10px 0;\n",
       "}\n",
       "\n",
       "@media only screen and (max-width:480px) {\n",
       "    .Answer {\n",
       "        grid-template-columns: 1fr;\n",
       "    }\n",
       "\n",
       "}\n",
       "\n",
       ".Feedback {\n",
       "    font-size: 16pt;\n",
       "    text-align: center;\n",
       "/*    min-height: 2em;*/\n",
       "}\n",
       "\n",
       ".Input {\n",
       "    align: left;\n",
       "    font-size: 20pt;\n",
       "}\n",
       "\n",
       ".Input-text {\n",
       "    display: block;\n",
       "    margin: 10px;\n",
       "    color: inherit;\n",
       "    width: unset;\n",
       "    min-width: 140px;\n",
       "    max-width: 93%;\n",
       "    field-sizing: content;\n",
       "    background-color: var(--jq-numeric-input-bg);\n",
       "    color: var(--jq-text-color);\n",
       "    padding: 5px;\n",
       "    padding-left: 10px;\n",
       "    font-family: inherit;\n",
       "    font-size: 20px;\n",
       "    font-weight: inherit;\n",
       "    line-height: 20pt;\n",
       "    border: none;\n",
       "    border-radius: 0.2rem;\n",
       "    transition: box-shadow 0.1s);\n",
       "}\n",
       "\n",
       ".Input-text:focus {\n",
       "    /*outline: none;*/\n",
       "    background-color: var(--jq-numeric-input-bg);\n",
       "    box-shadow: 0.6rem 0.8rem 1.4rem -0.5rem var(--jq-numeric-input-shadow);\n",
       "}\n",
       "\n",
       ".MCButton {\n",
       "    background: var(--jq-mc-button-bg);\n",
       "    border: 1px solid var(--jq-mc-button-border);\n",
       "    border-radius: inherit;\n",
       "    color: #333333;\n",
       "    padding: 10px;\n",
       "    font-size: 16px;\n",
       "    cursor: pointer;\n",
       "    text-align: center;\n",
       "    display: flex;\n",
       "    align-items: center;\n",
       "    justify-content: center;\n",
       "}\n",
       "\n",
       ".MCButton p {\n",
       "    color: inherit;\n",
       "}\n",
       "\n",
       ".MultipleChoiceQn {\n",
       "    padding: 10px;\n",
       "    background: var(--jq-multiple-choice-bg);\n",
       "    color: var(--jq-text-color);\n",
       "    border-radius: inherit;\n",
       "}\n",
       "\n",
       ".ManyChoiceQn {\n",
       "    padding: 10px;\n",
       "    background: var(--jq-many-choice-bg);\n",
       "    color: var(--jq-text-color);\n",
       "    border-radius: inherit;\n",
       "}\n",
       "\n",
       ".NumericQn {\n",
       "    background: var(--jq-numeric-bg);\n",
       "    border-radius: inherit;\n",
       "    color: var(--jq-text-color);\n",
       "    padding: 10px;\n",
       "}\n",
       "\n",
       ".NumericQn p {\n",
       "    color: inherit;\n",
       "}\n",
       "\n",
       ".StringQn {\n",
       "    background: var(--jq-string-bg);\n",
       "    border-radius: inherit;\n",
       "    color: var(--jq-text-color);\n",
       "    padding: 10px;\n",
       "}\n",
       "\n",
       ".StringQn p {\n",
       "    color: inherit;\n",
       "}\n",
       "\n",
       "\n",
       ".InpLabel {\n",
       "    color: var(--jq-numeric-input-label);\n",
       "    float: left;\n",
       "    font-size: 15pt;\n",
       "    line-height: 34px;\n",
       "    margin-right: 10px;\n",
       "}\n",
       "\n",
       ".incorrect {\n",
       "    color: var(--jq-incorrect-color);\n",
       "}\n",
       "\n",
       ".correct {\n",
       "    color: var(--jq-correct-color);\n",
       "}\n",
       "\n",
       ".correctButton {\n",
       "    /*\n",
       "    background: var(--jq-correct-color);\n",
       "   */\n",
       "    animation: correct-anim 0.6s ease;\n",
       "    animation-fill-mode: forwards;\n",
       "    box-shadow: inset 0 0 5px var(--jq-mc-button-inset-shadow);\n",
       "    color: var(--jq-text-color);\n",
       "    /*outline: none;*/\n",
       "}\n",
       "\n",
       ".incorrectButton {\n",
       "    animation: incorrect-anim 0.8s ease;\n",
       "    animation-fill-mode: forwards;\n",
       "    box-shadow: inset 0 0 5px var(--jq-mc-button-inset-shadow);\n",
       "    color: var(--jq-text-color);\n",
       "    /*outline: none;*/\n",
       "}\n",
       "\n",
       "@keyframes incorrect-anim {\n",
       "    100% {\n",
       "        background-color: var(--jq-incorrect-color);\n",
       "    }\n",
       "}\n",
       "\n",
       "@keyframes correct-anim {\n",
       "    100% {\n",
       "        background-color: var(--jq-correct-color);\n",
       "    }\n",
       "}\n",
       "</style>"
      ],
      "text/plain": [
       "<IPython.core.display.HTML object>"
      ]
     },
     "metadata": {},
     "output_type": "display_data"
    },
    {
     "data": {
      "application/javascript": [
       "var questionsLzsBtncvFdzV=[\n",
       "    {\n",
       "        \"question\": \"Take a look at the IQ-TREE model documentation [here](http://www.iqtree.org/doc/Tutorial#choosing-the-right-substitution-model). If you want to use the ModelFinderPlus option that we've been using, but while accounting for only variable characters in the alignment, what flag would you use?\",\n",
       "        \"type\": \"many_choice\",\n",
       "        \"answers\": [\n",
       "            {\n",
       "                \"answer\": \"-m MF\",\n",
       "                \"correct\": false,\n",
       "                \"feedback\": \"Incorrect.\"\n",
       "            },\n",
       "            {\n",
       "                \"answer\": \"-m TIM2+I+G\",\n",
       "                \"correct\": false,\n",
       "                \"feedback\": \"Incorrect.\"\n",
       "            },\n",
       "            {\n",
       "                \"answer\": \"-m GTR+ASC\",\n",
       "                \"correct\": false,\n",
       "                \"feedback\": \"Incorrect.\"\n",
       "            },\n",
       "            {\n",
       "                \"answer\": \"-m MFP+ASC\",\n",
       "                \"correct\": true,\n",
       "                \"feedback\": \"Correct.\"\n",
       "            }\n",
       "        ]\n",
       "    }\n",
       "]\n",
       "\n",
       ";\n",
       "\n",
       "if (typeof Question === 'undefined') {\n",
       "// Make a random ID\n",
       "function makeid(length) {\n",
       "    var result = [];\n",
       "    var characters = 'ABCDEFGHIJKLMNOPQRSTUVWXYZabcdefghijklmnopqrstuvwxyz';\n",
       "    var charactersLength = characters.length;\n",
       "    for (var i = 0; i < length; i++) {\n",
       "        result.push(characters.charAt(Math.floor(Math.random() * charactersLength)));\n",
       "    }\n",
       "    return result.join('');\n",
       "}\n",
       "// Convert LaTeX delimiters and markdown links to HTML\n",
       "function jaxify(string) {\n",
       "    let mystring = string;\n",
       "    let count = 0, count2 = 0;\n",
       "    let loc = mystring.search(/([^\\\\]|^)(\\$)/);\n",
       "    let loc2 = mystring.search(/([^\\\\]|^)(\\$\\$)/);\n",
       "    while (loc >= 0 || loc2 >= 0) {\n",
       "        if (loc2 >= 0) {\n",
       "            mystring = mystring.replace(/([^\\\\]|^)(\\$\\$)/, count2 % 2 ? '$1\\\\]' : '$1\\\\[');\n",
       "            count2++;\n",
       "        } else {\n",
       "            mystring = mystring.replace(/([^\\\\]|^)(\\$)/, count % 2 ? '$1\\\\)' : '$1\\\\(');\n",
       "            count++;\n",
       "        }\n",
       "        loc = mystring.search(/([^\\\\]|^)(\\$)/);\n",
       "        loc2 = mystring.search(/([^\\\\]|^)(\\$\\$)/);\n",
       "    }\n",
       "    // Replace markdown links\n",
       "    mystring = mystring.replace(/<http(.*?)>/g, '<a href=\"http$1\" target=\"_blank\" class=\"Link\">http$1</a>');\n",
       "    mystring = mystring.replace(/\\[(.*?)\\]\\((.*?)\\)/g, '<a href=\"$2\" target=\"_blank\" class=\"Link\">$1</a>');\n",
       "    return mystring;\n",
       "}\n",
       "\n",
       "// Base class for question types\n",
       "class Question {\n",
       "    static registry = {};\n",
       "    static register(type, cls) {\n",
       "        Question.registry[type] = cls;\n",
       "    }\n",
       "    static create(qa, id, index, options, rootDiv) {\n",
       "        const Cls = Question.registry[qa.type];\n",
       "        if (!Cls) {\n",
       "            console.error(`No question class registered for type \"${qa.type}\"`);\n",
       "            return;\n",
       "        }\n",
       "        const q = new Cls(qa, id, index, options, rootDiv);\n",
       "        q.render();\n",
       "    }\n",
       "\n",
       "    constructor(qa, id, index, options, rootDiv) {\n",
       "        this.qa = qa;\n",
       "        this.id = id;\n",
       "        this.index = index;\n",
       "        this.options = options;\n",
       "        this.rootDiv = rootDiv;\n",
       "        // wrapper\n",
       "        this.wrapper = document.createElement('div');\n",
       "        this.wrapper.id = `quizWrap${id}`;\n",
       "        this.wrapper.className = 'Quiz';\n",
       "        this.wrapper.dataset.qnum = index;\n",
       "        this.wrapper.style.maxWidth = `${options.maxWidth}px`;\n",
       "        rootDiv.appendChild(this.wrapper);\n",
       "        // question container\n",
       "        this.outerqDiv = document.createElement('div');\n",
       "        this.outerqDiv.id = `OuterquizQn${id}${index}`;\n",
       "        this.wrapper.appendChild(this.outerqDiv);\n",
       "        // question text\n",
       "        this.qDiv = document.createElement('div');\n",
       "        this.qDiv.id = `quizQn${id}${index}`;\n",
       "        if (qa.question) {\n",
       "            this.qDiv.innerHTML = jaxify(qa.question);\n",
       "            this.outerqDiv.appendChild(this.qDiv);\n",
       "        }\n",
       "        // code block\n",
       "        if (qa.code) {\n",
       "            const codeDiv = document.createElement('div');\n",
       "            codeDiv.id = `code${id}${index}`;\n",
       "            codeDiv.className = 'QuizCode';\n",
       "            const pre = document.createElement('pre');\n",
       "            const codeEl = document.createElement('code');\n",
       "            codeEl.innerHTML = qa.code;\n",
       "            pre.appendChild(codeEl);\n",
       "            codeDiv.appendChild(pre);\n",
       "            this.outerqDiv.appendChild(codeDiv);\n",
       "        }\n",
       "        // answer container\n",
       "        this.aDiv = document.createElement('div');\n",
       "        this.aDiv.id = `quizAns${id}${index}`;\n",
       "        this.aDiv.className = 'Answer';\n",
       "        this.wrapper.appendChild(this.aDiv);\n",
       "        // feedback container (append after answers)\n",
       "        this.fbDiv = document.createElement('div');\n",
       "        this.fbDiv.id = `fb${id}`;\n",
       "        this.fbDiv.className = 'Feedback';\n",
       "        this.fbDiv.dataset.answeredcorrect = 0;\n",
       "    }\n",
       "\n",
       "    render() {\n",
       "        throw new Error('render() not implemented');\n",
       "    }\n",
       "\n",
       "    preserveResponse(val) {\n",
       "        if (!this.options.preserveResponses) return;\n",
       "        const resp = document.getElementById(`responses${this.rootDiv.id}`);\n",
       "        if (!resp) return;\n",
       "        const arr = JSON.parse(resp.dataset.responses);\n",
       "        arr[this.index] = val;\n",
       "        resp.dataset.responses = JSON.stringify(arr);\n",
       "        printResponses(resp);\n",
       "    }\n",
       "\n",
       "    typeset(container) {\n",
       "        if (typeof MathJax !== 'undefined') {\n",
       "            const v = MathJax.version;\n",
       "            if (v[0] === '2') {\n",
       "                MathJax.Hub.Queue(['Typeset', MathJax.Hub]);\n",
       "            } else {\n",
       "                MathJax.typeset([container]);\n",
       "            }\n",
       "        }\n",
       "    }\n",
       "}\n",
       "\n",
       "// Choose a random subset of an array. Can also be used to shuffle the array\n",
       "function getRandomSubarray(arr, size) {\n",
       "    var shuffled = arr.slice(0), i = arr.length, temp, index;\n",
       "    while (i--) {\n",
       "        index = Math.floor((i + 1) * Math.random());\n",
       "        temp = shuffled[index];\n",
       "        shuffled[index] = shuffled[i];\n",
       "        shuffled[i] = temp;\n",
       "    }\n",
       "    return shuffled.slice(0, size);\n",
       "}\n",
       "\n",
       "function printResponses(responsesContainer) {\n",
       "    var responses=JSON.parse(responsesContainer.dataset.responses);\n",
       "    var stringResponses='<B>IMPORTANT!</B>To preserve this answer sequence for submission, when you have finalized your answers: <ol> <li> Copy the text in this cell below \"Answer String\"</li> <li> Double click on the cell directly below the Answer String, labeled \"Replace Me\"</li> <li> Select the whole \"Replace Me\" text</li> <li> Paste in your answer string and press shift-Enter.</li><li>Save the notebook using the save icon or File->Save Notebook menu item</li></ul><br><br><br><b>Answer String:</b><br> ';\n",
       "    console.log(responses);\n",
       "    responses.forEach((response, index) => {\n",
       "        if (response) {\n",
       "            console.log(index + ': ' + response);\n",
       "            stringResponses+= index + ': ' + response +\"<BR>\";\n",
       "        }\n",
       "    });\n",
       "    responsesContainer.innerHTML=stringResponses;\n",
       "}\n",
       "/* Callback function to determine whether a selected multiple-choice\n",
       "   button corresponded to a correct answer and to provide feedback\n",
       "   based on the answer */\n",
       "function check_mc() {\n",
       "    var id = this.id.split('-')[0];\n",
       "    //var response = this.id.split('-')[1];\n",
       "    //console.log(response);\n",
       "    //console.log(\"In check_mc(), id=\"+id);\n",
       "    //console.log(event.srcElement.id)           \n",
       "    //console.log(event.srcElement.dataset.correct)   \n",
       "    //console.log(event.srcElement.dataset.feedback)\n",
       "\n",
       "    var label = event.srcElement;\n",
       "    //console.log(label, label.nodeName);\n",
       "    var depth = 0;\n",
       "    while ((label.nodeName != \"LABEL\") && (depth < 20)) {\n",
       "        label = label.parentElement;\n",
       "        console.log(depth, label);\n",
       "        depth++;\n",
       "    }\n",
       "\n",
       "\n",
       "\n",
       "    var answers = label.parentElement.children;\n",
       "    //console.log(answers);\n",
       "\n",
       "    // Split behavior based on multiple choice vs many choice:\n",
       "    var fb = document.getElementById(\"fb\" + id);\n",
       "\n",
       "\n",
       "\n",
       "    /* Multiple choice (1 answer). Allow for 0 correct\n",
       "       answers as an edge case */\n",
       "    if (fb.dataset.numcorrect <= 1) {\n",
       "        // What follows is for the saved responses stuff\n",
       "        var outerContainer = fb.parentElement.parentElement;\n",
       "        var responsesContainer = document.getElementById(\"responses\" + outerContainer.id);\n",
       "        if (responsesContainer) {\n",
       "            //console.log(responsesContainer);\n",
       "            var response = label.firstChild.innerText;\n",
       "            if (label.querySelector(\".QuizCode\")){\n",
       "                response+= label.querySelector(\".QuizCode\").firstChild.innerText;\n",
       "            }\n",
       "            console.log(response);\n",
       "            //console.log(document.getElementById(\"quizWrap\"+id));\n",
       "            var qnum = document.getElementById(\"quizWrap\"+id).dataset.qnum;\n",
       "            console.log(\"Question \" + qnum);\n",
       "            //console.log(id, \", got numcorrect=\",fb.dataset.numcorrect);\n",
       "            var responses=JSON.parse(responsesContainer.dataset.responses);\n",
       "            console.log(responses);\n",
       "            responses[qnum]= response;\n",
       "            responsesContainer.setAttribute('data-responses', JSON.stringify(responses));\n",
       "            printResponses(responsesContainer);\n",
       "        }\n",
       "        // End code to preserve responses\n",
       "\n",
       "        for (var i = 0; i < answers.length; i++) {\n",
       "            var child = answers[i];\n",
       "            //console.log(child);\n",
       "            child.className = \"MCButton\";\n",
       "        }\n",
       "\n",
       "\n",
       "\n",
       "        if (label.dataset.correct == \"true\") {\n",
       "            // console.log(\"Correct action\");\n",
       "            if (\"feedback\" in label.dataset) {\n",
       "                fb.innerHTML = jaxify(label.dataset.feedback);\n",
       "            } else {\n",
       "                fb.innerHTML = \"Correct!\";\n",
       "            }\n",
       "            label.classList.add(\"correctButton\");\n",
       "\n",
       "            fb.className = \"Feedback\";\n",
       "            fb.classList.add(\"correct\");\n",
       "\n",
       "        } else {\n",
       "            if (\"feedback\" in label.dataset) {\n",
       "                fb.innerHTML = jaxify(label.dataset.feedback);\n",
       "            } else {\n",
       "                fb.innerHTML = \"Incorrect -- try again.\";\n",
       "            }\n",
       "            //console.log(\"Error action\");\n",
       "            label.classList.add(\"incorrectButton\");\n",
       "            fb.className = \"Feedback\";\n",
       "            fb.classList.add(\"incorrect\");\n",
       "        }\n",
       "    }\n",
       "    else { /* Many choice (more than 1 correct answer) */\n",
       "        var reset = false;\n",
       "        var feedback;\n",
       "         if (label.dataset.correct == \"true\") {\n",
       "            if (\"feedback\" in label.dataset) {\n",
       "                feedback = jaxify(label.dataset.feedback);\n",
       "            } else {\n",
       "                feedback = \"Correct!\";\n",
       "            }\n",
       "            if (label.dataset.answered <= 0) {\n",
       "                if (fb.dataset.answeredcorrect < 0) {\n",
       "                    fb.dataset.answeredcorrect = 1;\n",
       "                    reset = true;\n",
       "                } else {\n",
       "                    fb.dataset.answeredcorrect++;\n",
       "                }\n",
       "                if (reset) {\n",
       "                    for (var i = 0; i < answers.length; i++) {\n",
       "                        var child = answers[i];\n",
       "                        child.className = \"MCButton\";\n",
       "                        child.dataset.answered = 0;\n",
       "                    }\n",
       "                }\n",
       "                label.classList.add(\"correctButton\");\n",
       "                label.dataset.answered = 1;\n",
       "                fb.className = \"Feedback\";\n",
       "                fb.classList.add(\"correct\");\n",
       "\n",
       "            }\n",
       "        } else {\n",
       "            if (\"feedback\" in label.dataset) {\n",
       "                feedback = jaxify(label.dataset.feedback);\n",
       "            } else {\n",
       "                feedback = \"Incorrect -- try again.\";\n",
       "            }\n",
       "            if (fb.dataset.answeredcorrect > 0) {\n",
       "                fb.dataset.answeredcorrect = -1;\n",
       "                reset = true;\n",
       "            } else {\n",
       "                fb.dataset.answeredcorrect--;\n",
       "            }\n",
       "\n",
       "            if (reset) {\n",
       "                for (var i = 0; i < answers.length; i++) {\n",
       "                    var child = answers[i];\n",
       "                    child.className = \"MCButton\";\n",
       "                    child.dataset.answered = 0;\n",
       "                }\n",
       "            }\n",
       "            label.classList.add(\"incorrectButton\");\n",
       "            fb.className = \"Feedback\";\n",
       "            fb.classList.add(\"incorrect\");\n",
       "        }\n",
       "        // What follows is for the saved responses stuff\n",
       "        var outerContainer = fb.parentElement.parentElement;\n",
       "        var responsesContainer = document.getElementById(\"responses\" + outerContainer.id);\n",
       "        if (responsesContainer) {\n",
       "            //console.log(responsesContainer);\n",
       "            var response = label.firstChild.innerText;\n",
       "            if (label.querySelector(\".QuizCode\")){\n",
       "                response+= label.querySelector(\".QuizCode\").firstChild.innerText;\n",
       "            }\n",
       "            console.log(response);\n",
       "            //console.log(document.getElementById(\"quizWrap\"+id));\n",
       "            var qnum = document.getElementById(\"quizWrap\"+id).dataset.qnum;\n",
       "            console.log(\"Question \" + qnum);\n",
       "            //console.log(id, \", got numcorrect=\",fb.dataset.numcorrect);\n",
       "            var responses=JSON.parse(responsesContainer.dataset.responses);\n",
       "            if (label.dataset.correct == \"true\") {\n",
       "                if (typeof(responses[qnum]) == \"object\"){\n",
       "                    if (!responses[qnum].includes(response))\n",
       "                        responses[qnum].push(response);\n",
       "                } else{\n",
       "                    responses[qnum]= [ response ];\n",
       "                }\n",
       "            } else {\n",
       "                responses[qnum]= response;\n",
       "            }\n",
       "            console.log(responses);\n",
       "            responsesContainer.setAttribute('data-responses', JSON.stringify(responses));\n",
       "            printResponses(responsesContainer);\n",
       "        }\n",
       "        // End save responses stuff\n",
       "\n",
       "\n",
       "\n",
       "        var numcorrect = fb.dataset.numcorrect;\n",
       "        var answeredcorrect = fb.dataset.answeredcorrect;\n",
       "        if (answeredcorrect >= 0) {\n",
       "            fb.innerHTML = feedback + \" [\" + answeredcorrect + \"/\" + numcorrect + \"]\";\n",
       "        } else {\n",
       "            fb.innerHTML = feedback + \" [\" + 0 + \"/\" + numcorrect + \"]\";\n",
       "        }\n",
       "\n",
       "\n",
       "    }\n",
       "\n",
       "    if (typeof MathJax != 'undefined') {\n",
       "        var version = MathJax.version;\n",
       "        console.log('MathJax version', version);\n",
       "        if (version[0] == \"2\") {\n",
       "            MathJax.Hub.Queue([\"Typeset\", MathJax.Hub]);\n",
       "        } else if (version[0] == \"3\") {\n",
       "            MathJax.typeset([fb]);\n",
       "        }\n",
       "    } else {\n",
       "        console.log('MathJax not detected');\n",
       "    }\n",
       "\n",
       "}\n",
       "\n",
       "\n",
       "/* Function to produce the HTML buttons for a multiple choice/\n",
       "   many choice question  and to update the CSS tags based on\n",
       "   the question type */\n",
       "function make_mc(qa, shuffle_answers, outerqDiv, qDiv, aDiv, id) {\n",
       "\n",
       "    var shuffled;\n",
       "    if (shuffle_answers == true) {\n",
       "        //console.log(shuffle_answers+\" read as true\");\n",
       "        shuffled = getRandomSubarray(qa.answers, qa.answers.length);\n",
       "    } else {\n",
       "        //console.log(shuffle_answers+\" read as false\");\n",
       "        shuffled = qa.answers;\n",
       "    }\n",
       "\n",
       "\n",
       "    var num_correct = 0;\n",
       "\n",
       "    shuffled.forEach((item, index, ans_array) => {\n",
       "        //console.log(answer);\n",
       "\n",
       "        // Make input element\n",
       "        var inp = document.createElement(\"input\");\n",
       "        inp.type = \"radio\";\n",
       "        inp.id = \"quizo\" + id + index;\n",
       "        inp.style = \"display:none;\";\n",
       "        aDiv.append(inp);\n",
       "\n",
       "        //Make label for input element\n",
       "        var lab = document.createElement(\"label\");\n",
       "        lab.className = \"MCButton\";\n",
       "        lab.id = id + '-' + index;\n",
       "        lab.onclick = check_mc;\n",
       "        var aSpan = document.createElement('span');\n",
       "        aSpan.classsName = \"\";\n",
       "        //qDiv.id=\"quizQn\"+id+index;\n",
       "        if (\"answer\" in item) {\n",
       "            aSpan.innerHTML = jaxify(item.answer);\n",
       "            //aSpan.innerHTML=item.answer;\n",
       "        }\n",
       "        lab.append(aSpan);\n",
       "\n",
       "        // Create div for code inside question\n",
       "        var codeSpan;\n",
       "        if (\"code\" in item) {\n",
       "            codeSpan = document.createElement('span');\n",
       "            codeSpan.id = \"code\" + id + index;\n",
       "            codeSpan.className = \"QuizCode\";\n",
       "            var codePre = document.createElement('pre');\n",
       "            codeSpan.append(codePre);\n",
       "            var codeCode = document.createElement('code');\n",
       "            codePre.append(codeCode);\n",
       "            codeCode.innerHTML = item.code;\n",
       "            lab.append(codeSpan);\n",
       "            //console.log(codeSpan);\n",
       "        }\n",
       "\n",
       "        //lab.textContent=item.answer;\n",
       "\n",
       "        // Set the data attributes for the answer\n",
       "        lab.setAttribute('data-correct', item.correct);\n",
       "        if (item.correct) {\n",
       "            num_correct++;\n",
       "        }\n",
       "        if (\"feedback\" in item) {\n",
       "            lab.setAttribute('data-feedback', item.feedback);\n",
       "        }\n",
       "        lab.setAttribute('data-answered', 0);\n",
       "\n",
       "        aDiv.append(lab);\n",
       "\n",
       "    });\n",
       "\n",
       "    if (num_correct > 1) {\n",
       "        outerqDiv.className = \"ManyChoiceQn\";\n",
       "    } else {\n",
       "        outerqDiv.className = \"MultipleChoiceQn\";\n",
       "    }\n",
       "\n",
       "    return num_correct;\n",
       "\n",
       "}\n",
       "// Object-oriented wrapper for MC/MANY choice\n",
       "class MCQuestion extends Question {\n",
       "    constructor(qa, id, idx, opts, rootDiv) { super(qa, id, idx, opts, rootDiv); }\n",
       "    render() {\n",
       "        //console.log(\"options.shuffleAnswers \" + this.options.shuffleAnswers);\n",
       "        const numCorrect = make_mc(\n",
       "            this.qa,\n",
       "            this.options.shuffleAnswers,\n",
       "            this.outerqDiv,\n",
       "            this.qDiv,\n",
       "            this.aDiv,\n",
       "            this.id\n",
       "        );\n",
       "        if ('answer_cols' in this.qa) {\n",
       "            this.aDiv.style.gridTemplateColumns =\n",
       "                'repeat(' + this.qa.answer_cols + ', 1fr)';\n",
       "        }\n",
       "        this.fbDiv.dataset.numcorrect = numCorrect;\n",
       "        this.wrapper.appendChild(this.fbDiv);\n",
       "    }\n",
       "}\n",
       "Question.register('multiple_choice', MCQuestion);\n",
       "Question.register('many_choice', MCQuestion);\n",
       "function check_numeric(ths, event) {\n",
       "\n",
       "    if (event.keyCode === 13) {\n",
       "        ths.blur();\n",
       "\n",
       "        var id = ths.id.split('-')[0];\n",
       "\n",
       "        var submission = ths.value;\n",
       "        if (submission.indexOf('/') != -1) {\n",
       "            var sub_parts = submission.split('/');\n",
       "            //console.log(sub_parts);\n",
       "            submission = sub_parts[0] / sub_parts[1];\n",
       "        }\n",
       "        //console.log(\"Reader entered\", submission);\n",
       "\n",
       "        if (\"precision\" in ths.dataset) {\n",
       "            var precision = ths.dataset.precision;\n",
       "            submission = Number(Number(submission).toPrecision(precision));\n",
       "        }\n",
       "\n",
       "\n",
       "        //console.log(\"In check_numeric(), id=\"+id);\n",
       "        //console.log(event.srcElement.id)           \n",
       "        //console.log(event.srcElement.dataset.feedback)\n",
       "\n",
       "        var fb = document.getElementById(\"fb\" + id);\n",
       "        fb.style.display = \"none\";\n",
       "        fb.innerHTML = \"Incorrect -- try again.\";\n",
       "\n",
       "        var answers = JSON.parse(ths.dataset.answers);\n",
       "        //console.log(answers);\n",
       "\n",
       "        var defaultFB = \"Incorrect. Try again.\";\n",
       "        var correct;\n",
       "        var done = false;\n",
       "        answers.every(answer => {\n",
       "            //console.log(answer.type);\n",
       "\n",
       "            correct = false;\n",
       "            // if (answer.type==\"value\"){\n",
       "            if ('value' in answer) {\n",
       "                var value;\n",
       "                if (\"precision\" in ths.dataset) {\n",
       "                    value = answer.value.toPrecision(ths.dataset.precision);\n",
       "                } else {\n",
       "                    value = answer.value;\n",
       "                }\n",
       "                if (submission == value) {\n",
       "                    if (\"feedback\" in answer) {\n",
       "                        fb.innerHTML = jaxify(answer.feedback);\n",
       "                    } else {\n",
       "                        fb.innerHTML = jaxify(\"Correct\");\n",
       "                    }\n",
       "                    correct = answer.correct;\n",
       "                    //console.log(answer.correct);\n",
       "                    done = true;\n",
       "                }\n",
       "\n",
       "                // } else if (answer.type==\"range\") {\n",
       "            } else if ('range' in answer) {\n",
       "                console.log(answer.range);\n",
       "                console.log(submission, submission >=answer.range[0], submission < answer.range[1])\n",
       "                if ((submission >= answer.range[0]) && (submission < answer.range[1])) {\n",
       "                    fb.innerHTML = jaxify(answer.feedback);\n",
       "                    correct = answer.correct;\n",
       "                    console.log(answer.correct);\n",
       "                    done = true;\n",
       "                }\n",
       "            } else if (answer.type == \"default\") {\n",
       "                if (\"feedback\" in answer) {\n",
       "                    defaultFB = answer.feedback;\n",
       "                } \n",
       "            }\n",
       "            if (done) {\n",
       "                return false; // Break out of loop if this has been marked correct\n",
       "            } else {\n",
       "                return true; // Keep looking for case that includes this as a correct answer\n",
       "            }\n",
       "        });\n",
       "        console.log(\"done:\", done);\n",
       "\n",
       "        if ((!done) && (defaultFB != \"\")) {\n",
       "            fb.innerHTML = jaxify(defaultFB);\n",
       "            //console.log(\"Default feedback\", defaultFB);\n",
       "        }\n",
       "\n",
       "        fb.style.display = \"block\";\n",
       "        if (correct) {\n",
       "            ths.className = \"Input-text\";\n",
       "            ths.classList.add(\"correctButton\");\n",
       "            fb.className = \"Feedback\";\n",
       "            fb.classList.add(\"correct\");\n",
       "        } else {\n",
       "            ths.className = \"Input-text\";\n",
       "            ths.classList.add(\"incorrectButton\");\n",
       "            fb.className = \"Feedback\";\n",
       "            fb.classList.add(\"incorrect\");\n",
       "        }\n",
       "\n",
       "        // What follows is for the saved responses stuff\n",
       "        var outerContainer = fb.parentElement.parentElement;\n",
       "        var responsesContainer = document.getElementById(\"responses\" + outerContainer.id);\n",
       "        if (responsesContainer) {\n",
       "            console.log(submission);\n",
       "            var qnum = document.getElementById(\"quizWrap\"+id).dataset.qnum;\n",
       "            //console.log(\"Question \" + qnum);\n",
       "            //console.log(id, \", got numcorrect=\",fb.dataset.numcorrect);\n",
       "            var responses=JSON.parse(responsesContainer.dataset.responses);\n",
       "            console.log(responses);\n",
       "            if (submission == ths.value){\n",
       "                responses[qnum]= submission;\n",
       "            } else {\n",
       "                responses[qnum]= ths.value + \"(\" + submission +\")\";\n",
       "            }\n",
       "            responsesContainer.setAttribute('data-responses', JSON.stringify(responses));\n",
       "            printResponses(responsesContainer);\n",
       "        }\n",
       "        // End code to preserve responses\n",
       "\n",
       "        if (typeof MathJax != 'undefined') {\n",
       "            var version = MathJax.version;\n",
       "            console.log('MathJax version', version);\n",
       "            if (version[0] == \"2\") {\n",
       "                MathJax.Hub.Queue([\"Typeset\", MathJax.Hub]);\n",
       "            } else if (version[0] == \"3\") {\n",
       "                MathJax.typeset([fb]);\n",
       "            }\n",
       "        } else {\n",
       "            console.log('MathJax not detected');\n",
       "        }\n",
       "        // After correct answer, if next JupyterQuiz question exists and has a text input, scroll by current question height\n",
       "        if (correct) {\n",
       "            // find the current question wrapper\n",
       "            var wrapper = ths.closest('.Quiz');\n",
       "            if (wrapper) {\n",
       "                var nextWrapper = wrapper.nextElementSibling;\n",
       "                if (nextWrapper && nextWrapper.classList.contains('Quiz')) {\n",
       "                    var nextInput = nextWrapper.querySelector('input.Input-text');\n",
       "                    if (nextInput) {\n",
       "                        var height = wrapper.getBoundingClientRect().height;\n",
       "                        console.log(height);\n",
       "                        nextInput.focus();\n",
       "                    }\n",
       "                }\n",
       "            }\n",
       "        }\n",
       "        return false;\n",
       "    }\n",
       "\n",
       "}\n",
       "// Object-oriented wrapper for numeric questions\n",
       "class NumericQuestion extends Question {\n",
       "    constructor(qa, id, idx, opts, rootDiv) {\n",
       "        super(qa, id, idx, opts, rootDiv);\n",
       "    }\n",
       "    render() {\n",
       "        make_numeric(this.qa, this.outerqDiv, this.qDiv, this.aDiv, this.id);\n",
       "        this.wrapper.appendChild(this.fbDiv);\n",
       "    }\n",
       "}\n",
       "Question.register('numeric', NumericQuestion);\n",
       "\n",
       "function isValid(el, charC) {\n",
       "    //console.log(\"Input char: \", charC);\n",
       "    if (charC == 46) {\n",
       "        if (el.value.indexOf('.') === -1) {\n",
       "            return true;\n",
       "        } else if (el.value.indexOf('/') != -1) {\n",
       "            var parts = el.value.split('/');\n",
       "            if (parts[1].indexOf('.') === -1) {\n",
       "                return true;\n",
       "            }\n",
       "        }\n",
       "        else {\n",
       "            return false;\n",
       "        }\n",
       "    } else if (charC == 47) {\n",
       "        if (el.value.indexOf('/') === -1) {\n",
       "            if ((el.value != \"\") && (el.value != \".\")) {\n",
       "                return true;\n",
       "            } else {\n",
       "                return false;\n",
       "            }\n",
       "        } else {\n",
       "            return false;\n",
       "        }\n",
       "    } else if (charC == 45) {\n",
       "        var edex = el.value.indexOf('e');\n",
       "        if (edex == -1) {\n",
       "            edex = el.value.indexOf('E');\n",
       "        }\n",
       "\n",
       "        if (el.value == \"\") {\n",
       "            return true;\n",
       "        } else if (edex == (el.value.length - 1)) { // If just after e or E\n",
       "            return true;\n",
       "        } else {\n",
       "            return false;\n",
       "        }\n",
       "    } else if (charC == 101) { // \"e\"\n",
       "        if ((el.value.indexOf('e') === -1) && (el.value.indexOf('E') === -1) && (el.value.indexOf('/') == -1)) {\n",
       "            // Prev symbol must be digit or decimal point:\n",
       "            if (el.value.slice(-1).search(/\\d/) >= 0) {\n",
       "                return true;\n",
       "            } else if (el.value.slice(-1).search(/\\./) >= 0) {\n",
       "                return true;\n",
       "            } else {\n",
       "                return false;\n",
       "            }\n",
       "        } else {\n",
       "            return false;\n",
       "        }\n",
       "    } else {\n",
       "        if (charC > 31 && (charC < 48 || charC > 57))\n",
       "            return false;\n",
       "    }\n",
       "    return true;\n",
       "}\n",
       "\n",
       "function numeric_keypress(evnt) {\n",
       "    var charC = (evnt.which) ? evnt.which : evnt.keyCode;\n",
       "\n",
       "    if (charC == 13) {\n",
       "        check_numeric(this, evnt);\n",
       "    } else {\n",
       "        return isValid(this, charC);\n",
       "    }\n",
       "}\n",
       "\n",
       "\n",
       "\n",
       "\n",
       "\n",
       "function make_numeric(qa, outerqDiv, qDiv, aDiv, id) {\n",
       "\n",
       "\n",
       "\n",
       "    //console.log(answer);\n",
       "\n",
       "\n",
       "    outerqDiv.className = \"NumericQn\";\n",
       "    aDiv.style.display = 'block';\n",
       "\n",
       "    var lab = document.createElement(\"label\");\n",
       "    lab.className = \"InpLabel\";\n",
       "    lab.innerHTML = \"Type numeric answer here:\";\n",
       "    aDiv.append(lab);\n",
       "\n",
       "    var inp = document.createElement(\"input\");\n",
       "    inp.type = \"text\";\n",
       "    //inp.id=\"input-\"+id;\n",
       "    inp.id = id + \"-0\";\n",
       "    inp.className = \"Input-text\";\n",
       "    inp.setAttribute('data-answers', JSON.stringify(qa.answers));\n",
       "    if (\"precision\" in qa) {\n",
       "        inp.setAttribute('data-precision', qa.precision);\n",
       "    }\n",
       "    aDiv.append(inp);\n",
       "    //console.log(inp);\n",
       "\n",
       "    //inp.addEventListener(\"keypress\", check_numeric);\n",
       "    //inp.addEventListener(\"keypress\", numeric_keypress);\n",
       "    /*\n",
       "    inp.addEventListener(\"keypress\", function(event) {\n",
       "        return numeric_keypress(this, event);\n",
       "    }\n",
       "                        );\n",
       "                        */\n",
       "    //inp.onkeypress=\"return numeric_keypress(this, event)\";\n",
       "    inp.onkeypress = numeric_keypress;\n",
       "    inp.onpaste = event => false;\n",
       "\n",
       "    inp.addEventListener(\"focus\", function (event) {\n",
       "        this.value = \"\";\n",
       "        return false;\n",
       "    }\n",
       "    );\n",
       "\n",
       "\n",
       "}\n",
       "// Override show_questions to use object-oriented Question API\n",
       "function show_questions(json, container) {\n",
       "    // Accept container element or element ID\n",
       "    if (typeof container === 'string') {\n",
       "        container = document.getElementById(container);\n",
       "    }\n",
       "    if (!container) {\n",
       "        console.error('show_questions: invalid container', container);\n",
       "        return;\n",
       "    }\n",
       "\n",
       "    const shuffleQuestions = container.dataset.shufflequestions === 'True';\n",
       "    const shuffleAnswers = container.dataset.shuffleanswers === 'True';\n",
       "    const preserveResponses = container.dataset.preserveresponses === 'true';\n",
       "    const maxWidth = parseInt(container.dataset.maxwidth, 10) || 0;\n",
       "    let numQuestions = parseInt(container.dataset.numquestions, 10) || json.length;\n",
       "    if (numQuestions > json.length) numQuestions = json.length;\n",
       "\n",
       "    let questions = json;\n",
       "    if (shuffleQuestions || numQuestions < json.length) {\n",
       "        questions = getRandomSubarray(json, numQuestions);\n",
       "    }\n",
       "\n",
       "    questions.forEach((qa, index) => {\n",
       "        const id = makeid(8);\n",
       "        const options = {\n",
       "            shuffleAnswers: shuffleAnswers,\n",
       "            preserveResponses: preserveResponses,\n",
       "            maxWidth: maxWidth\n",
       "        };\n",
       "        Question.create(qa, id, index, options, container);\n",
       "    });\n",
       "\n",
       "    if (preserveResponses) {\n",
       "        const respDiv = document.createElement('div');\n",
       "        respDiv.id = 'responses' + container.id;\n",
       "        respDiv.className = 'JCResponses';\n",
       "        respDiv.dataset.responses = JSON.stringify([]);\n",
       "        respDiv.innerHTML = '<b>Select your answers and then follow the directions that will appear here.</b>';\n",
       "        container.appendChild(respDiv);\n",
       "    }\n",
       "\n",
       "    // Trigger MathJax typesetting if available\n",
       "    if (typeof MathJax != 'undefined') {\n",
       "        console.log(\"MathJax version\", MathJax.version);\n",
       "        var version = MathJax.version;\n",
       "        setTimeout(function(){\n",
       "            var version = MathJax.version;\n",
       "            console.log('After sleep, MathJax version', version);\n",
       "            if (version[0] == \"2\") {\n",
       "                MathJax.Hub.Queue([\"Typeset\", MathJax.Hub]);\n",
       "            } else if (version[0] == \"3\") {\n",
       "                if (MathJax.hasOwnProperty('typeset') ) {\n",
       "                    MathJax.typeset([container]);\n",
       "                } else {\n",
       "                    console.log('WARNING: Trying to force load MathJax 3');\n",
       "                    window.MathJax = {\n",
       "                        tex: {\n",
       "                            inlineMath: [['$', '$'], ['\\\\(', '\\\\)']]\n",
       "                        },\n",
       "                        svg: {\n",
       "                            fontCache: 'global'\n",
       "                        }\n",
       "                    };\n",
       "\n",
       "                    (function () {\n",
       "                        var script = document.createElement('script');\n",
       "                        script.src = 'https://cdn.jsdelivr.net/npm/mathjax@3/es5/tex-svg.js';\n",
       "                        script.async = true;\n",
       "                        document.head.appendChild(script);\n",
       "                    })();\n",
       "                }\n",
       "            }\n",
       "        }, 500);\n",
       "if (typeof version == 'undefined') {\n",
       "        } else\n",
       "        {\n",
       "            if (version[0] == \"2\") {\n",
       "                MathJax.Hub.Queue([\"Typeset\", MathJax.Hub]);\n",
       "            } else if (version[0] == \"3\") {\n",
       "                if (MathJax.hasOwnProperty('typeset') ) {\n",
       "                    MathJax.typeset([container]);\n",
       "                } else {\n",
       "                    console.log('WARNING: Trying to force load MathJax 3');\n",
       "                    window.MathJax = {\n",
       "                        tex: {\n",
       "                            inlineMath: [['$', '$'], ['\\\\(', '\\\\)']]\n",
       "                        },\n",
       "                        svg: {\n",
       "                            fontCache: 'global'\n",
       "                        }\n",
       "                    };\n",
       "\n",
       "                    (function () {\n",
       "                        var script = document.createElement('script');\n",
       "                        script.src = 'https://cdn.jsdelivr.net/npm/mathjax@3/es5/tex-svg.js';\n",
       "                        script.async = true;\n",
       "                        document.head.appendChild(script);\n",
       "                    })();\n",
       "                }\n",
       "            } else {\n",
       "                console.log(\"MathJax not found\");\n",
       "            }\n",
       "        }\n",
       "    }\n",
       "    // if (typeof MathJax !== 'undefined') {\n",
       "    //     const v = MathJax.version;\n",
       "    //     if (v[0] === '2') {\n",
       "    //         MathJax.Hub.Queue(['Typeset', MathJax.Hub]);\n",
       "    //     } else if (v[0] === '3') {\n",
       "    //         MathJax.typeset([container]);\n",
       "    //     }\n",
       "    // }\n",
       "\n",
       "    // Prevent link clicks from bubbling up\n",
       "    Array.from(container.getElementsByClassName('Link')).forEach(link => {\n",
       "        link.addEventListener('click', e => e.stopPropagation());\n",
       "    });\n",
       "}\n",
       "function levenshteinDistance(a, b) {\n",
       "    if (a.length === 0) return b.length;\n",
       "    if (b.length === 0) return a.length;\n",
       "\n",
       "    const matrix = Array(b.length + 1).fill(null).map(() => Array(a.length + 1).fill(null));\n",
       "\n",
       "    for (let i = 0; i <= a.length; i++) {\n",
       "        matrix[0][i] = i;\n",
       "    }\n",
       "\n",
       "    for (let j = 0; j <= b.length; j++) {\n",
       "        matrix[j][0] = j;\n",
       "    }\n",
       "\n",
       "    for (let j = 1; j <= b.length; j++) {\n",
       "        for (let i = 1; i <= a.length; i++) {\n",
       "            const cost = a[i - 1] === b[j - 1] ? 0 : 1;\n",
       "            matrix[j][i] = Math.min(\n",
       "                matrix[j - 1][i] + 1, // Deletion\n",
       "                matrix[j][i - 1] + 1, // Insertion\n",
       "                matrix[j - 1][i - 1] + cost // Substitution\n",
       "            );\n",
       "        }\n",
       "    }\n",
       "    return matrix[b.length][a.length];\n",
       "}\n",
       "// Object-oriented wrapper for string input questions\n",
       "class StringQuestion extends Question {\n",
       "    constructor(qa, id, idx, opts, rootDiv) {\n",
       "        super(qa, id, idx, opts, rootDiv);\n",
       "    }\n",
       "    render() {\n",
       "        make_string(this.qa, this.outerqDiv, this.qDiv, this.aDiv, this.id);\n",
       "        this.wrapper.appendChild(this.fbDiv);\n",
       "    }\n",
       "}\n",
       "Question.register('string', StringQuestion);\n",
       "\n",
       "function check_string(ths, event) {\n",
       "    if (event.keyCode === 13) {\n",
       "        ths.blur();\n",
       "\n",
       "        var id = ths.id.split('-')[0];\n",
       "        var submission = ths.value.trim();\n",
       "        var fb = document.getElementById(\"fb\" + id);\n",
       "        fb.style.display = \"none\";\n",
       "        fb.innerHTML = \"Incorrect -- try again.\";\n",
       "\n",
       "        var answers = JSON.parse(ths.dataset.answers);\n",
       "        var defaultFB = \"Incorrect. Try again.\";\n",
       "        var correct;\n",
       "        var done = false;\n",
       "\n",
       "        // Handle default answer pattern: filter out and capture default feedback\n",
       "        var filteredAnswers = [];\n",
       "        answers.forEach(answer => {\n",
       "            if (answer.type === \"default\") {\n",
       "                defaultFB = answer.feedback;\n",
       "            } else {\n",
       "                filteredAnswers.push(answer);\n",
       "            }\n",
       "        });\n",
       "        answers = filteredAnswers;\n",
       "\n",
       "        answers.every(answer => {\n",
       "            correct = false;\n",
       "\n",
       "            let match = false;\n",
       "            if (answer.match_case) {\n",
       "                match = submission === answer.answer;\n",
       "            } else {\n",
       "                match = submission.toLowerCase() === answer.answer.toLowerCase();\n",
       "            }\n",
       "            console.log(submission);\n",
       "            console.log(answer.answer);\n",
       "            console.log(match);\n",
       "\n",
       "            if (match) {\n",
       "                if (\"feedback\" in answer) {\n",
       "                    fb.innerHTML = jaxify(answer.feedback);\n",
       "                } else {\n",
       "                    fb.innerHTML = jaxify(\"Correct\");\n",
       "                }\n",
       "                correct = answer.correct;\n",
       "                done = true;\n",
       "            } else if (answer.fuzzy_threshold) {\n",
       "                var max_length = Math.max(submission.length, answer.answer.length);\n",
       "                var ratio;\n",
       "                if (answer.match_case) {\n",
       "                    ratio = 1- (levenshteinDistance(submission, answer.answer) / max_length);\n",
       "                } else {\n",
       "                    ratio = 1- (levenshteinDistance(submission.toLowerCase(),\n",
       "                                                    answer.answer.toLowerCase()) / max_length);\n",
       "                }\n",
       "                if (ratio >= answer.fuzzy_threshold) {\n",
       "                    if (\"feedback\" in answer) {\n",
       "                        fb.innerHTML = jaxify(\"(Fuzzy) \" + answer.feedback);\n",
       "                    } else {\n",
       "                        fb.innerHTML = jaxify(\"Correct\");\n",
       "                    }\n",
       "                    correct = answer.correct;\n",
       "                    done = true;\n",
       "                }\n",
       "\n",
       "            }\n",
       "\n",
       "            if (done) {\n",
       "                return false;\n",
       "            } else {\n",
       "                return true;\n",
       "            }\n",
       "        });\n",
       "\n",
       "        if ((!done) && (defaultFB != \"\")) {\n",
       "            fb.innerHTML = jaxify(defaultFB);\n",
       "        }\n",
       "\n",
       "        fb.style.display = \"block\";\n",
       "        if (correct) {\n",
       "            ths.className = \"Input-text\";\n",
       "            ths.classList.add(\"correctButton\");\n",
       "            fb.className = \"Feedback\";\n",
       "            fb.classList.add(\"correct\");\n",
       "        } else {\n",
       "            ths.className = \"Input-text\";\n",
       "            ths.classList.add(\"incorrectButton\");\n",
       "            fb.className = \"Feedback\";\n",
       "            fb.classList.add(\"incorrect\");\n",
       "        }\n",
       "\n",
       "        var outerContainer = fb.parentElement.parentElement;\n",
       "        var responsesContainer = document.getElementById(\"responses\" + outerContainer.id);\n",
       "        if (responsesContainer) {\n",
       "            var qnum = document.getElementById(\"quizWrap\" + id).dataset.qnum;\n",
       "            var responses = JSON.parse(responsesContainer.dataset.responses);\n",
       "            responses[qnum] = submission;\n",
       "            responsesContainer.setAttribute('data-responses', JSON.stringify(responses));\n",
       "            printResponses(responsesContainer);\n",
       "        }\n",
       "\n",
       "        if (typeof MathJax != 'undefined') {\n",
       "            var version = MathJax.version;\n",
       "            if (version[0] == \"2\") {\n",
       "                MathJax.Hub.Queue([\"Typeset\", MathJax.Hub]);\n",
       "            } else if (version[0] == \"3\") {\n",
       "                MathJax.typeset([fb]);\n",
       "            }\n",
       "        } else {\n",
       "            console.log('MathJax not detected');\n",
       "        }\n",
       "        // After correct answer, if next JupyterQuiz question exists and has a text input, scroll by current question height\n",
       "        if (correct) {\n",
       "            var wrapper = ths.closest('.Quiz');\n",
       "            if (wrapper) {\n",
       "                var nextWrapper = wrapper.nextElementSibling;\n",
       "                if (nextWrapper && nextWrapper.classList.contains('Quiz')) {\n",
       "                    var nextInput = nextWrapper.querySelector('input.Input-text');\n",
       "                    if (nextInput) {\n",
       "                        var height = wrapper.getBoundingClientRect().height;\n",
       "                        nextInput.focus();\n",
       "                    }\n",
       "                }\n",
       "            }\n",
       "        }\n",
       "        return false;\n",
       "    }\n",
       "}\n",
       "\n",
       "function string_keypress(evnt) {\n",
       "    var charC = (evnt.which) ? evnt.which : evnt.keyCode;\n",
       "\n",
       "    if (charC == 13) {\n",
       "        check_string(this, evnt);\n",
       "    } \n",
       "}\n",
       "\n",
       "\n",
       "function make_string(qa, outerqDiv, qDiv, aDiv, id) {\n",
       "    outerqDiv.className = \"StringQn\";\n",
       "    aDiv.style.display = 'block';\n",
       "\n",
       "    var lab = document.createElement(\"label\");\n",
       "    lab.className = \"InpLabel\";\n",
       "    lab.innerHTML = \"Type your answer here:\";\n",
       "    aDiv.append(lab);\n",
       "\n",
       "    var inp = document.createElement(\"input\");\n",
       "    inp.type = \"text\";\n",
       "    inp.id = id + \"-0\";\n",
       "    inp.className = \"Input-text\";\n",
       "    inp.setAttribute('data-answers', JSON.stringify(qa.answers));\n",
       "    // Apply optional input width (approx. number of characters, in em units)\n",
       "    if (qa.input_width != null) {\n",
       "        inp.style['min-width'] = qa.input_width + 'em';\n",
       "    }\n",
       "    aDiv.append(inp);\n",
       "\n",
       "    inp.onkeypress = string_keypress;\n",
       "    inp.onpaste = event => false;\n",
       "\n",
       "    inp.addEventListener(\"focus\", function (event) {\n",
       "        this.value = \"\";\n",
       "        return false;\n",
       "    });\n",
       "}\n",
       "/*\n",
       " * Handle asynchrony issues when re-running quizzes in Jupyter notebooks.\n",
       " * Ensures show_questions is called after the container div is in the DOM.\n",
       " */\n",
       "function try_show() {\n",
       "  if (document.getElementById(\"LzsBtncvFdzV\")) {\n",
       "    show_questions(questionsLzsBtncvFdzV, LzsBtncvFdzV);\n",
       "  } else {\n",
       "    setTimeout(try_show, 200);\n",
       "  }\n",
       "};\n",
       "// Invoke immediately\n",
       "{\n",
       "  try_show();\n",
       "}\n",
       "}\n"
      ],
      "text/plain": [
       "<IPython.core.display.Javascript object>"
      ]
     },
     "metadata": {},
     "output_type": "display_data"
    }
   ],
   "source": [
    "os.chdir(\"..\")\n",
    "display_quiz(\"quizzes/submodule_3/quiz1.json\")"
   ]
  },
  {
   "cell_type": "markdown",
   "id": "4c00772e-f870-4f8e-9449-db4d6255c69f",
   "metadata": {},
   "source": [
    "## SVDQuartets\n",
    "\n",
    "\n",
    "SVDQuartets is a quartet-based method that is designed to work on SNPs to create species trees, but it can also be used with full concatenated alignments to generate trees of indiviuals like we've done with IQTree.\n",
    "\n",
    "It is somewhat more involved to set up, and we'll again set it up with a bunch of bash variables.\n",
    "\n",
    "What we'll do is run a single search for the best tree, save it, then run a search that includes bootstrapping and save those trees. Later, in R, we'll plot the bootstraps onto the best tree. Note that if you run a bootstrap analysis and just plot the tree that comes out from that with bootstap values at nodes, the bootstraps will be plotted on a consensus of bootstrap trees, not the tree that has the highest likelihood onyour actual data. I consider this to be highly undesirable.\n",
    "\n",
    "### Edit the nexus file\n",
    "\n",
    "You will need to edit the nexus file created by ipyrad to create a nexus file that SVDQuartets/PAUP will correctly read in. The character sets specified in the file we got from ipyrad will cause issues, and so we need to delete them. \n",
    "\n",
    "We need to make a copy of `ruber_reduced_denovo.nex` as `ruber_reduced_denovoPAUP.nex` and then in the new file, we will delete the line `BEGIN SETS;` \n",
    "\n",
    "\n",
    "<img src=\"images/start_sets.png\" width=30% />\n",
    "\n",
    "\n",
    "all of the lines that begin `charset` and the `END;` that marks the end of the charsets block\n",
    "\n",
    "<img src=\"images/end_sets.png\" width=30% />\n",
    "\n",
    "We will do this programatically using a sed command. Be sure to modify the path depending on if you ran ipyrad or merely copied the inputs in. "
   ]
  },
  {
   "cell_type": "code",
   "execution_count": 6,
   "id": "61b832f4-8a11-469c-81ad-cc2581bf298f",
   "metadata": {},
   "outputs": [],
   "source": [
    "! sed '/BEGIN SETS;/,/^END;/d' /home/jupyter/Population-Genomics-and-Phylogenetics-with-RADseq/ipyrad_out/ruber_reduced_denovo_outfiles/ruber_reduced_denovo.nex > /home/jupyter/Population-Genomics-and-Phylogenetics-with-RADseq/ipyrad_out/ruber_reduced_denovo_outfiles/ruber_reduced_denovoPAUP.nex"
   ]
  },
  {
   "cell_type": "markdown",
   "id": "bb3d3a10-d1cd-4d00-a248-8534acb2febe",
   "metadata": {},
   "source": [
    "\n",
    "Note that there are other `end;` statements in the nexus file that you do not want to delete. The end of your Nexus file should look like this after deleting the charsets block:\n",
    " \n",
    "<img src=\"images/no_charsets.png\" width=40% />\n",
    " \n",
    "\n",
    "\n",
    "\n",
    "\n",
    "Once that is done, you can proceed. We will set this up to use variables to specify the input, output, and some options for SVDQuartets so that in most cases, you should not need to edit anything in the second part of this code block. Note, however, that there are some options that we have defined in the program call, and in some cases you may want to change these."
   ]
  },
  {
   "cell_type": "code",
   "execution_count": 7,
   "id": "17dfafba-e5c7-42c5-867a-aacc4873f404",
   "metadata": {},
   "outputs": [
    {
     "name": "stdout",
     "output_type": "stream",
     "text": [
      "\n",
      "P A U P *\n",
      "Version 4.0a (build 169) for Unix/Linux (built on May 28 2024 at 11:04:55)\n",
      "Tue Jun  3 13:31:48 2025\n",
      "\n",
      "        -----------------------------NOTICE-----------------------------\n",
      "          This is a test version that is still changing rapidly.\n",
      "          Please report bugs to dave@phylosolutions.com\n",
      "        ----------------------------------------------------------------\n",
      "\n",
      "Running on Intel(R) Xeon(R) CPU @ 2.80GHz\n",
      "    Current processor contains 4 CPU cores on 1 socket (hyperthreaded to 8 logical cores)\n",
      "    Executable built for Intel(R) 64 architecture\n",
      "    Compiled using GNU C compiler (gcc) 7.5.0\n",
      "    SSE vectorization enabled\n",
      "    SSSE3 instructions supported\n",
      "    Multithreading enabled using Pthreads\n",
      "\n",
      "Processing of file \"~/Population-Genomics-and-Phylogenetics-with-RADseq/svdq_out/ruber_reduced_denovo.paup.txt\" begins...\n",
      "\n",
      "        -----------------------------NOTICE-----------------------------\n",
      "          This is a test version that is still changing rapidly.\n",
      "          Please report bugs to dave@phylosolutions.com\n",
      "        ----------------------------------------------------------------\n",
      "\n",
      "Logging output to file \"~/Population-Genomics-and-Phylogenetics-with-RADseq/svdq_out/ruber_reduced_denovo.log\".\n",
      "\n",
      "Processing of file \"~/Population-Genomics-and-Phylogenetics-with-RADseq/ipyrad_out/ruber_reduced_denovo_outfiles/ruber_reduced_denovoPAUP.nex\"\n",
      "begins...\n",
      "\n",
      "Data read in DNA format\n",
      "\n",
      "Data matrix has 33 taxa, 220324 characters\n",
      "Valid character-state symbols: ACGT\n",
      "Missing data identified by 'N'\n",
      "Gaps identified by '-'\n",
      "\"Equate\" macros in effect:\n",
      "   R,r ==> {AG}\n",
      "   Y,y ==> {CT}\n",
      "   M,m ==> {AC}\n",
      "   K,k ==> {GT}\n",
      "   S,s ==> {CG}\n",
      "   W,w ==> {AT}\n",
      "   H,h ==> {ACT}\n",
      "   B,b ==> {CGT}\n",
      "   V,v ==> {ACG}\n",
      "   D,d ==> {AGT}\n",
      "\n",
      "Processing of input file \"ruber_reduced_denovoPAUP.nex\" completed.\n",
      "\n",
      "Analysis using SVDQuartets method\n",
      "\n",
      "  Number of taxa (lineages) in the analysis = 33\n",
      "  No species-membership partition is in effect; assuming one tip per species\n",
      "  Quartet sampling = exhaustive (40920 quartets)\n",
      "  Tree model = multispecies coalescent (expected rank of flattening matrix for true tree = 10)\n",
      "  Using 8 parallel threads on 4 physical (8 logical) cores\n",
      "  Tree search:\n",
      "    Quartet assembly algorithm = QFM\n",
      "    Local search = none\n",
      "\n",
      "******  \n",
      "******  Warning: Requesting more threads (8) than the number of available logical cores (8) on hyperthreaded systems may strongly degrade performance!\n",
      "******  \n"
     ]
    },
    {
     "name": "stderr",
     "output_type": "stream",
     "text": [
      "\n",
      "Getting SVD scores for all quartets...\n",
      "[################################################# ] 99.9%           ] 5.2%                            ] 5.4% ##                                                ] 5.6%                             ] 5.7% ##                                                ] 5.8% ##                                                ] 6.0%            ] 6.2%            ] 6.4%            ] 6.5% ###                                               ] 6.9%            ] 7.1%            ] 7.4%                                     ] 7.6%          ] 7.7% ###                                               ] 7.8%          ] 7.9%            ] 8.1%                              ] 8.3% ####                                              ] 8.6%            ] 8.8%            ] 9.0% ####                                              ] 9.2% ####                                              ] 9.3%          ] 9.4%                                  ] 9.6% ####                                              ] 9.7%             ] 10.1%             ] 10.7%             ] 10.9%             ] 11.2%             ] 11.5%               ] 11.6%             ] 11.7%             ] 12.0%             ] 12.2% ######                                            ] 12.4%             ] 12.6% ######                                            ] 12.8%           ] 12.9%                               ] 13.1%             ] 13.8%             ] 14.0%             ] 14.3%             ] 14.6%                                 ] 14.8%                 ] 15.2%             ] 15.4%                                 ] 15.6%             ] 15.8%                                 ] 16.0%             ] 16.4%                                 ] 16.6%             ] 16.9%             ] 17.2%                                 ] 17.4%             ] 17.7%             ] 17.9%                                 ] 18.1%             ] 18.3%                                 ] 18.5%             ] 18.7%                                 ] 18.9%             ] 19.2%                                 ] 19.4%             ] 19.6% #########                                         ] 19.7%             ] 20.1%             ] 20.3%             ] 20.5%             ] 20.9%                                 ] 21.1%                            ] 21.4%             ] 21.6%                                 ] 21.8% #####                                       ] 22.1%        ] 22.3%             ] 22.6%             ] 23.2%                                 ] 23.4% ###########                                       ] 23.7%             ] 23.9%             ] 24.3%             ] 24.5%                                 ] 24.7%             ] 24.9%             ] 25.1%                                 ] 25.3%             ] 25.6%             ] 26.1%                                 ] 26.3% #############                                     ] 26.6% #############                                     ] 26.8% #############                                     ] 26.9%             ] 27.1%             ] 27.4%             ] 27.6%             ] 28.0%                                 ] 28.2% ############                                    ] 28.4% ##############                                    ] 28.7%             ] 29.1%             ] 29.3%                                 ] 29.5%             ] 29.8%                                 ] 30.0%             ] 30.2%                                 ] 30.4%             ] 30.7%                                 ] 30.9%             ] 31.5% ###############                                   ] 31.7% ################                                  ] 32.4% ################                                  ] 32.5% ##                                  ] 32.6% ################                                  ] 32.7%           ] 32.8% ] 33.0% ] 33.3%             ] 33.5%             ] 33.7%             ] 33.9%             ] 34.1%             ] 34.3% #################                                 ] 34.7%           ] 34.8%             ] 35.0%             ] 35.3% #################                                 ] 35.5%             ] 35.7%               ] 35.9% #################                                 ] 36.0%             ] 36.3%             ] 36.5%             ] 37.0%                                 ] 37.2%             ] 37.4%             ] 37.8%             ] 38.3%             ] 38.5%             ] 38.7%        ] 39.0% ###################                               ] 39.2% ] 39.4%             ] 39.6% #                               ] 39.8%             ] 40.1% ##                              ] 40.3% ####################                              ] 40.6% ####################                              ] 40.9% ####################                              ] 41.0% ####################                              ] 41.2% ####################                              ] 41.3%             ] 41.5%             ] 41.7%             ] 42.0%             ] 42.4%             ] 42.7% ###                             ] 42.9%             ] 43.2% ###                             ] 43.4%             ] 43.7%             ] 43.9%             ] 44.1%             ] 44.3%             ] 44.7% ####                            ] 44.9%             ] 45.1% ####                            ] 45.3%             ] 45.5%             ] 45.7%             ] 45.8%             ] 46.0% #####                           ] 46.2%             ] 46.4% #####                           ] 46.6%             ] 46.9%      ] 47.1%                      ] 47.2%             ] 47.6%             ] 47.8%             ] 48.1% ########################                          ] 48.6% ########################                          ] 48.7%             ] 48.9%             ] 49.3%             ] 49.5% ######                          ] 49.7%             ] 49.9%             ] 50.0% #######                         ] 50.2%             ] 50.4% #######                         ] 50.6%             ] 50.8%             ] 51.1% #######                         ] 51.3%             ] 51.6%             ] 52.0%             ] 52.2%             ] 52.5% ########                        ] 52.7%             ] 52.9% ########                        ] 53.1%             ] 53.3% ########                        ] 53.5%             ] 53.7%             ] 54.0%             ] 54.3% #########                       ] 54.4%                ] 54.7% ###########################                       ] 54.8%           ] 54.9%             ] 55.1%                   ] 55.4%             ] 55.6%             ] 55.9% ############################                      ] 56.2%           ] 56.3%             ] 56.5%             ] 56.9% ##########                      ] 57.1%             ] 57.3%             ] 57.6% ############################                      ] 57.8%             ] 58.1% ########                     ] 58.2% ###########################                     ] 58.4%             ] 58.6%             ] 58.7% ###########                     ] 58.9%             ] 59.2% ###########                     ] 59.4%             ] 59.8% ############                    ] 60.0%             ] 60.3%             ] 60.7%             ] 60.9% ############                    ] 61.1%             ] 61.3% ############                    ] 61.5%             ] 61.8%             ] 62.0%             ] 62.3%             ] 62.5%             ] 62.7% #############                   ] 62.9%             ] 63.0%             ] 63.4% ###############################                   ] 63.8%           ] 63.9%             ] 64.2%             ] 64.4%             ] 64.6% ################################                  ] 65.0%           ] 65.1%    ] 65.2%             ] 65.4% ##############                  ] 65.6%             ] 65.8%             ] 66.0%             ] 66.3% ###############                 ] 66.5%             ] 66.8%             ] 67.0% ###############                 ] 67.2%             ] 67.5% ###############                 ] 67.7%             ] 68.1%             ] 68.4% ################                ] 68.6%             ] 68.9% ################                ] 69.1%             ] 69.3%             ] 69.6%             ] 69.9% #################               ] 70.1%             ] 70.3% #################               ] 70.5%             ] 70.8%             ] 71.0%      ] 71.4% ##################               ] 71.5% #####               ] 71.7%             ] 71.8% ####################################              ] 72.1%           ] 72.2% ################              ] 72.4%             ] 72.6%             ] 72.9%             ] 73.1% ##################              ] 73.3%   ] 73.6% ] 74.0% #####################################             ] 74.1%             ] 74.4%             ] 74.7% ###################             ] 74.9%             ] 75.1%             ] 75.6%             ] 75.8% ###################             ] 76.0%             ] 76.1% ###            ] 76.3%             ] 76.6%             ] 76.8%             ] 77.0% ####################            ] 77.2%             ] 77.4%             ] 77.7% #           ] 78.0% #####################           ] 78.2% #           ] 78.6% #######################################           ] 78.8% #           ] 79.0% #           ] 79.2% #####################           ] 79.4% #           ] 79.9% ##          ] 80.3% ##          ] 80.4% ##          ] 80.6% ########################################          ] 80.9% ##          ] 81.1% ##          ] 81.3% ##          ] 81.5% ##          ] 81.8% #########################################         ] 82.0% #         ] 82.1% ###         ] 82.6% #####################################         ] 82.9% ###         ] 83.2% #######################         ] 83.4% ###         ] 83.6% #######################         ] 83.8% ####        ] 84.1% ####        ] 84.4% ####        ] 84.7% ########################        ] 84.8% ####        ] 85.0% ########################        ] 85.2% ####        ] 85.6% ########################        ] 85.8% #####       ] 86.0% #####       ] 86.2% #####       ] 86.5% #####       ] 86.7% #########################       ] 86.9% #####       ] 87.1% #########################       ] 87.3% #####       ] 87.5% #########################       ] 87.7% #####       ] 88.0% ##########################      ] 88.2% ######      ] 88.4% ##########################      ] 88.6% ######      ] 88.9% ######      ] 89.1%   ] 89.1% ############################################      ] 89.2% ######      ] 89.6% ######      ] 89.9% #######     ] 90.3% #############################################     ] 90.5% #######     ] 90.7% #######     ] 91.4% #######     ] 92.0% ############################    ] 92.2% ########    ] 92.5% ##############################################    ] 92.7% ######    ] 92.8% ########    ] 93.0% ########    ] 93.2% ########    ] 93.5% ########    ] 93.7% ########    ] 93.9% #############################   ] 94.1% #########   ] 94.3% #############################   ] 94.5% #########   ] 94.7% #########   ] 95.1% #########   ] 95.3% #########   ] 95.6% #############################   ] 95.8% ##########  ] 96.1% ##########  ] 96.3% ##########  ] 96.6% ##########  ] 96.9% ##########  ] 97.3% ##################  ] 97.4% ##########  ] 97.8% ##########  ] 97.9% ########### ] 98.1% ########### ] 98.3% ################################################# ] 98.6% ########### ] 98.8% ########### ] 99.0% ########### ] 99.4% ################################################# ] 99.6% ######################### ] 99.8% ##################################################] 100.0% \n"
     ]
    },
    {
     "name": "stdout",
     "output_type": "stream",
     "text": [
      "\n",
      "******  \n",
      "******  Warning: Requesting more threads (8) than the number of available logical cores (8) on hyperthreaded systems may strongly degrade performance!\n",
      "******  \n"
     ]
    },
    {
     "name": "stderr",
     "output_type": "stream",
     "text": [
      "\n",
      "Assembling quartets...\n",
      "[################################################  ] 96.7% ##                                               ] 6.7% #####                                             ] 10.0%           ] 13.3% ########                                          ] 16.7%           ] 20.0%             ] 26.7%                                 ] 33.3%             ] 43.3% #######                         ] 50.0% ############################                      ] 56.7% ##############################                    ] 60.0% ###############################                   ] 63.3%           ] 66.7%             ] 76.7% #######################         ] 83.3% ########    ] 93.3% ################################] 100.0% \n"
     ]
    },
    {
     "name": "stdout",
     "output_type": "stream",
     "text": [
      "\n",
      "Quartet assembly completed:\n",
      "  Total weight of incompatible quartets = 5732 (14.008%)\n",
      "  Total weight of compatible quartets   = 35188 (85.992%)\n",
      "  Time used for QFM = 0.04 sec (CPU time = 0.29 sec)\n",
      "\n",
      "Tree from SVDQuartets analysis (also stored to tree buffer):\n",
      "\n",
      "/--------------------------------------------------------------------------------------------------------------------------------------- SD Field 0201\n",
      "|\n",
      "|                                                                                                                               /------- SD Field 0255\n",
      "|                                                                                                                         /-----+\n",
      "|                                                                                                                         |     \\------- SD Field 2914\n",
      "|                                                                                                                  /------+\n",
      "|                                                                                                                  |      \\------------- SD Field 0386\n",
      "|                                                                                                           /------+\n",
      "|                                                                                                           |      |            /------- SD Field 1988\n",
      "|                                                                                                           |      \\------------+\n",
      "|                                                                                                           |                   \\------- SD Field 2427\n",
      "|                                                                                                    /------+\n",
      "|                                                                                                    |      |                   /------- SD Field 1079\n",
      "|                                                                                                    |      |             /-----+\n",
      "|                                                                                                    |      |             |     \\------- SD Field 1220\n",
      "|                                                                                              /-----+      \\-------------+\n",
      "|                                                                                              |     |                    \\------------- SD Field 1225\n",
      "|                                                                                              |     |\n",
      "|                                                                                       /------+     |                          /------- SD Field 1226\n",
      "|                                                                                       |      |     \\--------------------------+\n",
      "|                                                                                       |      |                                \\------- SD Field 1991\n",
      "|                                                                                /------+      |\n",
      "|                                                                                |      |      \\---------------------------------------- SD Field 2383\n",
      "|                                                                                |      |\n",
      "|                                                                         /------+      \\----------------------------------------------- SD Field 1961\n",
      "|                                                                         |      |\n",
      "|                                                                   /-----+      \\------------------------------------------------------ SD Field 0599\n",
      "|                                                                   |     |\n",
      "|                                                            /------+     \\------------------------------------------------------------- SD Field 0557\n",
      "|                                                            |      |\n",
      "|                                                     /------+      \\------------------------------------------------------------------- SD Field 0492\n",
      "|                                                     |      |\n",
      "|                                                     |      |                                                                  /------- SD Field 0491\n",
      "|                                              /------+      \\------------------------------------------------------------------+\n",
      "|                                              |      |                                                                         \\------- SD Field 0493\n",
      "|                                              |      |\n",
      "|                                        /-----+      \\--------------------------------------------------------------------------------- SD Field 0642\n",
      "|                                        |     |\n",
      "|                                 /------+     \\---------------------------------------------------------------------------------------- SD Field 0666\n",
      "|                                 |      |\n",
      "|                          /------+      \\---------------------------------------------------------------------------------------------- SD Field 0598\n",
      "|                          |      |\n",
      "|                   /------+      \\----------------------------------------------------------------------------------------------------- SD Field 2287\n",
      "|                   |      |\n",
      "|             /-----+      \\------------------------------------------------------------------------------------------------------------ SD Field 1205\n",
      "|             |     |\n",
      "|      /------+     \\------------------------------------------------------------------------------------------------------------------- SD Field 1899\n",
      "|      |      |\n",
      "|      |      \\------------------------------------------------------------------------------------------------------------------------- SD Field 1878\n",
      "|      |\n",
      "|      |                                                                                             /---------------------------------- SD Field 0983\n",
      "\\------+                                                                                             |\n",
      "       |                                                                                             |                          /------- SD Field 1381\n",
      "       |                                                                                             |                    /-----+\n",
      "       |                                                                                             |                    |     \\------- SD Field 3124\n",
      "       \\---------------------------------------------------------------------------------------------+             /------+\n",
      "                                                                                                     |             |      |     /------- SD Field 2789\n",
      "                                                                                                     |             |      \\-----+\n",
      "                                                                                                     |      /------+            \\------- SD Field 3027\n",
      "                                                                                                     |      |      |\n",
      "                                                                                                     \\------+      \\-------------------- SD Field 2968\n",
      "                                                                                                            |\n",
      "                                                                                                            |                   /------- SD Field 1880\n",
      "                                                                                                            \\-------------------+\n",
      "                                                                                                                                \\------- SD Field 2127\n",
      "\n",
      "Time used for SVDQuartet analysis = 1.48 sec (CPU time = 9.48 sec)\n",
      "\n",
      "1 tree saved to file \"~/Population-Genomics-and-Phylogenetics-with-RADseq/svdq_out/ruber_reduced_denovo.besttree.tre\"\n",
      "\n",
      "Analysis using SVDQuartets method\n",
      "\n",
      "  Number of taxa (lineages) in the analysis = 33\n",
      "  No species-membership partition is in effect; assuming one tip per species\n",
      "  Quartet sampling = exhaustive (40920 quartets)\n",
      "  Doing standard bootstrap analysis\n",
      "    Initial bootstrap seed = generated automatically\n",
      "    Number of bootstrap replicates = 200\n",
      "  Tree model = multispecies coalescent (expected rank of flattening matrix for true tree = 10)\n",
      "  Using 8 parallel threads on 4 physical (8 logical) cores\n",
      "  Tree search:\n",
      "    Quartet assembly algorithm = QFM\n",
      "    Local search = none\n",
      "  Writing trees for bootstrap replicates to file: ruber_reduced_denovo.svdqboots.tre\n",
      "\n",
      "******  \n",
      "******  Warning: Requesting more threads (8) than the number of available logical cores (8) on hyperthreaded systems may strongly degrade performance!\n",
      "******  \n"
     ]
    },
    {
     "name": "stderr",
     "output_type": "stream",
     "text": [
      "\n",
      "Getting SVD scores for all quartets...\n",
      "[################################################# ] 99.4% #                          ] 48.9%             ] 49.3% ########################                          ] 49.6%           ] 49.7%             ] 49.9%             ] 50.0% #######                         ] 50.2%             ] 50.5% #######                         ] 50.7%             ] 51.0% #######                         ] 51.2%             ] 51.7%             ] 51.9%             ] 52.2%             ] 52.4% ########                        ] 52.6%             ] 53.0% ########                        ] 53.2%             ] 53.5%             ] 53.8% ########                        ] 54.0%             ] 54.2% #########                       ] 54.3%             ] 54.6%             ] 54.9%             ] 55.4%             ] 55.7%             ] 56.1%             ] 56.4% ###########                      ] 56.5%             ] 56.7%             ] 57.0%             ] 57.2% ] 57.4%             ] 57.6%             ] 57.8%             ] 58.0%             ] 58.2%             ] 58.4% ###########                     ] 58.6%             ] 58.7% ###########                     ] 58.9%             ] 59.1% ###########                     ] 59.3%             ] 59.6%             ] 59.9% ############                    ] 60.1%             ] 60.4%             ] 60.6% ############                    ] 60.8%             ] 61.1% ############                    ] 61.3%             ] 61.5% ############                    ] 61.7%             ] 62.0% #############                   ] 62.2%  ] 62.3%             ] 62.5%             ] 62.9%             ] 63.0%             ] 63.3%             ] 63.5% #############                   ] 63.7%             ] 64.1% ##############                  ] 64.3%             ] 64.5% ##############                  ] 64.7%             ] 65.1% ################################                  ] 65.6%           ] 65.7%             ] 65.9% ###############                 ] 66.1%             ] 66.3% ###############                 ] 66.5%             ] 66.9% ###############                 ] 67.1%             ] 67.4% ###############                 ] 67.5%             ] 67.7%             ] 68.1%             ] 68.3%             ] 68.6%             ] 68.9% ################                ] 69.1%             ] 69.3%             ] 69.5%             ] 69.8% ################                ] 70.0%             ] 70.2%        ] 70.3% ###################################               ] 70.5%             ] 70.8%             ] 71.0% #################               ] 71.2%             ] 71.4%             ] 71.7%             ] 71.8%             ] 72.1% ##################              ] 72.3%             ] 72.5% ##################              ] 72.7%             ] 73.1% ##################              ] 73.3% ################################              ] 73.6%             ] 73.8%             ] 74.0%             ] 74.2% ###################             ] 74.4%             ] 74.7%             ] 75.0% ###################             ] 75.2%             ] 75.4% ###################             ] 75.6%             ] 75.9%             ] 76.1%             ] 76.4%             ] 76.7%             ] 77.0%             ] 77.2%             ] 77.4% ####################            ] 77.6%             ] 77.9% #####################           ] 78.1% #           ] 78.5% #####################           ] 78.7% #           ] 79.0% #####################           ] 79.2% #           ] 79.5% #           ] 79.7% #           ] 80.0% ##          ] 80.2% ######################          ] 80.4% ##          ] 80.5% ##          ] 80.8% ########################################          ] 81.0% ##          ] 81.2% ######################          ] 81.4% ##          ] 81.7% ###         ] 82.0% ###         ] 82.3% ###         ] 82.6% #########################################         ] 83.0% ###         ] 83.3% ###         ] 83.5% ###         ] 83.7% #########################################         ] 84.0% ##        ] 84.1% ####        ] 84.4% ########################        ] 84.6% ####        ] 84.8% ########        ] 84.9% ##########################################        ] 85.0% ##        ] 85.1% ######################        ] 85.3% ####        ] 85.5% ####        ] 85.8% ###########################################       ] 86.1% #####       ] 86.3% #####       ] 86.7% ###########################################       ] 87.0% ###       ] 87.1% #####       ] 87.3% ###########################################       ] 87.5% ###       ] 87.6% #####       ] 87.9% ######      ] 88.2% ######      ] 88.5% ######      ] 88.7% ##########################      ] 88.9% ######      ] 89.2% ##########################      ] 89.4% ######      ] 89.6% ##########################      ] 89.8% #######     ] 90.2% #######     ] 90.5% ###########################     ] 90.7% #############################################     ] 91.0% #######     ] 91.2% #######     ] 91.4% ###########################     ] 91.6% ########    ] 92.2% ########    ] 92.5% ############################    ] 92.7% ##############################################    ] 93.0% ########    ] 93.2% ############################    ] 93.4% ##############################################    ] 93.6% ###    ] 93.7% ##############################################    ] 93.8% ######    ] 93.9% ###########################   ] 94.1% #########   ] 94.3% ###############################################   ] 94.4% #########   ] 94.7% #########   ] 94.9% #############################   ] 95.1% #########   ] 95.4% #########   ] 95.6% #########   ] 95.8% ##########  ] 96.3% ##########  ] 96.5% ################################################  ] 96.7% ##########  ] 96.9% ##########  ] 97.3% ##########  ] 97.5% ##########  ] 97.7% ##############################  ] 97.8% ########### ] 98.1% ############################### ] 98.3% ########### ] 99.0% ################################################# ] 99.2% ################################################# ] 99.5% 6% ################################################# ] 99.7% ######### ] 99.8% ################################################# ] 99.9% ##################################################] 100.0% \n"
     ]
    },
    {
     "name": "stdout",
     "output_type": "stream",
     "text": [
      "\n",
      "******  \n",
      "******  Warning: Requesting more threads (8) than the number of available logical cores (8) on hyperthreaded systems may strongly degrade performance!\n",
      "******  \n"
     ]
    },
    {
     "name": "stderr",
     "output_type": "stream",
     "text": [
      "\n",
      "Assembling quartets...\n",
      "[################################################  ] 96.7% ##                                               ] 6.7%          ] 10.0%                              ] 16.7% ##########                                       ] 23.3%          ] 26.7%                              ] 33.3%             ] 43.3% #######                         ] 50.0%             ] 60.0% ###############                 ] 66.7%             ] 76.7% #######################         ] 83.3% ########    ] 93.3% ################################] 100.0% \n"
     ]
    },
    {
     "name": "stdout",
     "output_type": "stream",
     "text": [
      "\n",
      "Quartet assembly completed:\n",
      "  Total weight of incompatible quartets = 5732 (14.008%)\n",
      "  Total weight of compatible quartets   = 35188 (85.992%)\n",
      "  Time used for QFM = 0.07 sec (CPU time = 0.44 sec)\n",
      "\n",
      "Tree from SVDQuartets analysis (also stored to tree buffer):\n",
      "\n",
      "/--------------------------------------------------------------------------------------------------------------------------------------- SD Field 0201\n",
      "|\n",
      "|                                                                                                                               /------- SD Field 0255\n",
      "|                                                                                                                         /-----+\n",
      "|                                                                                                                         |     \\------- SD Field 2914\n",
      "|                                                                                                                  /------+\n",
      "|                                                                                                                  |      \\------------- SD Field 0386\n",
      "|                                                                                                           /------+\n",
      "|                                                                                                           |      |            /------- SD Field 1988\n",
      "|                                                                                                           |      \\------------+\n",
      "|                                                                                                           |                   \\------- SD Field 2427\n",
      "|                                                                                                    /------+\n",
      "|                                                                                                    |      |                   /------- SD Field 1079\n",
      "|                                                                                                    |      |             /-----+\n",
      "|                                                                                                    |      |             |     \\------- SD Field 1220\n",
      "|                                                                                              /-----+      \\-------------+\n",
      "|                                                                                              |     |                    \\------------- SD Field 1225\n",
      "|                                                                                              |     |\n",
      "|                                                                                       /------+     |                          /------- SD Field 1226\n",
      "|                                                                                       |      |     \\--------------------------+\n",
      "|                                                                                       |      |                                \\------- SD Field 1991\n",
      "|                                                                                /------+      |\n",
      "|                                                                                |      |      \\---------------------------------------- SD Field 2383\n",
      "|                                                                                |      |\n",
      "|                                                                         /------+      \\----------------------------------------------- SD Field 1961\n",
      "|                                                                         |      |\n",
      "|                                                                   /-----+      \\------------------------------------------------------ SD Field 0599\n",
      "|                                                                   |     |\n",
      "|                                                            /------+     \\------------------------------------------------------------- SD Field 0557\n",
      "|                                                            |      |\n",
      "|                                                     /------+      \\------------------------------------------------------------------- SD Field 0492\n",
      "|                                                     |      |\n",
      "|                                                     |      |                                                                  /------- SD Field 0491\n",
      "|                                              /------+      \\------------------------------------------------------------------+\n",
      "|                                              |      |                                                                         \\------- SD Field 0493\n",
      "|                                              |      |\n",
      "|                                        /-----+      \\--------------------------------------------------------------------------------- SD Field 0642\n",
      "|                                        |     |\n",
      "|                                 /------+     \\---------------------------------------------------------------------------------------- SD Field 0666\n",
      "|                                 |      |\n",
      "|                          /------+      \\---------------------------------------------------------------------------------------------- SD Field 0598\n",
      "|                          |      |\n",
      "|                   /------+      \\----------------------------------------------------------------------------------------------------- SD Field 2287\n",
      "|                   |      |\n",
      "|             /-----+      \\------------------------------------------------------------------------------------------------------------ SD Field 1205\n",
      "|             |     |\n",
      "|      /------+     \\------------------------------------------------------------------------------------------------------------------- SD Field 1899\n",
      "|      |      |\n",
      "|      |      \\------------------------------------------------------------------------------------------------------------------------- SD Field 1878\n",
      "|      |\n",
      "|      |                                                                                             /---------------------------------- SD Field 0983\n",
      "\\------+                                                                                             |\n",
      "       |                                                                                             |                          /------- SD Field 1381\n",
      "       |                                                                                             |                    /-----+\n",
      "       |                                                                                             |                    |     \\------- SD Field 3124\n",
      "       \\---------------------------------------------------------------------------------------------+             /------+\n",
      "                                                                                                     |             |      |     /------- SD Field 2789\n",
      "                                                                                                     |             |      \\-----+\n",
      "                                                                                                     |      /------+            \\------- SD Field 3027\n",
      "                                                                                                     |      |      |\n",
      "                                                                                                     \\------+      \\-------------------- SD Field 2968\n",
      "                                                                                                            |\n",
      "                                                                                                            |                   /------- SD Field 1880\n",
      "                                                                                                            \\-------------------+\n",
      "                                                                                                                                \\------- SD Field 2127\n",
      "\n",
      "******  \n",
      "******  Warning: Requesting more threads (8) than the number of available logical cores (8) on hyperthreaded systems may strongly degrade performance!\n",
      "******  \n",
      "\n",
      "******  \n",
      "******  Warning: Requesting more threads (8) than the number of available logical cores (8) on hyperthreaded systems may strongly degrade performance!\n",
      "******  \n"
     ]
    },
    {
     "name": "stderr",
     "output_type": "stream",
     "text": [
      "\n",
      "Bootstrapping (SVDQuartets)...\n",
      "[                                                  ] 0.5% "
     ]
    },
    {
     "name": "stdout",
     "output_type": "stream",
     "text": [
      "\n",
      "******  \n",
      "******  Warning: Requesting more threads (8) than the number of available logical cores (8) on hyperthreaded systems may strongly degrade performance!\n",
      "******  \n",
      "\n",
      "******  \n",
      "******  Warning: Requesting more threads (8) than the number of available logical cores (8) on hyperthreaded systems may strongly degrade performance!\n",
      "******  \n"
     ]
    },
    {
     "name": "stderr",
     "output_type": "stream",
     "text": [
      "[                                                  ] 1.0% "
     ]
    },
    {
     "name": "stdout",
     "output_type": "stream",
     "text": [
      "\n",
      "******  \n",
      "******  Warning: Requesting more threads (8) than the number of available logical cores (8) on hyperthreaded systems may strongly degrade performance!\n",
      "******  \n",
      "\n",
      "******  \n",
      "******  Warning: Requesting more threads (8) than the number of available logical cores (8) on hyperthreaded systems may strongly degrade performance!\n",
      "******  \n"
     ]
    },
    {
     "name": "stderr",
     "output_type": "stream",
     "text": [
      "[                                                  ] 1.5% "
     ]
    },
    {
     "name": "stdout",
     "output_type": "stream",
     "text": [
      "\n",
      "******  \n",
      "******  Warning: Requesting more threads (8) than the number of available logical cores (8) on hyperthreaded systems may strongly degrade performance!\n",
      "******  \n",
      "\n",
      "******  \n",
      "******  Warning: Requesting more threads (8) than the number of available logical cores (8) on hyperthreaded systems may strongly degrade performance!\n",
      "******  \n"
     ]
    },
    {
     "name": "stderr",
     "output_type": "stream",
     "text": [
      "[#                                                 ] 2.0% "
     ]
    },
    {
     "name": "stdout",
     "output_type": "stream",
     "text": [
      "\n",
      "******  \n",
      "******  Warning: Requesting more threads (8) than the number of available logical cores (8) on hyperthreaded systems may strongly degrade performance!\n",
      "******  \n",
      "\n",
      "******  \n",
      "******  Warning: Requesting more threads (8) than the number of available logical cores (8) on hyperthreaded systems may strongly degrade performance!\n",
      "******  \n"
     ]
    },
    {
     "name": "stderr",
     "output_type": "stream",
     "text": [
      "[#                                                 ] 2.5% "
     ]
    },
    {
     "name": "stdout",
     "output_type": "stream",
     "text": [
      "\n",
      "******  \n",
      "******  Warning: Requesting more threads (8) than the number of available logical cores (8) on hyperthreaded systems may strongly degrade performance!\n",
      "******  \n",
      "\n",
      "******  \n",
      "******  Warning: Requesting more threads (8) than the number of available logical cores (8) on hyperthreaded systems may strongly degrade performance!\n",
      "******  \n"
     ]
    },
    {
     "name": "stderr",
     "output_type": "stream",
     "text": [
      "[#                                                 ] 3.0% "
     ]
    },
    {
     "name": "stdout",
     "output_type": "stream",
     "text": [
      "\n",
      "******  \n",
      "******  Warning: Requesting more threads (8) than the number of available logical cores (8) on hyperthreaded systems may strongly degrade performance!\n",
      "******  \n",
      "\n",
      "******  \n",
      "******  Warning: Requesting more threads (8) than the number of available logical cores (8) on hyperthreaded systems may strongly degrade performance!\n",
      "******  \n"
     ]
    },
    {
     "name": "stderr",
     "output_type": "stream",
     "text": [
      "[#                                                 ] 3.5% "
     ]
    },
    {
     "name": "stdout",
     "output_type": "stream",
     "text": [
      "\n",
      "******  \n",
      "******  Warning: Requesting more threads (8) than the number of available logical cores (8) on hyperthreaded systems may strongly degrade performance!\n",
      "******  \n",
      "\n",
      "******  \n",
      "******  Warning: Requesting more threads (8) than the number of available logical cores (8) on hyperthreaded systems may strongly degrade performance!\n",
      "******  \n"
     ]
    },
    {
     "name": "stderr",
     "output_type": "stream",
     "text": [
      "[##                                                ] 4.0% "
     ]
    },
    {
     "name": "stdout",
     "output_type": "stream",
     "text": [
      "\n",
      "******  \n",
      "******  Warning: Requesting more threads (8) than the number of available logical cores (8) on hyperthreaded systems may strongly degrade performance!\n",
      "******  \n",
      "\n",
      "******  \n",
      "******  Warning: Requesting more threads (8) than the number of available logical cores (8) on hyperthreaded systems may strongly degrade performance!\n",
      "******  \n"
     ]
    },
    {
     "name": "stderr",
     "output_type": "stream",
     "text": [
      "[##                                                ] 4.5% "
     ]
    },
    {
     "name": "stdout",
     "output_type": "stream",
     "text": [
      "\n",
      "******  \n",
      "******  Warning: Requesting more threads (8) than the number of available logical cores (8) on hyperthreaded systems may strongly degrade performance!\n",
      "******  \n",
      "\n",
      "******  \n",
      "******  Warning: Requesting more threads (8) than the number of available logical cores (8) on hyperthreaded systems may strongly degrade performance!\n",
      "******  \n"
     ]
    },
    {
     "name": "stderr",
     "output_type": "stream",
     "text": [
      "[##                                                ] 5.0% "
     ]
    },
    {
     "name": "stdout",
     "output_type": "stream",
     "text": [
      "\n",
      "******  \n",
      "******  Warning: Requesting more threads (8) than the number of available logical cores (8) on hyperthreaded systems may strongly degrade performance!\n",
      "******  \n",
      "\n",
      "******  \n",
      "******  Warning: Requesting more threads (8) than the number of available logical cores (8) on hyperthreaded systems may strongly degrade performance!\n",
      "******  \n"
     ]
    },
    {
     "name": "stderr",
     "output_type": "stream",
     "text": [
      "[##                                                ] 5.5% "
     ]
    },
    {
     "name": "stdout",
     "output_type": "stream",
     "text": [
      "\n",
      "******  \n",
      "******  Warning: Requesting more threads (8) than the number of available logical cores (8) on hyperthreaded systems may strongly degrade performance!\n",
      "******  \n",
      "\n",
      "******  \n",
      "******  Warning: Requesting more threads (8) than the number of available logical cores (8) on hyperthreaded systems may strongly degrade performance!\n",
      "******  \n"
     ]
    },
    {
     "name": "stderr",
     "output_type": "stream",
     "text": [
      "[###                                               ] 6.0% "
     ]
    },
    {
     "name": "stdout",
     "output_type": "stream",
     "text": [
      "\n",
      "******  \n",
      "******  Warning: Requesting more threads (8) than the number of available logical cores (8) on hyperthreaded systems may strongly degrade performance!\n",
      "******  \n",
      "\n",
      "******  \n",
      "******  Warning: Requesting more threads (8) than the number of available logical cores (8) on hyperthreaded systems may strongly degrade performance!\n",
      "******  \n"
     ]
    },
    {
     "name": "stderr",
     "output_type": "stream",
     "text": [
      "[###                                               ] 6.5% "
     ]
    },
    {
     "name": "stdout",
     "output_type": "stream",
     "text": [
      "\n",
      "******  \n",
      "******  Warning: Requesting more threads (8) than the number of available logical cores (8) on hyperthreaded systems may strongly degrade performance!\n",
      "******  \n",
      "\n",
      "******  \n",
      "******  Warning: Requesting more threads (8) than the number of available logical cores (8) on hyperthreaded systems may strongly degrade performance!\n",
      "******  \n"
     ]
    },
    {
     "name": "stderr",
     "output_type": "stream",
     "text": [
      "[###                                               ] 7.0% "
     ]
    },
    {
     "name": "stdout",
     "output_type": "stream",
     "text": [
      "\n",
      "******  \n",
      "******  Warning: Requesting more threads (8) than the number of available logical cores (8) on hyperthreaded systems may strongly degrade performance!\n",
      "******  \n",
      "\n",
      "******  \n",
      "******  Warning: Requesting more threads (8) than the number of available logical cores (8) on hyperthreaded systems may strongly degrade performance!\n",
      "******  \n"
     ]
    },
    {
     "name": "stderr",
     "output_type": "stream",
     "text": [
      "[###                                               ] 7.5% "
     ]
    },
    {
     "name": "stdout",
     "output_type": "stream",
     "text": [
      "\n",
      "******  \n",
      "******  Warning: Requesting more threads (8) than the number of available logical cores (8) on hyperthreaded systems may strongly degrade performance!\n",
      "******  \n",
      "\n",
      "******  \n",
      "******  Warning: Requesting more threads (8) than the number of available logical cores (8) on hyperthreaded systems may strongly degrade performance!\n",
      "******  \n"
     ]
    },
    {
     "name": "stderr",
     "output_type": "stream",
     "text": [
      "[####                                              ] 8.0% "
     ]
    },
    {
     "name": "stdout",
     "output_type": "stream",
     "text": [
      "\n",
      "******  \n",
      "******  Warning: Requesting more threads (8) than the number of available logical cores (8) on hyperthreaded systems may strongly degrade performance!\n",
      "******  \n",
      "\n",
      "******  \n",
      "******  Warning: Requesting more threads (8) than the number of available logical cores (8) on hyperthreaded systems may strongly degrade performance!\n",
      "******  \n"
     ]
    },
    {
     "name": "stderr",
     "output_type": "stream",
     "text": [
      "[####                                              ] 8.5% "
     ]
    },
    {
     "name": "stdout",
     "output_type": "stream",
     "text": [
      "\n",
      "******  \n",
      "******  Warning: Requesting more threads (8) than the number of available logical cores (8) on hyperthreaded systems may strongly degrade performance!\n",
      "******  \n",
      "\n",
      "******  \n",
      "******  Warning: Requesting more threads (8) than the number of available logical cores (8) on hyperthreaded systems may strongly degrade performance!\n",
      "******  \n"
     ]
    },
    {
     "name": "stderr",
     "output_type": "stream",
     "text": [
      "[####                                              ] 9.0% "
     ]
    },
    {
     "name": "stdout",
     "output_type": "stream",
     "text": [
      "\n",
      "******  \n",
      "******  Warning: Requesting more threads (8) than the number of available logical cores (8) on hyperthreaded systems may strongly degrade performance!\n",
      "******  \n",
      "\n",
      "******  \n",
      "******  Warning: Requesting more threads (8) than the number of available logical cores (8) on hyperthreaded systems may strongly degrade performance!\n",
      "******  \n"
     ]
    },
    {
     "name": "stderr",
     "output_type": "stream",
     "text": [
      "[####                                              ] 9.5% "
     ]
    },
    {
     "name": "stdout",
     "output_type": "stream",
     "text": [
      "\n",
      "******  \n",
      "******  Warning: Requesting more threads (8) than the number of available logical cores (8) on hyperthreaded systems may strongly degrade performance!\n",
      "******  \n",
      "\n",
      "******  \n",
      "******  Warning: Requesting more threads (8) than the number of available logical cores (8) on hyperthreaded systems may strongly degrade performance!\n",
      "******  \n"
     ]
    },
    {
     "name": "stderr",
     "output_type": "stream",
     "text": [
      "[#####                                             ] 10.0% "
     ]
    },
    {
     "name": "stdout",
     "output_type": "stream",
     "text": [
      "\n",
      "******  \n",
      "******  Warning: Requesting more threads (8) than the number of available logical cores (8) on hyperthreaded systems may strongly degrade performance!\n",
      "******  \n",
      "\n",
      "******  \n",
      "******  Warning: Requesting more threads (8) than the number of available logical cores (8) on hyperthreaded systems may strongly degrade performance!\n",
      "******  \n"
     ]
    },
    {
     "name": "stderr",
     "output_type": "stream",
     "text": [
      "[#####                                             ] 10.5% "
     ]
    },
    {
     "name": "stdout",
     "output_type": "stream",
     "text": [
      "\n",
      "******  \n",
      "******  Warning: Requesting more threads (8) than the number of available logical cores (8) on hyperthreaded systems may strongly degrade performance!\n",
      "******  \n",
      "\n",
      "******  \n",
      "******  Warning: Requesting more threads (8) than the number of available logical cores (8) on hyperthreaded systems may strongly degrade performance!\n",
      "******  \n"
     ]
    },
    {
     "name": "stderr",
     "output_type": "stream",
     "text": [
      "[#####                                             ] 11.0% "
     ]
    },
    {
     "name": "stdout",
     "output_type": "stream",
     "text": [
      "\n",
      "******  \n",
      "******  Warning: Requesting more threads (8) than the number of available logical cores (8) on hyperthreaded systems may strongly degrade performance!\n",
      "******  \n",
      "\n",
      "******  \n",
      "******  Warning: Requesting more threads (8) than the number of available logical cores (8) on hyperthreaded systems may strongly degrade performance!\n",
      "******  \n"
     ]
    },
    {
     "name": "stderr",
     "output_type": "stream",
     "text": [
      "[#####                                             ] 11.5% "
     ]
    },
    {
     "name": "stdout",
     "output_type": "stream",
     "text": [
      "\n",
      "******  \n",
      "******  Warning: Requesting more threads (8) than the number of available logical cores (8) on hyperthreaded systems may strongly degrade performance!\n",
      "******  \n",
      "\n",
      "******  \n",
      "******  Warning: Requesting more threads (8) than the number of available logical cores (8) on hyperthreaded systems may strongly degrade performance!\n",
      "******  \n"
     ]
    },
    {
     "name": "stderr",
     "output_type": "stream",
     "text": [
      "[######                                            ] 12.0% "
     ]
    },
    {
     "name": "stdout",
     "output_type": "stream",
     "text": [
      "\n",
      "******  \n",
      "******  Warning: Requesting more threads (8) than the number of available logical cores (8) on hyperthreaded systems may strongly degrade performance!\n",
      "******  \n",
      "\n",
      "******  \n",
      "******  Warning: Requesting more threads (8) than the number of available logical cores (8) on hyperthreaded systems may strongly degrade performance!\n",
      "******  \n"
     ]
    },
    {
     "name": "stderr",
     "output_type": "stream",
     "text": [
      "[######                                            ] 12.5% "
     ]
    },
    {
     "name": "stdout",
     "output_type": "stream",
     "text": [
      "\n",
      "******  \n",
      "******  Warning: Requesting more threads (8) than the number of available logical cores (8) on hyperthreaded systems may strongly degrade performance!\n",
      "******  \n",
      "\n",
      "******  \n",
      "******  Warning: Requesting more threads (8) than the number of available logical cores (8) on hyperthreaded systems may strongly degrade performance!\n",
      "******  \n"
     ]
    },
    {
     "name": "stderr",
     "output_type": "stream",
     "text": [
      "[######                                            ] 13.0% "
     ]
    },
    {
     "name": "stdout",
     "output_type": "stream",
     "text": [
      "\n",
      "******  \n",
      "******  Warning: Requesting more threads (8) than the number of available logical cores (8) on hyperthreaded systems may strongly degrade performance!\n",
      "******  \n",
      "\n",
      "******  \n",
      "******  Warning: Requesting more threads (8) than the number of available logical cores (8) on hyperthreaded systems may strongly degrade performance!\n",
      "******  \n"
     ]
    },
    {
     "name": "stderr",
     "output_type": "stream",
     "text": [
      "[######                                            ] 13.5% "
     ]
    },
    {
     "name": "stdout",
     "output_type": "stream",
     "text": [
      "\n",
      "******  \n",
      "******  Warning: Requesting more threads (8) than the number of available logical cores (8) on hyperthreaded systems may strongly degrade performance!\n",
      "******  \n",
      "\n",
      "******  \n",
      "******  Warning: Requesting more threads (8) than the number of available logical cores (8) on hyperthreaded systems may strongly degrade performance!\n",
      "******  \n"
     ]
    },
    {
     "name": "stderr",
     "output_type": "stream",
     "text": [
      "[#######                                           ] 14.0% "
     ]
    },
    {
     "name": "stdout",
     "output_type": "stream",
     "text": [
      "\n",
      "******  \n",
      "******  Warning: Requesting more threads (8) than the number of available logical cores (8) on hyperthreaded systems may strongly degrade performance!\n",
      "******  \n",
      "\n",
      "******  \n",
      "******  Warning: Requesting more threads (8) than the number of available logical cores (8) on hyperthreaded systems may strongly degrade performance!\n",
      "******  \n"
     ]
    },
    {
     "name": "stderr",
     "output_type": "stream",
     "text": [
      "[#######                                           ] 14.5% "
     ]
    },
    {
     "name": "stdout",
     "output_type": "stream",
     "text": [
      "\n",
      "******  \n",
      "******  Warning: Requesting more threads (8) than the number of available logical cores (8) on hyperthreaded systems may strongly degrade performance!\n",
      "******  \n",
      "\n",
      "******  \n",
      "******  Warning: Requesting more threads (8) than the number of available logical cores (8) on hyperthreaded systems may strongly degrade performance!\n",
      "******  \n"
     ]
    },
    {
     "name": "stderr",
     "output_type": "stream",
     "text": [
      "[#######                                           ] 15.0% "
     ]
    },
    {
     "name": "stdout",
     "output_type": "stream",
     "text": [
      "\n",
      "******  \n",
      "******  Warning: Requesting more threads (8) than the number of available logical cores (8) on hyperthreaded systems may strongly degrade performance!\n",
      "******  \n",
      "\n",
      "******  \n",
      "******  Warning: Requesting more threads (8) than the number of available logical cores (8) on hyperthreaded systems may strongly degrade performance!\n",
      "******  \n"
     ]
    },
    {
     "name": "stderr",
     "output_type": "stream",
     "text": [
      "[#######                                           ] 15.5% "
     ]
    },
    {
     "name": "stdout",
     "output_type": "stream",
     "text": [
      "\n",
      "******  \n",
      "******  Warning: Requesting more threads (8) than the number of available logical cores (8) on hyperthreaded systems may strongly degrade performance!\n",
      "******  \n",
      "\n",
      "******  \n",
      "******  Warning: Requesting more threads (8) than the number of available logical cores (8) on hyperthreaded systems may strongly degrade performance!\n",
      "******  \n"
     ]
    },
    {
     "name": "stderr",
     "output_type": "stream",
     "text": [
      "[########                                          ] 16.0% "
     ]
    },
    {
     "name": "stdout",
     "output_type": "stream",
     "text": [
      "\n",
      "******  \n",
      "******  Warning: Requesting more threads (8) than the number of available logical cores (8) on hyperthreaded systems may strongly degrade performance!\n",
      "******  \n",
      "\n",
      "******  \n",
      "******  Warning: Requesting more threads (8) than the number of available logical cores (8) on hyperthreaded systems may strongly degrade performance!\n",
      "******  \n"
     ]
    },
    {
     "name": "stderr",
     "output_type": "stream",
     "text": [
      "[########                                          ] 16.5% "
     ]
    },
    {
     "name": "stdout",
     "output_type": "stream",
     "text": [
      "\n",
      "******  \n",
      "******  Warning: Requesting more threads (8) than the number of available logical cores (8) on hyperthreaded systems may strongly degrade performance!\n",
      "******  \n",
      "\n",
      "******  \n",
      "******  Warning: Requesting more threads (8) than the number of available logical cores (8) on hyperthreaded systems may strongly degrade performance!\n",
      "******  \n"
     ]
    },
    {
     "name": "stderr",
     "output_type": "stream",
     "text": [
      "[########                                          ] 17.0% "
     ]
    },
    {
     "name": "stdout",
     "output_type": "stream",
     "text": [
      "\n",
      "******  \n",
      "******  Warning: Requesting more threads (8) than the number of available logical cores (8) on hyperthreaded systems may strongly degrade performance!\n",
      "******  \n",
      "\n",
      "******  \n",
      "******  Warning: Requesting more threads (8) than the number of available logical cores (8) on hyperthreaded systems may strongly degrade performance!\n",
      "******  \n"
     ]
    },
    {
     "name": "stderr",
     "output_type": "stream",
     "text": [
      "[########                                          ] 17.5% "
     ]
    },
    {
     "name": "stdout",
     "output_type": "stream",
     "text": [
      "\n",
      "******  \n",
      "******  Warning: Requesting more threads (8) than the number of available logical cores (8) on hyperthreaded systems may strongly degrade performance!\n",
      "******  \n",
      "\n",
      "******  \n",
      "******  Warning: Requesting more threads (8) than the number of available logical cores (8) on hyperthreaded systems may strongly degrade performance!\n",
      "******  \n"
     ]
    },
    {
     "name": "stderr",
     "output_type": "stream",
     "text": [
      "[#########                                         ] 18.0% "
     ]
    },
    {
     "name": "stdout",
     "output_type": "stream",
     "text": [
      "\n",
      "******  \n",
      "******  Warning: Requesting more threads (8) than the number of available logical cores (8) on hyperthreaded systems may strongly degrade performance!\n",
      "******  \n",
      "\n",
      "******  \n",
      "******  Warning: Requesting more threads (8) than the number of available logical cores (8) on hyperthreaded systems may strongly degrade performance!\n",
      "******  \n"
     ]
    },
    {
     "name": "stderr",
     "output_type": "stream",
     "text": [
      "[#########                                         ] 18.5% "
     ]
    },
    {
     "name": "stdout",
     "output_type": "stream",
     "text": [
      "\n",
      "******  \n",
      "******  Warning: Requesting more threads (8) than the number of available logical cores (8) on hyperthreaded systems may strongly degrade performance!\n",
      "******  \n",
      "\n",
      "******  \n",
      "******  Warning: Requesting more threads (8) than the number of available logical cores (8) on hyperthreaded systems may strongly degrade performance!\n",
      "******  \n"
     ]
    },
    {
     "name": "stderr",
     "output_type": "stream",
     "text": [
      "[#########                                         ] 19.0% "
     ]
    },
    {
     "name": "stdout",
     "output_type": "stream",
     "text": [
      "\n",
      "******  \n",
      "******  Warning: Requesting more threads (8) than the number of available logical cores (8) on hyperthreaded systems may strongly degrade performance!\n",
      "******  \n",
      "\n",
      "******  \n",
      "******  Warning: Requesting more threads (8) than the number of available logical cores (8) on hyperthreaded systems may strongly degrade performance!\n",
      "******  \n"
     ]
    },
    {
     "name": "stderr",
     "output_type": "stream",
     "text": [
      "[#########                                         ] 19.5% "
     ]
    },
    {
     "name": "stdout",
     "output_type": "stream",
     "text": [
      "\n",
      "******  \n",
      "******  Warning: Requesting more threads (8) than the number of available logical cores (8) on hyperthreaded systems may strongly degrade performance!\n",
      "******  \n",
      "\n",
      "******  \n",
      "******  Warning: Requesting more threads (8) than the number of available logical cores (8) on hyperthreaded systems may strongly degrade performance!\n",
      "******  \n"
     ]
    },
    {
     "name": "stderr",
     "output_type": "stream",
     "text": [
      "[##########                                        ] 20.0% "
     ]
    },
    {
     "name": "stdout",
     "output_type": "stream",
     "text": [
      "\n",
      "******  \n",
      "******  Warning: Requesting more threads (8) than the number of available logical cores (8) on hyperthreaded systems may strongly degrade performance!\n",
      "******  \n",
      "\n",
      "******  \n",
      "******  Warning: Requesting more threads (8) than the number of available logical cores (8) on hyperthreaded systems may strongly degrade performance!\n",
      "******  \n"
     ]
    },
    {
     "name": "stderr",
     "output_type": "stream",
     "text": [
      "[##########                                        ] 20.5% "
     ]
    },
    {
     "name": "stdout",
     "output_type": "stream",
     "text": [
      "\n",
      "******  \n",
      "******  Warning: Requesting more threads (8) than the number of available logical cores (8) on hyperthreaded systems may strongly degrade performance!\n",
      "******  \n",
      "\n",
      "******  \n",
      "******  Warning: Requesting more threads (8) than the number of available logical cores (8) on hyperthreaded systems may strongly degrade performance!\n",
      "******  \n"
     ]
    },
    {
     "name": "stderr",
     "output_type": "stream",
     "text": [
      "[##########                                        ] 21.0% "
     ]
    },
    {
     "name": "stdout",
     "output_type": "stream",
     "text": [
      "\n",
      "******  \n",
      "******  Warning: Requesting more threads (8) than the number of available logical cores (8) on hyperthreaded systems may strongly degrade performance!\n",
      "******  \n",
      "\n",
      "******  \n",
      "******  Warning: Requesting more threads (8) than the number of available logical cores (8) on hyperthreaded systems may strongly degrade performance!\n",
      "******  \n"
     ]
    },
    {
     "name": "stderr",
     "output_type": "stream",
     "text": [
      "[##########                                        ] 21.5% "
     ]
    },
    {
     "name": "stdout",
     "output_type": "stream",
     "text": [
      "\n",
      "******  \n",
      "******  Warning: Requesting more threads (8) than the number of available logical cores (8) on hyperthreaded systems may strongly degrade performance!\n",
      "******  \n",
      "\n",
      "******  \n",
      "******  Warning: Requesting more threads (8) than the number of available logical cores (8) on hyperthreaded systems may strongly degrade performance!\n",
      "******  \n"
     ]
    },
    {
     "name": "stderr",
     "output_type": "stream",
     "text": [
      "[###########                                       ] 22.0% "
     ]
    },
    {
     "name": "stdout",
     "output_type": "stream",
     "text": [
      "\n",
      "******  \n",
      "******  Warning: Requesting more threads (8) than the number of available logical cores (8) on hyperthreaded systems may strongly degrade performance!\n",
      "******  \n",
      "\n",
      "******  \n",
      "******  Warning: Requesting more threads (8) than the number of available logical cores (8) on hyperthreaded systems may strongly degrade performance!\n",
      "******  \n"
     ]
    },
    {
     "name": "stderr",
     "output_type": "stream",
     "text": [
      "[###########                                       ] 22.5% "
     ]
    },
    {
     "name": "stdout",
     "output_type": "stream",
     "text": [
      "\n",
      "******  \n",
      "******  Warning: Requesting more threads (8) than the number of available logical cores (8) on hyperthreaded systems may strongly degrade performance!\n",
      "******  \n",
      "\n",
      "******  \n",
      "******  Warning: Requesting more threads (8) than the number of available logical cores (8) on hyperthreaded systems may strongly degrade performance!\n",
      "******  \n"
     ]
    },
    {
     "name": "stderr",
     "output_type": "stream",
     "text": [
      "[###########                                       ] 23.0% "
     ]
    },
    {
     "name": "stdout",
     "output_type": "stream",
     "text": [
      "\n",
      "******  \n",
      "******  Warning: Requesting more threads (8) than the number of available logical cores (8) on hyperthreaded systems may strongly degrade performance!\n",
      "******  \n",
      "\n",
      "******  \n",
      "******  Warning: Requesting more threads (8) than the number of available logical cores (8) on hyperthreaded systems may strongly degrade performance!\n",
      "******  \n"
     ]
    },
    {
     "name": "stderr",
     "output_type": "stream",
     "text": [
      "[###########                                       ] 23.5% "
     ]
    },
    {
     "name": "stdout",
     "output_type": "stream",
     "text": [
      "\n",
      "******  \n",
      "******  Warning: Requesting more threads (8) than the number of available logical cores (8) on hyperthreaded systems may strongly degrade performance!\n",
      "******  \n",
      "\n",
      "******  \n",
      "******  Warning: Requesting more threads (8) than the number of available logical cores (8) on hyperthreaded systems may strongly degrade performance!\n",
      "******  \n"
     ]
    },
    {
     "name": "stderr",
     "output_type": "stream",
     "text": [
      "[############                                      ] 24.0% "
     ]
    },
    {
     "name": "stdout",
     "output_type": "stream",
     "text": [
      "\n",
      "******  \n",
      "******  Warning: Requesting more threads (8) than the number of available logical cores (8) on hyperthreaded systems may strongly degrade performance!\n",
      "******  \n",
      "\n",
      "******  \n",
      "******  Warning: Requesting more threads (8) than the number of available logical cores (8) on hyperthreaded systems may strongly degrade performance!\n",
      "******  \n"
     ]
    },
    {
     "name": "stderr",
     "output_type": "stream",
     "text": [
      "[############                                      ] 24.5% "
     ]
    },
    {
     "name": "stdout",
     "output_type": "stream",
     "text": [
      "\n",
      "******  \n",
      "******  Warning: Requesting more threads (8) than the number of available logical cores (8) on hyperthreaded systems may strongly degrade performance!\n",
      "******  \n",
      "\n",
      "******  \n",
      "******  Warning: Requesting more threads (8) than the number of available logical cores (8) on hyperthreaded systems may strongly degrade performance!\n",
      "******  \n"
     ]
    },
    {
     "name": "stderr",
     "output_type": "stream",
     "text": [
      "[############                                      ] 25.0% "
     ]
    },
    {
     "name": "stdout",
     "output_type": "stream",
     "text": [
      "\n",
      "******  \n",
      "******  Warning: Requesting more threads (8) than the number of available logical cores (8) on hyperthreaded systems may strongly degrade performance!\n",
      "******  \n",
      "\n",
      "******  \n",
      "******  Warning: Requesting more threads (8) than the number of available logical cores (8) on hyperthreaded systems may strongly degrade performance!\n",
      "******  \n"
     ]
    },
    {
     "name": "stderr",
     "output_type": "stream",
     "text": [
      "[############                                      ] 25.5% "
     ]
    },
    {
     "name": "stdout",
     "output_type": "stream",
     "text": [
      "\n",
      "******  \n",
      "******  Warning: Requesting more threads (8) than the number of available logical cores (8) on hyperthreaded systems may strongly degrade performance!\n",
      "******  \n",
      "\n",
      "******  \n",
      "******  Warning: Requesting more threads (8) than the number of available logical cores (8) on hyperthreaded systems may strongly degrade performance!\n",
      "******  \n"
     ]
    },
    {
     "name": "stderr",
     "output_type": "stream",
     "text": [
      "[#############                                     ] 26.0% "
     ]
    },
    {
     "name": "stdout",
     "output_type": "stream",
     "text": [
      "\n",
      "******  \n",
      "******  Warning: Requesting more threads (8) than the number of available logical cores (8) on hyperthreaded systems may strongly degrade performance!\n",
      "******  \n",
      "\n",
      "******  \n",
      "******  Warning: Requesting more threads (8) than the number of available logical cores (8) on hyperthreaded systems may strongly degrade performance!\n",
      "******  \n"
     ]
    },
    {
     "name": "stderr",
     "output_type": "stream",
     "text": [
      "[#############                                     ] 26.5% "
     ]
    },
    {
     "name": "stdout",
     "output_type": "stream",
     "text": [
      "\n",
      "******  \n",
      "******  Warning: Requesting more threads (8) than the number of available logical cores (8) on hyperthreaded systems may strongly degrade performance!\n",
      "******  \n",
      "\n",
      "******  \n",
      "******  Warning: Requesting more threads (8) than the number of available logical cores (8) on hyperthreaded systems may strongly degrade performance!\n",
      "******  \n"
     ]
    },
    {
     "name": "stderr",
     "output_type": "stream",
     "text": [
      "[#############                                     ] 27.0% "
     ]
    },
    {
     "name": "stdout",
     "output_type": "stream",
     "text": [
      "\n",
      "******  \n",
      "******  Warning: Requesting more threads (8) than the number of available logical cores (8) on hyperthreaded systems may strongly degrade performance!\n",
      "******  \n",
      "\n",
      "******  \n",
      "******  Warning: Requesting more threads (8) than the number of available logical cores (8) on hyperthreaded systems may strongly degrade performance!\n",
      "******  \n"
     ]
    },
    {
     "name": "stderr",
     "output_type": "stream",
     "text": [
      "[#############                                     ] 27.5% "
     ]
    },
    {
     "name": "stdout",
     "output_type": "stream",
     "text": [
      "\n",
      "******  \n",
      "******  Warning: Requesting more threads (8) than the number of available logical cores (8) on hyperthreaded systems may strongly degrade performance!\n",
      "******  \n",
      "\n",
      "******  \n",
      "******  Warning: Requesting more threads (8) than the number of available logical cores (8) on hyperthreaded systems may strongly degrade performance!\n",
      "******  \n"
     ]
    },
    {
     "name": "stderr",
     "output_type": "stream",
     "text": [
      "[##############                                    ] 28.0% "
     ]
    },
    {
     "name": "stdout",
     "output_type": "stream",
     "text": [
      "\n",
      "******  \n",
      "******  Warning: Requesting more threads (8) than the number of available logical cores (8) on hyperthreaded systems may strongly degrade performance!\n",
      "******  \n",
      "\n",
      "******  \n",
      "******  Warning: Requesting more threads (8) than the number of available logical cores (8) on hyperthreaded systems may strongly degrade performance!\n",
      "******  \n"
     ]
    },
    {
     "name": "stderr",
     "output_type": "stream",
     "text": [
      "[##############                                    ] 28.5% "
     ]
    },
    {
     "name": "stdout",
     "output_type": "stream",
     "text": [
      "\n",
      "******  \n",
      "******  Warning: Requesting more threads (8) than the number of available logical cores (8) on hyperthreaded systems may strongly degrade performance!\n",
      "******  \n",
      "\n",
      "******  \n",
      "******  Warning: Requesting more threads (8) than the number of available logical cores (8) on hyperthreaded systems may strongly degrade performance!\n",
      "******  \n"
     ]
    },
    {
     "name": "stderr",
     "output_type": "stream",
     "text": [
      "[##############                                    ] 29.0% "
     ]
    },
    {
     "name": "stdout",
     "output_type": "stream",
     "text": [
      "\n",
      "******  \n",
      "******  Warning: Requesting more threads (8) than the number of available logical cores (8) on hyperthreaded systems may strongly degrade performance!\n",
      "******  \n",
      "\n",
      "******  \n",
      "******  Warning: Requesting more threads (8) than the number of available logical cores (8) on hyperthreaded systems may strongly degrade performance!\n",
      "******  \n"
     ]
    },
    {
     "name": "stderr",
     "output_type": "stream",
     "text": [
      "[##############                                    ] 29.5% "
     ]
    },
    {
     "name": "stdout",
     "output_type": "stream",
     "text": [
      "\n",
      "******  \n",
      "******  Warning: Requesting more threads (8) than the number of available logical cores (8) on hyperthreaded systems may strongly degrade performance!\n",
      "******  \n",
      "\n",
      "******  \n",
      "******  Warning: Requesting more threads (8) than the number of available logical cores (8) on hyperthreaded systems may strongly degrade performance!\n",
      "******  \n"
     ]
    },
    {
     "name": "stderr",
     "output_type": "stream",
     "text": [
      "[###############                                   ] 30.0% "
     ]
    },
    {
     "name": "stdout",
     "output_type": "stream",
     "text": [
      "\n",
      "******  \n",
      "******  Warning: Requesting more threads (8) than the number of available logical cores (8) on hyperthreaded systems may strongly degrade performance!\n",
      "******  \n",
      "\n",
      "******  \n",
      "******  Warning: Requesting more threads (8) than the number of available logical cores (8) on hyperthreaded systems may strongly degrade performance!\n",
      "******  \n"
     ]
    },
    {
     "name": "stderr",
     "output_type": "stream",
     "text": [
      "[###############                                   ] 30.5% "
     ]
    },
    {
     "name": "stdout",
     "output_type": "stream",
     "text": [
      "\n",
      "******  \n",
      "******  Warning: Requesting more threads (8) than the number of available logical cores (8) on hyperthreaded systems may strongly degrade performance!\n",
      "******  \n",
      "\n",
      "******  \n",
      "******  Warning: Requesting more threads (8) than the number of available logical cores (8) on hyperthreaded systems may strongly degrade performance!\n",
      "******  \n"
     ]
    },
    {
     "name": "stderr",
     "output_type": "stream",
     "text": [
      "[###############                                   ] 31.0% "
     ]
    },
    {
     "name": "stdout",
     "output_type": "stream",
     "text": [
      "\n",
      "******  \n",
      "******  Warning: Requesting more threads (8) than the number of available logical cores (8) on hyperthreaded systems may strongly degrade performance!\n",
      "******  \n",
      "\n",
      "******  \n",
      "******  Warning: Requesting more threads (8) than the number of available logical cores (8) on hyperthreaded systems may strongly degrade performance!\n",
      "******  \n"
     ]
    },
    {
     "name": "stderr",
     "output_type": "stream",
     "text": [
      "[###############                                   ] 31.5% "
     ]
    },
    {
     "name": "stdout",
     "output_type": "stream",
     "text": [
      "\n",
      "******  \n",
      "******  Warning: Requesting more threads (8) than the number of available logical cores (8) on hyperthreaded systems may strongly degrade performance!\n",
      "******  \n",
      "\n",
      "******  \n",
      "******  Warning: Requesting more threads (8) than the number of available logical cores (8) on hyperthreaded systems may strongly degrade performance!\n",
      "******  \n"
     ]
    },
    {
     "name": "stderr",
     "output_type": "stream",
     "text": [
      "[################                                  ] 32.0% "
     ]
    },
    {
     "name": "stdout",
     "output_type": "stream",
     "text": [
      "\n",
      "******  \n",
      "******  Warning: Requesting more threads (8) than the number of available logical cores (8) on hyperthreaded systems may strongly degrade performance!\n",
      "******  \n",
      "\n",
      "******  \n",
      "******  Warning: Requesting more threads (8) than the number of available logical cores (8) on hyperthreaded systems may strongly degrade performance!\n",
      "******  \n"
     ]
    },
    {
     "name": "stderr",
     "output_type": "stream",
     "text": [
      "[################                                  ] 32.5% "
     ]
    },
    {
     "name": "stdout",
     "output_type": "stream",
     "text": [
      "\n",
      "******  \n",
      "******  Warning: Requesting more threads (8) than the number of available logical cores (8) on hyperthreaded systems may strongly degrade performance!\n",
      "******  \n",
      "\n",
      "******  \n",
      "******  Warning: Requesting more threads (8) than the number of available logical cores (8) on hyperthreaded systems may strongly degrade performance!\n",
      "******  \n"
     ]
    },
    {
     "name": "stderr",
     "output_type": "stream",
     "text": [
      "[################                                  ] 33.0% "
     ]
    },
    {
     "name": "stdout",
     "output_type": "stream",
     "text": [
      "\n",
      "******  \n",
      "******  Warning: Requesting more threads (8) than the number of available logical cores (8) on hyperthreaded systems may strongly degrade performance!\n",
      "******  \n",
      "\n",
      "******  \n",
      "******  Warning: Requesting more threads (8) than the number of available logical cores (8) on hyperthreaded systems may strongly degrade performance!\n",
      "******  \n"
     ]
    },
    {
     "name": "stderr",
     "output_type": "stream",
     "text": [
      "[################                                  ] 33.5% "
     ]
    },
    {
     "name": "stdout",
     "output_type": "stream",
     "text": [
      "\n",
      "******  \n",
      "******  Warning: Requesting more threads (8) than the number of available logical cores (8) on hyperthreaded systems may strongly degrade performance!\n",
      "******  \n",
      "\n",
      "******  \n",
      "******  Warning: Requesting more threads (8) than the number of available logical cores (8) on hyperthreaded systems may strongly degrade performance!\n",
      "******  \n"
     ]
    },
    {
     "name": "stderr",
     "output_type": "stream",
     "text": [
      "[#################                                 ] 34.0% "
     ]
    },
    {
     "name": "stdout",
     "output_type": "stream",
     "text": [
      "\n",
      "******  \n",
      "******  Warning: Requesting more threads (8) than the number of available logical cores (8) on hyperthreaded systems may strongly degrade performance!\n",
      "******  \n",
      "\n",
      "******  \n",
      "******  Warning: Requesting more threads (8) than the number of available logical cores (8) on hyperthreaded systems may strongly degrade performance!\n",
      "******  \n"
     ]
    },
    {
     "name": "stderr",
     "output_type": "stream",
     "text": [
      "[#################                                 ] 34.5% "
     ]
    },
    {
     "name": "stdout",
     "output_type": "stream",
     "text": [
      "\n",
      "******  \n",
      "******  Warning: Requesting more threads (8) than the number of available logical cores (8) on hyperthreaded systems may strongly degrade performance!\n",
      "******  \n",
      "\n",
      "******  \n",
      "******  Warning: Requesting more threads (8) than the number of available logical cores (8) on hyperthreaded systems may strongly degrade performance!\n",
      "******  \n"
     ]
    },
    {
     "name": "stderr",
     "output_type": "stream",
     "text": [
      "[#################                                 ] 35.0% "
     ]
    },
    {
     "name": "stdout",
     "output_type": "stream",
     "text": [
      "\n",
      "******  \n",
      "******  Warning: Requesting more threads (8) than the number of available logical cores (8) on hyperthreaded systems may strongly degrade performance!\n",
      "******  \n",
      "\n",
      "******  \n",
      "******  Warning: Requesting more threads (8) than the number of available logical cores (8) on hyperthreaded systems may strongly degrade performance!\n",
      "******  \n"
     ]
    },
    {
     "name": "stderr",
     "output_type": "stream",
     "text": [
      "[#################                                 ] 35.5% "
     ]
    },
    {
     "name": "stdout",
     "output_type": "stream",
     "text": [
      "\n",
      "******  \n",
      "******  Warning: Requesting more threads (8) than the number of available logical cores (8) on hyperthreaded systems may strongly degrade performance!\n",
      "******  \n",
      "\n",
      "******  \n",
      "******  Warning: Requesting more threads (8) than the number of available logical cores (8) on hyperthreaded systems may strongly degrade performance!\n",
      "******  \n"
     ]
    },
    {
     "name": "stderr",
     "output_type": "stream",
     "text": [
      "[##################                                ] 36.0% "
     ]
    },
    {
     "name": "stdout",
     "output_type": "stream",
     "text": [
      "\n",
      "******  \n",
      "******  Warning: Requesting more threads (8) than the number of available logical cores (8) on hyperthreaded systems may strongly degrade performance!\n",
      "******  \n",
      "\n",
      "******  \n",
      "******  Warning: Requesting more threads (8) than the number of available logical cores (8) on hyperthreaded systems may strongly degrade performance!\n",
      "******  \n"
     ]
    },
    {
     "name": "stderr",
     "output_type": "stream",
     "text": [
      "[##################                                ] 36.5% "
     ]
    },
    {
     "name": "stdout",
     "output_type": "stream",
     "text": [
      "\n",
      "******  \n",
      "******  Warning: Requesting more threads (8) than the number of available logical cores (8) on hyperthreaded systems may strongly degrade performance!\n",
      "******  \n",
      "\n",
      "******  \n",
      "******  Warning: Requesting more threads (8) than the number of available logical cores (8) on hyperthreaded systems may strongly degrade performance!\n",
      "******  \n"
     ]
    },
    {
     "name": "stderr",
     "output_type": "stream",
     "text": [
      "[##################                                ] 37.0% "
     ]
    },
    {
     "name": "stdout",
     "output_type": "stream",
     "text": [
      "\n",
      "******  \n",
      "******  Warning: Requesting more threads (8) than the number of available logical cores (8) on hyperthreaded systems may strongly degrade performance!\n",
      "******  \n",
      "\n",
      "******  \n",
      "******  Warning: Requesting more threads (8) than the number of available logical cores (8) on hyperthreaded systems may strongly degrade performance!\n",
      "******  \n"
     ]
    },
    {
     "name": "stderr",
     "output_type": "stream",
     "text": [
      "[##################                                ] 37.5% "
     ]
    },
    {
     "name": "stdout",
     "output_type": "stream",
     "text": [
      "\n",
      "******  \n",
      "******  Warning: Requesting more threads (8) than the number of available logical cores (8) on hyperthreaded systems may strongly degrade performance!\n",
      "******  \n",
      "\n",
      "******  \n",
      "******  Warning: Requesting more threads (8) than the number of available logical cores (8) on hyperthreaded systems may strongly degrade performance!\n",
      "******  \n"
     ]
    },
    {
     "name": "stderr",
     "output_type": "stream",
     "text": [
      "[###################                               ] 38.0% "
     ]
    },
    {
     "name": "stdout",
     "output_type": "stream",
     "text": [
      "\n",
      "******  \n",
      "******  Warning: Requesting more threads (8) than the number of available logical cores (8) on hyperthreaded systems may strongly degrade performance!\n",
      "******  \n",
      "\n",
      "******  \n",
      "******  Warning: Requesting more threads (8) than the number of available logical cores (8) on hyperthreaded systems may strongly degrade performance!\n",
      "******  \n"
     ]
    },
    {
     "name": "stderr",
     "output_type": "stream",
     "text": [
      "[###################                               ] 38.5% "
     ]
    },
    {
     "name": "stdout",
     "output_type": "stream",
     "text": [
      "\n",
      "******  \n",
      "******  Warning: Requesting more threads (8) than the number of available logical cores (8) on hyperthreaded systems may strongly degrade performance!\n",
      "******  \n",
      "\n",
      "******  \n",
      "******  Warning: Requesting more threads (8) than the number of available logical cores (8) on hyperthreaded systems may strongly degrade performance!\n",
      "******  \n"
     ]
    },
    {
     "name": "stderr",
     "output_type": "stream",
     "text": [
      "[###################                               ] 39.0% "
     ]
    },
    {
     "name": "stdout",
     "output_type": "stream",
     "text": [
      "\n",
      "******  \n",
      "******  Warning: Requesting more threads (8) than the number of available logical cores (8) on hyperthreaded systems may strongly degrade performance!\n",
      "******  \n",
      "\n",
      "******  \n",
      "******  Warning: Requesting more threads (8) than the number of available logical cores (8) on hyperthreaded systems may strongly degrade performance!\n",
      "******  \n"
     ]
    },
    {
     "name": "stderr",
     "output_type": "stream",
     "text": [
      "[###################                               ] 39.5% "
     ]
    },
    {
     "name": "stdout",
     "output_type": "stream",
     "text": [
      "\n",
      "******  \n",
      "******  Warning: Requesting more threads (8) than the number of available logical cores (8) on hyperthreaded systems may strongly degrade performance!\n",
      "******  \n",
      "\n",
      "******  \n",
      "******  Warning: Requesting more threads (8) than the number of available logical cores (8) on hyperthreaded systems may strongly degrade performance!\n",
      "******  \n"
     ]
    },
    {
     "name": "stderr",
     "output_type": "stream",
     "text": [
      "[####################                              ] 40.0% "
     ]
    },
    {
     "name": "stdout",
     "output_type": "stream",
     "text": [
      "\n",
      "******  \n",
      "******  Warning: Requesting more threads (8) than the number of available logical cores (8) on hyperthreaded systems may strongly degrade performance!\n",
      "******  \n",
      "\n",
      "******  \n",
      "******  Warning: Requesting more threads (8) than the number of available logical cores (8) on hyperthreaded systems may strongly degrade performance!\n",
      "******  \n"
     ]
    },
    {
     "name": "stderr",
     "output_type": "stream",
     "text": [
      "[####################                              ] 40.5% "
     ]
    },
    {
     "name": "stdout",
     "output_type": "stream",
     "text": [
      "\n",
      "******  \n",
      "******  Warning: Requesting more threads (8) than the number of available logical cores (8) on hyperthreaded systems may strongly degrade performance!\n",
      "******  \n",
      "\n",
      "******  \n",
      "******  Warning: Requesting more threads (8) than the number of available logical cores (8) on hyperthreaded systems may strongly degrade performance!\n",
      "******  \n"
     ]
    },
    {
     "name": "stderr",
     "output_type": "stream",
     "text": [
      "[####################                              ] 41.0% "
     ]
    },
    {
     "name": "stdout",
     "output_type": "stream",
     "text": [
      "\n",
      "******  \n",
      "******  Warning: Requesting more threads (8) than the number of available logical cores (8) on hyperthreaded systems may strongly degrade performance!\n",
      "******  \n",
      "\n",
      "******  \n",
      "******  Warning: Requesting more threads (8) than the number of available logical cores (8) on hyperthreaded systems may strongly degrade performance!\n",
      "******  \n"
     ]
    },
    {
     "name": "stderr",
     "output_type": "stream",
     "text": [
      "[####################                              ] 41.5% "
     ]
    },
    {
     "name": "stdout",
     "output_type": "stream",
     "text": [
      "\n",
      "******  \n",
      "******  Warning: Requesting more threads (8) than the number of available logical cores (8) on hyperthreaded systems may strongly degrade performance!\n",
      "******  \n",
      "\n",
      "******  \n",
      "******  Warning: Requesting more threads (8) than the number of available logical cores (8) on hyperthreaded systems may strongly degrade performance!\n",
      "******  \n"
     ]
    },
    {
     "name": "stderr",
     "output_type": "stream",
     "text": [
      "[#####################                             ] 42.0% "
     ]
    },
    {
     "name": "stdout",
     "output_type": "stream",
     "text": [
      "\n",
      "******  \n",
      "******  Warning: Requesting more threads (8) than the number of available logical cores (8) on hyperthreaded systems may strongly degrade performance!\n",
      "******  \n",
      "\n",
      "******  \n",
      "******  Warning: Requesting more threads (8) than the number of available logical cores (8) on hyperthreaded systems may strongly degrade performance!\n",
      "******  \n"
     ]
    },
    {
     "name": "stderr",
     "output_type": "stream",
     "text": [
      "[#####################                             ] 42.5% "
     ]
    },
    {
     "name": "stdout",
     "output_type": "stream",
     "text": [
      "\n",
      "******  \n",
      "******  Warning: Requesting more threads (8) than the number of available logical cores (8) on hyperthreaded systems may strongly degrade performance!\n",
      "******  \n",
      "\n",
      "******  \n",
      "******  Warning: Requesting more threads (8) than the number of available logical cores (8) on hyperthreaded systems may strongly degrade performance!\n",
      "******  \n"
     ]
    },
    {
     "name": "stderr",
     "output_type": "stream",
     "text": [
      "[#####################                             ] 43.0% "
     ]
    },
    {
     "name": "stdout",
     "output_type": "stream",
     "text": [
      "\n",
      "******  \n",
      "******  Warning: Requesting more threads (8) than the number of available logical cores (8) on hyperthreaded systems may strongly degrade performance!\n",
      "******  \n",
      "\n",
      "******  \n",
      "******  Warning: Requesting more threads (8) than the number of available logical cores (8) on hyperthreaded systems may strongly degrade performance!\n",
      "******  \n"
     ]
    },
    {
     "name": "stderr",
     "output_type": "stream",
     "text": [
      "[#####################                             ] 43.5% "
     ]
    },
    {
     "name": "stdout",
     "output_type": "stream",
     "text": [
      "\n",
      "******  \n",
      "******  Warning: Requesting more threads (8) than the number of available logical cores (8) on hyperthreaded systems may strongly degrade performance!\n",
      "******  \n",
      "\n",
      "******  \n",
      "******  Warning: Requesting more threads (8) than the number of available logical cores (8) on hyperthreaded systems may strongly degrade performance!\n",
      "******  \n"
     ]
    },
    {
     "name": "stderr",
     "output_type": "stream",
     "text": [
      "[######################                            ] 44.0% "
     ]
    },
    {
     "name": "stdout",
     "output_type": "stream",
     "text": [
      "\n",
      "******  \n",
      "******  Warning: Requesting more threads (8) than the number of available logical cores (8) on hyperthreaded systems may strongly degrade performance!\n",
      "******  \n",
      "\n",
      "******  \n",
      "******  Warning: Requesting more threads (8) than the number of available logical cores (8) on hyperthreaded systems may strongly degrade performance!\n",
      "******  \n"
     ]
    },
    {
     "name": "stderr",
     "output_type": "stream",
     "text": [
      "[######################                            ] 44.5% "
     ]
    },
    {
     "name": "stdout",
     "output_type": "stream",
     "text": [
      "\n",
      "******  \n",
      "******  Warning: Requesting more threads (8) than the number of available logical cores (8) on hyperthreaded systems may strongly degrade performance!\n",
      "******  \n",
      "\n",
      "******  \n",
      "******  Warning: Requesting more threads (8) than the number of available logical cores (8) on hyperthreaded systems may strongly degrade performance!\n",
      "******  \n"
     ]
    },
    {
     "name": "stderr",
     "output_type": "stream",
     "text": [
      "[######################                            ] 45.0% "
     ]
    },
    {
     "name": "stdout",
     "output_type": "stream",
     "text": [
      "\n",
      "******  \n",
      "******  Warning: Requesting more threads (8) than the number of available logical cores (8) on hyperthreaded systems may strongly degrade performance!\n",
      "******  \n",
      "\n",
      "******  \n",
      "******  Warning: Requesting more threads (8) than the number of available logical cores (8) on hyperthreaded systems may strongly degrade performance!\n",
      "******  \n"
     ]
    },
    {
     "name": "stderr",
     "output_type": "stream",
     "text": [
      "[######################                            ] 45.5% "
     ]
    },
    {
     "name": "stdout",
     "output_type": "stream",
     "text": [
      "\n",
      "******  \n",
      "******  Warning: Requesting more threads (8) than the number of available logical cores (8) on hyperthreaded systems may strongly degrade performance!\n",
      "******  \n",
      "\n",
      "******  \n",
      "******  Warning: Requesting more threads (8) than the number of available logical cores (8) on hyperthreaded systems may strongly degrade performance!\n",
      "******  \n"
     ]
    },
    {
     "name": "stderr",
     "output_type": "stream",
     "text": [
      "[#######################                           ] 46.0% "
     ]
    },
    {
     "name": "stdout",
     "output_type": "stream",
     "text": [
      "\n",
      "******  \n",
      "******  Warning: Requesting more threads (8) than the number of available logical cores (8) on hyperthreaded systems may strongly degrade performance!\n",
      "******  \n",
      "\n",
      "******  \n",
      "******  Warning: Requesting more threads (8) than the number of available logical cores (8) on hyperthreaded systems may strongly degrade performance!\n",
      "******  \n"
     ]
    },
    {
     "name": "stderr",
     "output_type": "stream",
     "text": [
      "[#######################                           ] 46.5% "
     ]
    },
    {
     "name": "stdout",
     "output_type": "stream",
     "text": [
      "\n",
      "******  \n",
      "******  Warning: Requesting more threads (8) than the number of available logical cores (8) on hyperthreaded systems may strongly degrade performance!\n",
      "******  \n",
      "\n",
      "******  \n",
      "******  Warning: Requesting more threads (8) than the number of available logical cores (8) on hyperthreaded systems may strongly degrade performance!\n",
      "******  \n"
     ]
    },
    {
     "name": "stderr",
     "output_type": "stream",
     "text": [
      "[#######################                           ] 47.0% "
     ]
    },
    {
     "name": "stdout",
     "output_type": "stream",
     "text": [
      "\n",
      "******  \n",
      "******  Warning: Requesting more threads (8) than the number of available logical cores (8) on hyperthreaded systems may strongly degrade performance!\n",
      "******  \n",
      "\n",
      "******  \n",
      "******  Warning: Requesting more threads (8) than the number of available logical cores (8) on hyperthreaded systems may strongly degrade performance!\n",
      "******  \n"
     ]
    },
    {
     "name": "stderr",
     "output_type": "stream",
     "text": [
      "[#######################                           ] 47.5% "
     ]
    },
    {
     "name": "stdout",
     "output_type": "stream",
     "text": [
      "\n",
      "******  \n",
      "******  Warning: Requesting more threads (8) than the number of available logical cores (8) on hyperthreaded systems may strongly degrade performance!\n",
      "******  \n",
      "\n",
      "******  \n",
      "******  Warning: Requesting more threads (8) than the number of available logical cores (8) on hyperthreaded systems may strongly degrade performance!\n",
      "******  \n"
     ]
    },
    {
     "name": "stderr",
     "output_type": "stream",
     "text": [
      "[########################                          ] 48.0% "
     ]
    },
    {
     "name": "stdout",
     "output_type": "stream",
     "text": [
      "\n",
      "******  \n",
      "******  Warning: Requesting more threads (8) than the number of available logical cores (8) on hyperthreaded systems may strongly degrade performance!\n",
      "******  \n",
      "\n",
      "******  \n",
      "******  Warning: Requesting more threads (8) than the number of available logical cores (8) on hyperthreaded systems may strongly degrade performance!\n",
      "******  \n"
     ]
    },
    {
     "name": "stderr",
     "output_type": "stream",
     "text": [
      "[########################                          ] 48.5% "
     ]
    },
    {
     "name": "stdout",
     "output_type": "stream",
     "text": [
      "\n",
      "******  \n",
      "******  Warning: Requesting more threads (8) than the number of available logical cores (8) on hyperthreaded systems may strongly degrade performance!\n",
      "******  \n",
      "\n",
      "******  \n",
      "******  Warning: Requesting more threads (8) than the number of available logical cores (8) on hyperthreaded systems may strongly degrade performance!\n",
      "******  \n"
     ]
    },
    {
     "name": "stderr",
     "output_type": "stream",
     "text": [
      "[########################                          ] 49.0% "
     ]
    },
    {
     "name": "stdout",
     "output_type": "stream",
     "text": [
      "\n",
      "******  \n",
      "******  Warning: Requesting more threads (8) than the number of available logical cores (8) on hyperthreaded systems may strongly degrade performance!\n",
      "******  \n",
      "\n",
      "******  \n",
      "******  Warning: Requesting more threads (8) than the number of available logical cores (8) on hyperthreaded systems may strongly degrade performance!\n",
      "******  \n"
     ]
    },
    {
     "name": "stderr",
     "output_type": "stream",
     "text": [
      "[########################                          ] 49.5% "
     ]
    },
    {
     "name": "stdout",
     "output_type": "stream",
     "text": [
      "\n",
      "******  \n",
      "******  Warning: Requesting more threads (8) than the number of available logical cores (8) on hyperthreaded systems may strongly degrade performance!\n",
      "******  \n",
      "\n",
      "******  \n",
      "******  Warning: Requesting more threads (8) than the number of available logical cores (8) on hyperthreaded systems may strongly degrade performance!\n",
      "******  \n"
     ]
    },
    {
     "name": "stderr",
     "output_type": "stream",
     "text": [
      "[#########################                         ] 50.0% "
     ]
    },
    {
     "name": "stdout",
     "output_type": "stream",
     "text": [
      "\n",
      "******  \n",
      "******  Warning: Requesting more threads (8) than the number of available logical cores (8) on hyperthreaded systems may strongly degrade performance!\n",
      "******  \n",
      "\n",
      "******  \n",
      "******  Warning: Requesting more threads (8) than the number of available logical cores (8) on hyperthreaded systems may strongly degrade performance!\n",
      "******  \n"
     ]
    },
    {
     "name": "stderr",
     "output_type": "stream",
     "text": [
      "[#########################                         ] 50.5% "
     ]
    },
    {
     "name": "stdout",
     "output_type": "stream",
     "text": [
      "\n",
      "******  \n",
      "******  Warning: Requesting more threads (8) than the number of available logical cores (8) on hyperthreaded systems may strongly degrade performance!\n",
      "******  \n",
      "\n",
      "******  \n",
      "******  Warning: Requesting more threads (8) than the number of available logical cores (8) on hyperthreaded systems may strongly degrade performance!\n",
      "******  \n"
     ]
    },
    {
     "name": "stderr",
     "output_type": "stream",
     "text": [
      "[#########################                         ] 51.0% "
     ]
    },
    {
     "name": "stdout",
     "output_type": "stream",
     "text": [
      "\n",
      "******  \n",
      "******  Warning: Requesting more threads (8) than the number of available logical cores (8) on hyperthreaded systems may strongly degrade performance!\n",
      "******  \n",
      "\n",
      "******  \n",
      "******  Warning: Requesting more threads (8) than the number of available logical cores (8) on hyperthreaded systems may strongly degrade performance!\n",
      "******  \n"
     ]
    },
    {
     "name": "stderr",
     "output_type": "stream",
     "text": [
      "[#########################                         ] 51.5% "
     ]
    },
    {
     "name": "stdout",
     "output_type": "stream",
     "text": [
      "\n",
      "******  \n",
      "******  Warning: Requesting more threads (8) than the number of available logical cores (8) on hyperthreaded systems may strongly degrade performance!\n",
      "******  \n",
      "\n",
      "******  \n",
      "******  Warning: Requesting more threads (8) than the number of available logical cores (8) on hyperthreaded systems may strongly degrade performance!\n",
      "******  \n"
     ]
    },
    {
     "name": "stderr",
     "output_type": "stream",
     "text": [
      "[##########################                        ] 52.0% "
     ]
    },
    {
     "name": "stdout",
     "output_type": "stream",
     "text": [
      "\n",
      "******  \n",
      "******  Warning: Requesting more threads (8) than the number of available logical cores (8) on hyperthreaded systems may strongly degrade performance!\n",
      "******  \n",
      "\n",
      "******  \n",
      "******  Warning: Requesting more threads (8) than the number of available logical cores (8) on hyperthreaded systems may strongly degrade performance!\n",
      "******  \n"
     ]
    },
    {
     "name": "stderr",
     "output_type": "stream",
     "text": [
      "[##########################                        ] 52.5% "
     ]
    },
    {
     "name": "stdout",
     "output_type": "stream",
     "text": [
      "\n",
      "******  \n",
      "******  Warning: Requesting more threads (8) than the number of available logical cores (8) on hyperthreaded systems may strongly degrade performance!\n",
      "******  \n",
      "\n",
      "******  \n",
      "******  Warning: Requesting more threads (8) than the number of available logical cores (8) on hyperthreaded systems may strongly degrade performance!\n",
      "******  \n"
     ]
    },
    {
     "name": "stderr",
     "output_type": "stream",
     "text": [
      "[##########################                        ] 53.0% "
     ]
    },
    {
     "name": "stdout",
     "output_type": "stream",
     "text": [
      "\n",
      "******  \n",
      "******  Warning: Requesting more threads (8) than the number of available logical cores (8) on hyperthreaded systems may strongly degrade performance!\n",
      "******  \n",
      "\n",
      "******  \n",
      "******  Warning: Requesting more threads (8) than the number of available logical cores (8) on hyperthreaded systems may strongly degrade performance!\n",
      "******  \n"
     ]
    },
    {
     "name": "stderr",
     "output_type": "stream",
     "text": [
      "[##########################                        ] 53.5% "
     ]
    },
    {
     "name": "stdout",
     "output_type": "stream",
     "text": [
      "\n",
      "******  \n",
      "******  Warning: Requesting more threads (8) than the number of available logical cores (8) on hyperthreaded systems may strongly degrade performance!\n",
      "******  \n",
      "\n",
      "******  \n",
      "******  Warning: Requesting more threads (8) than the number of available logical cores (8) on hyperthreaded systems may strongly degrade performance!\n",
      "******  \n"
     ]
    },
    {
     "name": "stderr",
     "output_type": "stream",
     "text": [
      "[###########################                       ] 54.0% "
     ]
    },
    {
     "name": "stdout",
     "output_type": "stream",
     "text": [
      "\n",
      "******  \n",
      "******  Warning: Requesting more threads (8) than the number of available logical cores (8) on hyperthreaded systems may strongly degrade performance!\n",
      "******  \n",
      "\n",
      "******  \n",
      "******  Warning: Requesting more threads (8) than the number of available logical cores (8) on hyperthreaded systems may strongly degrade performance!\n",
      "******  \n"
     ]
    },
    {
     "name": "stderr",
     "output_type": "stream",
     "text": [
      "[###########################                       ] 54.5% "
     ]
    },
    {
     "name": "stdout",
     "output_type": "stream",
     "text": [
      "\n",
      "******  \n",
      "******  Warning: Requesting more threads (8) than the number of available logical cores (8) on hyperthreaded systems may strongly degrade performance!\n",
      "******  \n",
      "\n",
      "******  \n",
      "******  Warning: Requesting more threads (8) than the number of available logical cores (8) on hyperthreaded systems may strongly degrade performance!\n",
      "******  \n"
     ]
    },
    {
     "name": "stderr",
     "output_type": "stream",
     "text": [
      "[###########################                       ] 55.0% "
     ]
    },
    {
     "name": "stdout",
     "output_type": "stream",
     "text": [
      "\n",
      "******  \n",
      "******  Warning: Requesting more threads (8) than the number of available logical cores (8) on hyperthreaded systems may strongly degrade performance!\n",
      "******  \n",
      "\n",
      "******  \n",
      "******  Warning: Requesting more threads (8) than the number of available logical cores (8) on hyperthreaded systems may strongly degrade performance!\n",
      "******  \n"
     ]
    },
    {
     "name": "stderr",
     "output_type": "stream",
     "text": [
      "[###########################                       ] 55.5% "
     ]
    },
    {
     "name": "stdout",
     "output_type": "stream",
     "text": [
      "\n",
      "******  \n",
      "******  Warning: Requesting more threads (8) than the number of available logical cores (8) on hyperthreaded systems may strongly degrade performance!\n",
      "******  \n",
      "\n",
      "******  \n",
      "******  Warning: Requesting more threads (8) than the number of available logical cores (8) on hyperthreaded systems may strongly degrade performance!\n",
      "******  \n"
     ]
    },
    {
     "name": "stderr",
     "output_type": "stream",
     "text": [
      "[############################                      ] 56.0% "
     ]
    },
    {
     "name": "stdout",
     "output_type": "stream",
     "text": [
      "\n",
      "******  \n",
      "******  Warning: Requesting more threads (8) than the number of available logical cores (8) on hyperthreaded systems may strongly degrade performance!\n",
      "******  \n",
      "\n",
      "******  \n",
      "******  Warning: Requesting more threads (8) than the number of available logical cores (8) on hyperthreaded systems may strongly degrade performance!\n",
      "******  \n"
     ]
    },
    {
     "name": "stderr",
     "output_type": "stream",
     "text": [
      "[############################                      ] 56.5% "
     ]
    },
    {
     "name": "stdout",
     "output_type": "stream",
     "text": [
      "\n",
      "******  \n",
      "******  Warning: Requesting more threads (8) than the number of available logical cores (8) on hyperthreaded systems may strongly degrade performance!\n",
      "******  \n",
      "\n",
      "******  \n",
      "******  Warning: Requesting more threads (8) than the number of available logical cores (8) on hyperthreaded systems may strongly degrade performance!\n",
      "******  \n"
     ]
    },
    {
     "name": "stderr",
     "output_type": "stream",
     "text": [
      "[############################                      ] 57.0% "
     ]
    },
    {
     "name": "stdout",
     "output_type": "stream",
     "text": [
      "\n",
      "******  \n",
      "******  Warning: Requesting more threads (8) than the number of available logical cores (8) on hyperthreaded systems may strongly degrade performance!\n",
      "******  \n",
      "\n",
      "******  \n",
      "******  Warning: Requesting more threads (8) than the number of available logical cores (8) on hyperthreaded systems may strongly degrade performance!\n",
      "******  \n"
     ]
    },
    {
     "name": "stderr",
     "output_type": "stream",
     "text": [
      "[############################                      ] 57.5% "
     ]
    },
    {
     "name": "stdout",
     "output_type": "stream",
     "text": [
      "\n",
      "******  \n",
      "******  Warning: Requesting more threads (8) than the number of available logical cores (8) on hyperthreaded systems may strongly degrade performance!\n",
      "******  \n",
      "\n",
      "******  \n",
      "******  Warning: Requesting more threads (8) than the number of available logical cores (8) on hyperthreaded systems may strongly degrade performance!\n",
      "******  \n"
     ]
    },
    {
     "name": "stderr",
     "output_type": "stream",
     "text": [
      "[#############################                     ] 58.0% "
     ]
    },
    {
     "name": "stdout",
     "output_type": "stream",
     "text": [
      "\n",
      "******  \n",
      "******  Warning: Requesting more threads (8) than the number of available logical cores (8) on hyperthreaded systems may strongly degrade performance!\n",
      "******  \n",
      "\n",
      "******  \n",
      "******  Warning: Requesting more threads (8) than the number of available logical cores (8) on hyperthreaded systems may strongly degrade performance!\n",
      "******  \n"
     ]
    },
    {
     "name": "stderr",
     "output_type": "stream",
     "text": [
      "[#############################                     ] 58.5% "
     ]
    },
    {
     "name": "stdout",
     "output_type": "stream",
     "text": [
      "\n",
      "******  \n",
      "******  Warning: Requesting more threads (8) than the number of available logical cores (8) on hyperthreaded systems may strongly degrade performance!\n",
      "******  \n",
      "\n",
      "******  \n",
      "******  Warning: Requesting more threads (8) than the number of available logical cores (8) on hyperthreaded systems may strongly degrade performance!\n",
      "******  \n"
     ]
    },
    {
     "name": "stderr",
     "output_type": "stream",
     "text": [
      "[#############################                     ] 59.0% "
     ]
    },
    {
     "name": "stdout",
     "output_type": "stream",
     "text": [
      "\n",
      "******  \n",
      "******  Warning: Requesting more threads (8) than the number of available logical cores (8) on hyperthreaded systems may strongly degrade performance!\n",
      "******  \n",
      "\n",
      "******  \n",
      "******  Warning: Requesting more threads (8) than the number of available logical cores (8) on hyperthreaded systems may strongly degrade performance!\n",
      "******  \n"
     ]
    },
    {
     "name": "stderr",
     "output_type": "stream",
     "text": [
      "[#############################                     ] 59.5% "
     ]
    },
    {
     "name": "stdout",
     "output_type": "stream",
     "text": [
      "\n",
      "******  \n",
      "******  Warning: Requesting more threads (8) than the number of available logical cores (8) on hyperthreaded systems may strongly degrade performance!\n",
      "******  \n",
      "\n",
      "******  \n",
      "******  Warning: Requesting more threads (8) than the number of available logical cores (8) on hyperthreaded systems may strongly degrade performance!\n",
      "******  \n"
     ]
    },
    {
     "name": "stderr",
     "output_type": "stream",
     "text": [
      "[##############################                    ] 60.0% "
     ]
    },
    {
     "name": "stdout",
     "output_type": "stream",
     "text": [
      "\n",
      "******  \n",
      "******  Warning: Requesting more threads (8) than the number of available logical cores (8) on hyperthreaded systems may strongly degrade performance!\n",
      "******  \n",
      "\n",
      "******  \n",
      "******  Warning: Requesting more threads (8) than the number of available logical cores (8) on hyperthreaded systems may strongly degrade performance!\n",
      "******  \n"
     ]
    },
    {
     "name": "stderr",
     "output_type": "stream",
     "text": [
      "[##############################                    ] 60.5% "
     ]
    },
    {
     "name": "stdout",
     "output_type": "stream",
     "text": [
      "\n",
      "******  \n",
      "******  Warning: Requesting more threads (8) than the number of available logical cores (8) on hyperthreaded systems may strongly degrade performance!\n",
      "******  \n",
      "\n",
      "******  \n",
      "******  Warning: Requesting more threads (8) than the number of available logical cores (8) on hyperthreaded systems may strongly degrade performance!\n",
      "******  \n"
     ]
    },
    {
     "name": "stderr",
     "output_type": "stream",
     "text": [
      "[##############################                    ] 61.0% "
     ]
    },
    {
     "name": "stdout",
     "output_type": "stream",
     "text": [
      "\n",
      "******  \n",
      "******  Warning: Requesting more threads (8) than the number of available logical cores (8) on hyperthreaded systems may strongly degrade performance!\n",
      "******  \n",
      "\n",
      "******  \n",
      "******  Warning: Requesting more threads (8) than the number of available logical cores (8) on hyperthreaded systems may strongly degrade performance!\n",
      "******  \n"
     ]
    },
    {
     "name": "stderr",
     "output_type": "stream",
     "text": [
      "[##############################                    ] 61.5% "
     ]
    },
    {
     "name": "stdout",
     "output_type": "stream",
     "text": [
      "\n",
      "******  \n",
      "******  Warning: Requesting more threads (8) than the number of available logical cores (8) on hyperthreaded systems may strongly degrade performance!\n",
      "******  \n",
      "\n",
      "******  \n",
      "******  Warning: Requesting more threads (8) than the number of available logical cores (8) on hyperthreaded systems may strongly degrade performance!\n",
      "******  \n"
     ]
    },
    {
     "name": "stderr",
     "output_type": "stream",
     "text": [
      "[###############################                   ] 62.0% "
     ]
    },
    {
     "name": "stdout",
     "output_type": "stream",
     "text": [
      "\n",
      "******  \n",
      "******  Warning: Requesting more threads (8) than the number of available logical cores (8) on hyperthreaded systems may strongly degrade performance!\n",
      "******  \n",
      "\n",
      "******  \n",
      "******  Warning: Requesting more threads (8) than the number of available logical cores (8) on hyperthreaded systems may strongly degrade performance!\n",
      "******  \n"
     ]
    },
    {
     "name": "stderr",
     "output_type": "stream",
     "text": [
      "[###############################                   ] 62.5% "
     ]
    },
    {
     "name": "stdout",
     "output_type": "stream",
     "text": [
      "\n",
      "******  \n",
      "******  Warning: Requesting more threads (8) than the number of available logical cores (8) on hyperthreaded systems may strongly degrade performance!\n",
      "******  \n",
      "\n",
      "******  \n",
      "******  Warning: Requesting more threads (8) than the number of available logical cores (8) on hyperthreaded systems may strongly degrade performance!\n",
      "******  \n"
     ]
    },
    {
     "name": "stderr",
     "output_type": "stream",
     "text": [
      "[###############################                   ] 63.0% "
     ]
    },
    {
     "name": "stdout",
     "output_type": "stream",
     "text": [
      "\n",
      "******  \n",
      "******  Warning: Requesting more threads (8) than the number of available logical cores (8) on hyperthreaded systems may strongly degrade performance!\n",
      "******  \n",
      "\n",
      "******  \n",
      "******  Warning: Requesting more threads (8) than the number of available logical cores (8) on hyperthreaded systems may strongly degrade performance!\n",
      "******  \n"
     ]
    },
    {
     "name": "stderr",
     "output_type": "stream",
     "text": [
      "[###############################                   ] 63.5% "
     ]
    },
    {
     "name": "stdout",
     "output_type": "stream",
     "text": [
      "\n",
      "******  \n",
      "******  Warning: Requesting more threads (8) than the number of available logical cores (8) on hyperthreaded systems may strongly degrade performance!\n",
      "******  \n",
      "\n",
      "******  \n",
      "******  Warning: Requesting more threads (8) than the number of available logical cores (8) on hyperthreaded systems may strongly degrade performance!\n",
      "******  \n"
     ]
    },
    {
     "name": "stderr",
     "output_type": "stream",
     "text": [
      "[################################                  ] 64.0% "
     ]
    },
    {
     "name": "stdout",
     "output_type": "stream",
     "text": [
      "\n",
      "******  \n",
      "******  Warning: Requesting more threads (8) than the number of available logical cores (8) on hyperthreaded systems may strongly degrade performance!\n",
      "******  \n",
      "\n",
      "******  \n",
      "******  Warning: Requesting more threads (8) than the number of available logical cores (8) on hyperthreaded systems may strongly degrade performance!\n",
      "******  \n"
     ]
    },
    {
     "name": "stderr",
     "output_type": "stream",
     "text": [
      "[################################                  ] 64.5% "
     ]
    },
    {
     "name": "stdout",
     "output_type": "stream",
     "text": [
      "\n",
      "******  \n",
      "******  Warning: Requesting more threads (8) than the number of available logical cores (8) on hyperthreaded systems may strongly degrade performance!\n",
      "******  \n",
      "\n",
      "******  \n",
      "******  Warning: Requesting more threads (8) than the number of available logical cores (8) on hyperthreaded systems may strongly degrade performance!\n",
      "******  \n"
     ]
    },
    {
     "name": "stderr",
     "output_type": "stream",
     "text": [
      "[################################                  ] 65.0% "
     ]
    },
    {
     "name": "stdout",
     "output_type": "stream",
     "text": [
      "\n",
      "******  \n",
      "******  Warning: Requesting more threads (8) than the number of available logical cores (8) on hyperthreaded systems may strongly degrade performance!\n",
      "******  \n",
      "\n",
      "******  \n",
      "******  Warning: Requesting more threads (8) than the number of available logical cores (8) on hyperthreaded systems may strongly degrade performance!\n",
      "******  \n"
     ]
    },
    {
     "name": "stderr",
     "output_type": "stream",
     "text": [
      "[################################                  ] 65.5% "
     ]
    },
    {
     "name": "stdout",
     "output_type": "stream",
     "text": [
      "\n",
      "******  \n",
      "******  Warning: Requesting more threads (8) than the number of available logical cores (8) on hyperthreaded systems may strongly degrade performance!\n",
      "******  \n",
      "\n",
      "******  \n",
      "******  Warning: Requesting more threads (8) than the number of available logical cores (8) on hyperthreaded systems may strongly degrade performance!\n",
      "******  \n"
     ]
    },
    {
     "name": "stderr",
     "output_type": "stream",
     "text": [
      "[#################################                 ] 66.0% "
     ]
    },
    {
     "name": "stdout",
     "output_type": "stream",
     "text": [
      "\n",
      "******  \n",
      "******  Warning: Requesting more threads (8) than the number of available logical cores (8) on hyperthreaded systems may strongly degrade performance!\n",
      "******  \n",
      "\n",
      "******  \n",
      "******  Warning: Requesting more threads (8) than the number of available logical cores (8) on hyperthreaded systems may strongly degrade performance!\n",
      "******  \n"
     ]
    },
    {
     "name": "stderr",
     "output_type": "stream",
     "text": [
      "[#################################                 ] 66.5% "
     ]
    },
    {
     "name": "stdout",
     "output_type": "stream",
     "text": [
      "\n",
      "******  \n",
      "******  Warning: Requesting more threads (8) than the number of available logical cores (8) on hyperthreaded systems may strongly degrade performance!\n",
      "******  \n",
      "\n",
      "******  \n",
      "******  Warning: Requesting more threads (8) than the number of available logical cores (8) on hyperthreaded systems may strongly degrade performance!\n",
      "******  \n"
     ]
    },
    {
     "name": "stderr",
     "output_type": "stream",
     "text": [
      "[#################################                 ] 67.0% "
     ]
    },
    {
     "name": "stdout",
     "output_type": "stream",
     "text": [
      "\n",
      "******  \n",
      "******  Warning: Requesting more threads (8) than the number of available logical cores (8) on hyperthreaded systems may strongly degrade performance!\n",
      "******  \n",
      "\n",
      "******  \n",
      "******  Warning: Requesting more threads (8) than the number of available logical cores (8) on hyperthreaded systems may strongly degrade performance!\n",
      "******  \n"
     ]
    },
    {
     "name": "stderr",
     "output_type": "stream",
     "text": [
      "[#################################                 ] 67.5% "
     ]
    },
    {
     "name": "stdout",
     "output_type": "stream",
     "text": [
      "\n",
      "******  \n",
      "******  Warning: Requesting more threads (8) than the number of available logical cores (8) on hyperthreaded systems may strongly degrade performance!\n",
      "******  \n",
      "\n",
      "******  \n",
      "******  Warning: Requesting more threads (8) than the number of available logical cores (8) on hyperthreaded systems may strongly degrade performance!\n",
      "******  \n"
     ]
    },
    {
     "name": "stderr",
     "output_type": "stream",
     "text": [
      "[##################################                ] 68.0% "
     ]
    },
    {
     "name": "stdout",
     "output_type": "stream",
     "text": [
      "\n",
      "******  \n",
      "******  Warning: Requesting more threads (8) than the number of available logical cores (8) on hyperthreaded systems may strongly degrade performance!\n",
      "******  \n",
      "\n",
      "******  \n",
      "******  Warning: Requesting more threads (8) than the number of available logical cores (8) on hyperthreaded systems may strongly degrade performance!\n",
      "******  \n"
     ]
    },
    {
     "name": "stderr",
     "output_type": "stream",
     "text": [
      "[##################################                ] 68.5% "
     ]
    },
    {
     "name": "stdout",
     "output_type": "stream",
     "text": [
      "\n",
      "******  \n",
      "******  Warning: Requesting more threads (8) than the number of available logical cores (8) on hyperthreaded systems may strongly degrade performance!\n",
      "******  \n",
      "\n",
      "******  \n",
      "******  Warning: Requesting more threads (8) than the number of available logical cores (8) on hyperthreaded systems may strongly degrade performance!\n",
      "******  \n"
     ]
    },
    {
     "name": "stderr",
     "output_type": "stream",
     "text": [
      "[##################################                ] 69.0% "
     ]
    },
    {
     "name": "stdout",
     "output_type": "stream",
     "text": [
      "\n",
      "******  \n",
      "******  Warning: Requesting more threads (8) than the number of available logical cores (8) on hyperthreaded systems may strongly degrade performance!\n",
      "******  \n",
      "\n",
      "******  \n",
      "******  Warning: Requesting more threads (8) than the number of available logical cores (8) on hyperthreaded systems may strongly degrade performance!\n",
      "******  \n"
     ]
    },
    {
     "name": "stderr",
     "output_type": "stream",
     "text": [
      "[##################################                ] 69.5% "
     ]
    },
    {
     "name": "stdout",
     "output_type": "stream",
     "text": [
      "\n",
      "******  \n",
      "******  Warning: Requesting more threads (8) than the number of available logical cores (8) on hyperthreaded systems may strongly degrade performance!\n",
      "******  \n",
      "\n",
      "******  \n",
      "******  Warning: Requesting more threads (8) than the number of available logical cores (8) on hyperthreaded systems may strongly degrade performance!\n",
      "******  \n"
     ]
    },
    {
     "name": "stderr",
     "output_type": "stream",
     "text": [
      "[###################################               ] 70.0% "
     ]
    },
    {
     "name": "stdout",
     "output_type": "stream",
     "text": [
      "\n",
      "******  \n",
      "******  Warning: Requesting more threads (8) than the number of available logical cores (8) on hyperthreaded systems may strongly degrade performance!\n",
      "******  \n",
      "\n",
      "******  \n",
      "******  Warning: Requesting more threads (8) than the number of available logical cores (8) on hyperthreaded systems may strongly degrade performance!\n",
      "******  \n"
     ]
    },
    {
     "name": "stderr",
     "output_type": "stream",
     "text": [
      "[###################################               ] 70.5% "
     ]
    },
    {
     "name": "stdout",
     "output_type": "stream",
     "text": [
      "\n",
      "******  \n",
      "******  Warning: Requesting more threads (8) than the number of available logical cores (8) on hyperthreaded systems may strongly degrade performance!\n",
      "******  \n",
      "\n",
      "******  \n",
      "******  Warning: Requesting more threads (8) than the number of available logical cores (8) on hyperthreaded systems may strongly degrade performance!\n",
      "******  \n"
     ]
    },
    {
     "name": "stderr",
     "output_type": "stream",
     "text": [
      "[###################################               ] 71.0% "
     ]
    },
    {
     "name": "stdout",
     "output_type": "stream",
     "text": [
      "\n",
      "******  \n",
      "******  Warning: Requesting more threads (8) than the number of available logical cores (8) on hyperthreaded systems may strongly degrade performance!\n",
      "******  \n",
      "\n",
      "******  \n",
      "******  Warning: Requesting more threads (8) than the number of available logical cores (8) on hyperthreaded systems may strongly degrade performance!\n",
      "******  \n"
     ]
    },
    {
     "name": "stderr",
     "output_type": "stream",
     "text": [
      "[###################################               ] 71.5% "
     ]
    },
    {
     "name": "stdout",
     "output_type": "stream",
     "text": [
      "\n",
      "******  \n",
      "******  Warning: Requesting more threads (8) than the number of available logical cores (8) on hyperthreaded systems may strongly degrade performance!\n",
      "******  \n",
      "\n",
      "******  \n",
      "******  Warning: Requesting more threads (8) than the number of available logical cores (8) on hyperthreaded systems may strongly degrade performance!\n",
      "******  \n"
     ]
    },
    {
     "name": "stderr",
     "output_type": "stream",
     "text": [
      "[####################################              ] 72.0% "
     ]
    },
    {
     "name": "stdout",
     "output_type": "stream",
     "text": [
      "\n",
      "******  \n",
      "******  Warning: Requesting more threads (8) than the number of available logical cores (8) on hyperthreaded systems may strongly degrade performance!\n",
      "******  \n",
      "\n",
      "******  \n",
      "******  Warning: Requesting more threads (8) than the number of available logical cores (8) on hyperthreaded systems may strongly degrade performance!\n",
      "******  \n"
     ]
    },
    {
     "name": "stderr",
     "output_type": "stream",
     "text": [
      "[####################################              ] 72.5% "
     ]
    },
    {
     "name": "stdout",
     "output_type": "stream",
     "text": [
      "\n",
      "******  \n",
      "******  Warning: Requesting more threads (8) than the number of available logical cores (8) on hyperthreaded systems may strongly degrade performance!\n",
      "******  \n",
      "\n",
      "******  \n",
      "******  Warning: Requesting more threads (8) than the number of available logical cores (8) on hyperthreaded systems may strongly degrade performance!\n",
      "******  \n"
     ]
    },
    {
     "name": "stderr",
     "output_type": "stream",
     "text": [
      "[####################################              ] 73.0% "
     ]
    },
    {
     "name": "stdout",
     "output_type": "stream",
     "text": [
      "\n",
      "******  \n",
      "******  Warning: Requesting more threads (8) than the number of available logical cores (8) on hyperthreaded systems may strongly degrade performance!\n",
      "******  \n",
      "\n",
      "******  \n",
      "******  Warning: Requesting more threads (8) than the number of available logical cores (8) on hyperthreaded systems may strongly degrade performance!\n",
      "******  \n"
     ]
    },
    {
     "name": "stderr",
     "output_type": "stream",
     "text": [
      "[####################################              ] 73.5% "
     ]
    },
    {
     "name": "stdout",
     "output_type": "stream",
     "text": [
      "\n",
      "******  \n",
      "******  Warning: Requesting more threads (8) than the number of available logical cores (8) on hyperthreaded systems may strongly degrade performance!\n",
      "******  \n",
      "\n",
      "******  \n",
      "******  Warning: Requesting more threads (8) than the number of available logical cores (8) on hyperthreaded systems may strongly degrade performance!\n",
      "******  \n"
     ]
    },
    {
     "name": "stderr",
     "output_type": "stream",
     "text": [
      "[#####################################             ] 74.0% "
     ]
    },
    {
     "name": "stdout",
     "output_type": "stream",
     "text": [
      "\n",
      "******  \n",
      "******  Warning: Requesting more threads (8) than the number of available logical cores (8) on hyperthreaded systems may strongly degrade performance!\n",
      "******  \n",
      "\n",
      "******  \n",
      "******  Warning: Requesting more threads (8) than the number of available logical cores (8) on hyperthreaded systems may strongly degrade performance!\n",
      "******  \n"
     ]
    },
    {
     "name": "stderr",
     "output_type": "stream",
     "text": [
      "[#####################################             ] 74.5% "
     ]
    },
    {
     "name": "stdout",
     "output_type": "stream",
     "text": [
      "\n",
      "******  \n",
      "******  Warning: Requesting more threads (8) than the number of available logical cores (8) on hyperthreaded systems may strongly degrade performance!\n",
      "******  \n",
      "\n",
      "******  \n",
      "******  Warning: Requesting more threads (8) than the number of available logical cores (8) on hyperthreaded systems may strongly degrade performance!\n",
      "******  \n"
     ]
    },
    {
     "name": "stderr",
     "output_type": "stream",
     "text": [
      "[#####################################             ] 75.0% "
     ]
    },
    {
     "name": "stdout",
     "output_type": "stream",
     "text": [
      "\n",
      "******  \n",
      "******  Warning: Requesting more threads (8) than the number of available logical cores (8) on hyperthreaded systems may strongly degrade performance!\n",
      "******  \n",
      "\n",
      "******  \n",
      "******  Warning: Requesting more threads (8) than the number of available logical cores (8) on hyperthreaded systems may strongly degrade performance!\n",
      "******  \n"
     ]
    },
    {
     "name": "stderr",
     "output_type": "stream",
     "text": [
      "[#####################################             ] 75.5% "
     ]
    },
    {
     "name": "stdout",
     "output_type": "stream",
     "text": [
      "\n",
      "******  \n",
      "******  Warning: Requesting more threads (8) than the number of available logical cores (8) on hyperthreaded systems may strongly degrade performance!\n",
      "******  \n",
      "\n",
      "******  \n",
      "******  Warning: Requesting more threads (8) than the number of available logical cores (8) on hyperthreaded systems may strongly degrade performance!\n",
      "******  \n"
     ]
    },
    {
     "name": "stderr",
     "output_type": "stream",
     "text": [
      "[######################################            ] 76.0% "
     ]
    },
    {
     "name": "stdout",
     "output_type": "stream",
     "text": [
      "\n",
      "******  \n",
      "******  Warning: Requesting more threads (8) than the number of available logical cores (8) on hyperthreaded systems may strongly degrade performance!\n",
      "******  \n",
      "\n",
      "******  \n",
      "******  Warning: Requesting more threads (8) than the number of available logical cores (8) on hyperthreaded systems may strongly degrade performance!\n",
      "******  \n"
     ]
    },
    {
     "name": "stderr",
     "output_type": "stream",
     "text": [
      "[######################################            ] 76.5% "
     ]
    },
    {
     "name": "stdout",
     "output_type": "stream",
     "text": [
      "\n",
      "******  \n",
      "******  Warning: Requesting more threads (8) than the number of available logical cores (8) on hyperthreaded systems may strongly degrade performance!\n",
      "******  \n",
      "\n",
      "******  \n",
      "******  Warning: Requesting more threads (8) than the number of available logical cores (8) on hyperthreaded systems may strongly degrade performance!\n",
      "******  \n"
     ]
    },
    {
     "name": "stderr",
     "output_type": "stream",
     "text": [
      "[######################################            ] 77.0% "
     ]
    },
    {
     "name": "stdout",
     "output_type": "stream",
     "text": [
      "\n",
      "******  \n",
      "******  Warning: Requesting more threads (8) than the number of available logical cores (8) on hyperthreaded systems may strongly degrade performance!\n",
      "******  \n",
      "\n",
      "******  \n",
      "******  Warning: Requesting more threads (8) than the number of available logical cores (8) on hyperthreaded systems may strongly degrade performance!\n",
      "******  \n"
     ]
    },
    {
     "name": "stderr",
     "output_type": "stream",
     "text": [
      "[######################################            ] 77.5% "
     ]
    },
    {
     "name": "stdout",
     "output_type": "stream",
     "text": [
      "\n",
      "******  \n",
      "******  Warning: Requesting more threads (8) than the number of available logical cores (8) on hyperthreaded systems may strongly degrade performance!\n",
      "******  \n",
      "\n",
      "******  \n",
      "******  Warning: Requesting more threads (8) than the number of available logical cores (8) on hyperthreaded systems may strongly degrade performance!\n",
      "******  \n"
     ]
    },
    {
     "name": "stderr",
     "output_type": "stream",
     "text": [
      "[#######################################           ] 78.0% "
     ]
    },
    {
     "name": "stdout",
     "output_type": "stream",
     "text": [
      "\n",
      "******  \n",
      "******  Warning: Requesting more threads (8) than the number of available logical cores (8) on hyperthreaded systems may strongly degrade performance!\n",
      "******  \n",
      "\n",
      "******  \n",
      "******  Warning: Requesting more threads (8) than the number of available logical cores (8) on hyperthreaded systems may strongly degrade performance!\n",
      "******  \n"
     ]
    },
    {
     "name": "stderr",
     "output_type": "stream",
     "text": [
      "[#######################################           ] 78.5% "
     ]
    },
    {
     "name": "stdout",
     "output_type": "stream",
     "text": [
      "\n",
      "******  \n",
      "******  Warning: Requesting more threads (8) than the number of available logical cores (8) on hyperthreaded systems may strongly degrade performance!\n",
      "******  \n",
      "\n",
      "******  \n",
      "******  Warning: Requesting more threads (8) than the number of available logical cores (8) on hyperthreaded systems may strongly degrade performance!\n",
      "******  \n"
     ]
    },
    {
     "name": "stderr",
     "output_type": "stream",
     "text": [
      "[#######################################           ] 79.0% "
     ]
    },
    {
     "name": "stdout",
     "output_type": "stream",
     "text": [
      "\n",
      "******  \n",
      "******  Warning: Requesting more threads (8) than the number of available logical cores (8) on hyperthreaded systems may strongly degrade performance!\n",
      "******  \n",
      "\n",
      "******  \n",
      "******  Warning: Requesting more threads (8) than the number of available logical cores (8) on hyperthreaded systems may strongly degrade performance!\n",
      "******  \n"
     ]
    },
    {
     "name": "stderr",
     "output_type": "stream",
     "text": [
      "[#######################################           ] 79.5% "
     ]
    },
    {
     "name": "stdout",
     "output_type": "stream",
     "text": [
      "\n",
      "******  \n",
      "******  Warning: Requesting more threads (8) than the number of available logical cores (8) on hyperthreaded systems may strongly degrade performance!\n",
      "******  \n",
      "\n",
      "******  \n",
      "******  Warning: Requesting more threads (8) than the number of available logical cores (8) on hyperthreaded systems may strongly degrade performance!\n",
      "******  \n"
     ]
    },
    {
     "name": "stderr",
     "output_type": "stream",
     "text": [
      "[########################################          ] 80.0% "
     ]
    },
    {
     "name": "stdout",
     "output_type": "stream",
     "text": [
      "\n",
      "******  \n",
      "******  Warning: Requesting more threads (8) than the number of available logical cores (8) on hyperthreaded systems may strongly degrade performance!\n",
      "******  \n",
      "\n",
      "******  \n",
      "******  Warning: Requesting more threads (8) than the number of available logical cores (8) on hyperthreaded systems may strongly degrade performance!\n",
      "******  \n"
     ]
    },
    {
     "name": "stderr",
     "output_type": "stream",
     "text": [
      "[########################################          ] 80.5% "
     ]
    },
    {
     "name": "stdout",
     "output_type": "stream",
     "text": [
      "\n",
      "******  \n",
      "******  Warning: Requesting more threads (8) than the number of available logical cores (8) on hyperthreaded systems may strongly degrade performance!\n",
      "******  \n",
      "\n",
      "******  \n",
      "******  Warning: Requesting more threads (8) than the number of available logical cores (8) on hyperthreaded systems may strongly degrade performance!\n",
      "******  \n"
     ]
    },
    {
     "name": "stderr",
     "output_type": "stream",
     "text": [
      "[########################################          ] 81.0% "
     ]
    },
    {
     "name": "stdout",
     "output_type": "stream",
     "text": [
      "\n",
      "******  \n",
      "******  Warning: Requesting more threads (8) than the number of available logical cores (8) on hyperthreaded systems may strongly degrade performance!\n",
      "******  \n",
      "\n",
      "******  \n",
      "******  Warning: Requesting more threads (8) than the number of available logical cores (8) on hyperthreaded systems may strongly degrade performance!\n",
      "******  \n"
     ]
    },
    {
     "name": "stderr",
     "output_type": "stream",
     "text": [
      "[########################################          ] 81.5% "
     ]
    },
    {
     "name": "stdout",
     "output_type": "stream",
     "text": [
      "\n",
      "******  \n",
      "******  Warning: Requesting more threads (8) than the number of available logical cores (8) on hyperthreaded systems may strongly degrade performance!\n",
      "******  \n",
      "\n",
      "******  \n",
      "******  Warning: Requesting more threads (8) than the number of available logical cores (8) on hyperthreaded systems may strongly degrade performance!\n",
      "******  \n"
     ]
    },
    {
     "name": "stderr",
     "output_type": "stream",
     "text": [
      "[#########################################         ] 82.0% "
     ]
    },
    {
     "name": "stdout",
     "output_type": "stream",
     "text": [
      "\n",
      "******  \n",
      "******  Warning: Requesting more threads (8) than the number of available logical cores (8) on hyperthreaded systems may strongly degrade performance!\n",
      "******  \n",
      "\n",
      "******  \n",
      "******  Warning: Requesting more threads (8) than the number of available logical cores (8) on hyperthreaded systems may strongly degrade performance!\n",
      "******  \n"
     ]
    },
    {
     "name": "stderr",
     "output_type": "stream",
     "text": [
      "[#########################################         ] 82.5% "
     ]
    },
    {
     "name": "stdout",
     "output_type": "stream",
     "text": [
      "\n",
      "******  \n",
      "******  Warning: Requesting more threads (8) than the number of available logical cores (8) on hyperthreaded systems may strongly degrade performance!\n",
      "******  \n",
      "\n",
      "******  \n",
      "******  Warning: Requesting more threads (8) than the number of available logical cores (8) on hyperthreaded systems may strongly degrade performance!\n",
      "******  \n"
     ]
    },
    {
     "name": "stderr",
     "output_type": "stream",
     "text": [
      "[#########################################         ] 83.0% "
     ]
    },
    {
     "name": "stdout",
     "output_type": "stream",
     "text": [
      "\n",
      "******  \n",
      "******  Warning: Requesting more threads (8) than the number of available logical cores (8) on hyperthreaded systems may strongly degrade performance!\n",
      "******  \n",
      "\n",
      "******  \n",
      "******  Warning: Requesting more threads (8) than the number of available logical cores (8) on hyperthreaded systems may strongly degrade performance!\n",
      "******  \n"
     ]
    },
    {
     "name": "stderr",
     "output_type": "stream",
     "text": [
      "[#########################################         ] 83.5% "
     ]
    },
    {
     "name": "stdout",
     "output_type": "stream",
     "text": [
      "\n",
      "******  \n",
      "******  Warning: Requesting more threads (8) than the number of available logical cores (8) on hyperthreaded systems may strongly degrade performance!\n",
      "******  \n",
      "\n",
      "******  \n",
      "******  Warning: Requesting more threads (8) than the number of available logical cores (8) on hyperthreaded systems may strongly degrade performance!\n",
      "******  \n"
     ]
    },
    {
     "name": "stderr",
     "output_type": "stream",
     "text": [
      "[##########################################        ] 84.0% "
     ]
    },
    {
     "name": "stdout",
     "output_type": "stream",
     "text": [
      "\n",
      "******  \n",
      "******  Warning: Requesting more threads (8) than the number of available logical cores (8) on hyperthreaded systems may strongly degrade performance!\n",
      "******  \n",
      "\n",
      "******  \n",
      "******  Warning: Requesting more threads (8) than the number of available logical cores (8) on hyperthreaded systems may strongly degrade performance!\n",
      "******  \n"
     ]
    },
    {
     "name": "stderr",
     "output_type": "stream",
     "text": [
      "[##########################################        ] 84.5% "
     ]
    },
    {
     "name": "stdout",
     "output_type": "stream",
     "text": [
      "\n",
      "******  \n",
      "******  Warning: Requesting more threads (8) than the number of available logical cores (8) on hyperthreaded systems may strongly degrade performance!\n",
      "******  \n",
      "\n",
      "******  \n",
      "******  Warning: Requesting more threads (8) than the number of available logical cores (8) on hyperthreaded systems may strongly degrade performance!\n",
      "******  \n"
     ]
    },
    {
     "name": "stderr",
     "output_type": "stream",
     "text": [
      "[##########################################        ] 85.0% "
     ]
    },
    {
     "name": "stdout",
     "output_type": "stream",
     "text": [
      "\n",
      "******  \n",
      "******  Warning: Requesting more threads (8) than the number of available logical cores (8) on hyperthreaded systems may strongly degrade performance!\n",
      "******  \n",
      "\n",
      "******  \n",
      "******  Warning: Requesting more threads (8) than the number of available logical cores (8) on hyperthreaded systems may strongly degrade performance!\n",
      "******  \n"
     ]
    },
    {
     "name": "stderr",
     "output_type": "stream",
     "text": [
      "[##########################################        ] 85.5% "
     ]
    },
    {
     "name": "stdout",
     "output_type": "stream",
     "text": [
      "\n",
      "******  \n",
      "******  Warning: Requesting more threads (8) than the number of available logical cores (8) on hyperthreaded systems may strongly degrade performance!\n",
      "******  \n",
      "\n",
      "******  \n",
      "******  Warning: Requesting more threads (8) than the number of available logical cores (8) on hyperthreaded systems may strongly degrade performance!\n",
      "******  \n"
     ]
    },
    {
     "name": "stderr",
     "output_type": "stream",
     "text": [
      "[###########################################       ] 86.0% "
     ]
    },
    {
     "name": "stdout",
     "output_type": "stream",
     "text": [
      "\n",
      "******  \n",
      "******  Warning: Requesting more threads (8) than the number of available logical cores (8) on hyperthreaded systems may strongly degrade performance!\n",
      "******  \n",
      "\n",
      "******  \n",
      "******  Warning: Requesting more threads (8) than the number of available logical cores (8) on hyperthreaded systems may strongly degrade performance!\n",
      "******  \n"
     ]
    },
    {
     "name": "stderr",
     "output_type": "stream",
     "text": [
      "[###########################################       ] 86.5% "
     ]
    },
    {
     "name": "stdout",
     "output_type": "stream",
     "text": [
      "\n",
      "******  \n",
      "******  Warning: Requesting more threads (8) than the number of available logical cores (8) on hyperthreaded systems may strongly degrade performance!\n",
      "******  \n",
      "\n",
      "******  \n",
      "******  Warning: Requesting more threads (8) than the number of available logical cores (8) on hyperthreaded systems may strongly degrade performance!\n",
      "******  \n"
     ]
    },
    {
     "name": "stderr",
     "output_type": "stream",
     "text": [
      "[###########################################       ] 87.0% "
     ]
    },
    {
     "name": "stdout",
     "output_type": "stream",
     "text": [
      "\n",
      "******  \n",
      "******  Warning: Requesting more threads (8) than the number of available logical cores (8) on hyperthreaded systems may strongly degrade performance!\n",
      "******  \n",
      "\n",
      "******  \n",
      "******  Warning: Requesting more threads (8) than the number of available logical cores (8) on hyperthreaded systems may strongly degrade performance!\n",
      "******  \n"
     ]
    },
    {
     "name": "stderr",
     "output_type": "stream",
     "text": [
      "[###########################################       ] 87.5% "
     ]
    },
    {
     "name": "stdout",
     "output_type": "stream",
     "text": [
      "\n",
      "******  \n",
      "******  Warning: Requesting more threads (8) than the number of available logical cores (8) on hyperthreaded systems may strongly degrade performance!\n",
      "******  \n",
      "\n",
      "******  \n",
      "******  Warning: Requesting more threads (8) than the number of available logical cores (8) on hyperthreaded systems may strongly degrade performance!\n",
      "******  \n"
     ]
    },
    {
     "name": "stderr",
     "output_type": "stream",
     "text": [
      "[############################################      ] 88.0% "
     ]
    },
    {
     "name": "stdout",
     "output_type": "stream",
     "text": [
      "\n",
      "******  \n",
      "******  Warning: Requesting more threads (8) than the number of available logical cores (8) on hyperthreaded systems may strongly degrade performance!\n",
      "******  \n",
      "\n",
      "******  \n",
      "******  Warning: Requesting more threads (8) than the number of available logical cores (8) on hyperthreaded systems may strongly degrade performance!\n",
      "******  \n"
     ]
    },
    {
     "name": "stderr",
     "output_type": "stream",
     "text": [
      "[############################################      ] 88.5% "
     ]
    },
    {
     "name": "stdout",
     "output_type": "stream",
     "text": [
      "\n",
      "******  \n",
      "******  Warning: Requesting more threads (8) than the number of available logical cores (8) on hyperthreaded systems may strongly degrade performance!\n",
      "******  \n",
      "\n",
      "******  \n",
      "******  Warning: Requesting more threads (8) than the number of available logical cores (8) on hyperthreaded systems may strongly degrade performance!\n",
      "******  \n"
     ]
    },
    {
     "name": "stderr",
     "output_type": "stream",
     "text": [
      "[############################################      ] 89.0% "
     ]
    },
    {
     "name": "stdout",
     "output_type": "stream",
     "text": [
      "\n",
      "******  \n",
      "******  Warning: Requesting more threads (8) than the number of available logical cores (8) on hyperthreaded systems may strongly degrade performance!\n",
      "******  \n",
      "\n",
      "******  \n",
      "******  Warning: Requesting more threads (8) than the number of available logical cores (8) on hyperthreaded systems may strongly degrade performance!\n",
      "******  \n"
     ]
    },
    {
     "name": "stderr",
     "output_type": "stream",
     "text": [
      "[############################################      ] 89.5% "
     ]
    },
    {
     "name": "stdout",
     "output_type": "stream",
     "text": [
      "\n",
      "******  \n",
      "******  Warning: Requesting more threads (8) than the number of available logical cores (8) on hyperthreaded systems may strongly degrade performance!\n",
      "******  \n",
      "\n",
      "******  \n",
      "******  Warning: Requesting more threads (8) than the number of available logical cores (8) on hyperthreaded systems may strongly degrade performance!\n",
      "******  \n"
     ]
    },
    {
     "name": "stderr",
     "output_type": "stream",
     "text": [
      "[#############################################     ] 90.0% "
     ]
    },
    {
     "name": "stdout",
     "output_type": "stream",
     "text": [
      "\n",
      "******  \n",
      "******  Warning: Requesting more threads (8) than the number of available logical cores (8) on hyperthreaded systems may strongly degrade performance!\n",
      "******  \n",
      "\n",
      "******  \n",
      "******  Warning: Requesting more threads (8) than the number of available logical cores (8) on hyperthreaded systems may strongly degrade performance!\n",
      "******  \n"
     ]
    },
    {
     "name": "stderr",
     "output_type": "stream",
     "text": [
      "[#############################################     ] 90.5% "
     ]
    },
    {
     "name": "stdout",
     "output_type": "stream",
     "text": [
      "\n",
      "******  \n",
      "******  Warning: Requesting more threads (8) than the number of available logical cores (8) on hyperthreaded systems may strongly degrade performance!\n",
      "******  \n",
      "\n",
      "******  \n",
      "******  Warning: Requesting more threads (8) than the number of available logical cores (8) on hyperthreaded systems may strongly degrade performance!\n",
      "******  \n"
     ]
    },
    {
     "name": "stderr",
     "output_type": "stream",
     "text": [
      "[#############################################     ] 91.0% "
     ]
    },
    {
     "name": "stdout",
     "output_type": "stream",
     "text": [
      "\n",
      "******  \n",
      "******  Warning: Requesting more threads (8) than the number of available logical cores (8) on hyperthreaded systems may strongly degrade performance!\n",
      "******  \n",
      "\n",
      "******  \n",
      "******  Warning: Requesting more threads (8) than the number of available logical cores (8) on hyperthreaded systems may strongly degrade performance!\n",
      "******  \n"
     ]
    },
    {
     "name": "stderr",
     "output_type": "stream",
     "text": [
      "[#############################################     ] 91.5% "
     ]
    },
    {
     "name": "stdout",
     "output_type": "stream",
     "text": [
      "\n",
      "******  \n",
      "******  Warning: Requesting more threads (8) than the number of available logical cores (8) on hyperthreaded systems may strongly degrade performance!\n",
      "******  \n",
      "\n",
      "******  \n",
      "******  Warning: Requesting more threads (8) than the number of available logical cores (8) on hyperthreaded systems may strongly degrade performance!\n",
      "******  \n"
     ]
    },
    {
     "name": "stderr",
     "output_type": "stream",
     "text": [
      "[##############################################    ] 92.0% "
     ]
    },
    {
     "name": "stdout",
     "output_type": "stream",
     "text": [
      "\n",
      "******  \n",
      "******  Warning: Requesting more threads (8) than the number of available logical cores (8) on hyperthreaded systems may strongly degrade performance!\n",
      "******  \n",
      "\n",
      "******  \n",
      "******  Warning: Requesting more threads (8) than the number of available logical cores (8) on hyperthreaded systems may strongly degrade performance!\n",
      "******  \n"
     ]
    },
    {
     "name": "stderr",
     "output_type": "stream",
     "text": [
      "[##############################################    ] 92.5% "
     ]
    },
    {
     "name": "stdout",
     "output_type": "stream",
     "text": [
      "\n",
      "******  \n",
      "******  Warning: Requesting more threads (8) than the number of available logical cores (8) on hyperthreaded systems may strongly degrade performance!\n",
      "******  \n",
      "\n",
      "******  \n",
      "******  Warning: Requesting more threads (8) than the number of available logical cores (8) on hyperthreaded systems may strongly degrade performance!\n",
      "******  \n"
     ]
    },
    {
     "name": "stderr",
     "output_type": "stream",
     "text": [
      "[##############################################    ] 93.0% "
     ]
    },
    {
     "name": "stdout",
     "output_type": "stream",
     "text": [
      "\n",
      "******  \n",
      "******  Warning: Requesting more threads (8) than the number of available logical cores (8) on hyperthreaded systems may strongly degrade performance!\n",
      "******  \n",
      "\n",
      "******  \n",
      "******  Warning: Requesting more threads (8) than the number of available logical cores (8) on hyperthreaded systems may strongly degrade performance!\n",
      "******  \n"
     ]
    },
    {
     "name": "stderr",
     "output_type": "stream",
     "text": [
      "[##############################################    ] 93.5% "
     ]
    },
    {
     "name": "stdout",
     "output_type": "stream",
     "text": [
      "\n",
      "******  \n",
      "******  Warning: Requesting more threads (8) than the number of available logical cores (8) on hyperthreaded systems may strongly degrade performance!\n",
      "******  \n",
      "\n",
      "******  \n",
      "******  Warning: Requesting more threads (8) than the number of available logical cores (8) on hyperthreaded systems may strongly degrade performance!\n",
      "******  \n"
     ]
    },
    {
     "name": "stderr",
     "output_type": "stream",
     "text": [
      "[###############################################   ] 94.0% "
     ]
    },
    {
     "name": "stdout",
     "output_type": "stream",
     "text": [
      "\n",
      "******  \n",
      "******  Warning: Requesting more threads (8) than the number of available logical cores (8) on hyperthreaded systems may strongly degrade performance!\n",
      "******  \n",
      "\n",
      "******  \n",
      "******  Warning: Requesting more threads (8) than the number of available logical cores (8) on hyperthreaded systems may strongly degrade performance!\n",
      "******  \n"
     ]
    },
    {
     "name": "stderr",
     "output_type": "stream",
     "text": [
      "[###############################################   ] 94.5% "
     ]
    },
    {
     "name": "stdout",
     "output_type": "stream",
     "text": [
      "\n",
      "******  \n",
      "******  Warning: Requesting more threads (8) than the number of available logical cores (8) on hyperthreaded systems may strongly degrade performance!\n",
      "******  \n",
      "\n",
      "******  \n",
      "******  Warning: Requesting more threads (8) than the number of available logical cores (8) on hyperthreaded systems may strongly degrade performance!\n",
      "******  \n"
     ]
    },
    {
     "name": "stderr",
     "output_type": "stream",
     "text": [
      "[###############################################   ] 95.0% "
     ]
    },
    {
     "name": "stdout",
     "output_type": "stream",
     "text": [
      "\n",
      "******  \n",
      "******  Warning: Requesting more threads (8) than the number of available logical cores (8) on hyperthreaded systems may strongly degrade performance!\n",
      "******  \n",
      "\n",
      "******  \n",
      "******  Warning: Requesting more threads (8) than the number of available logical cores (8) on hyperthreaded systems may strongly degrade performance!\n",
      "******  \n"
     ]
    },
    {
     "name": "stderr",
     "output_type": "stream",
     "text": [
      "[###############################################   ] 95.5% "
     ]
    },
    {
     "name": "stdout",
     "output_type": "stream",
     "text": [
      "\n",
      "******  \n",
      "******  Warning: Requesting more threads (8) than the number of available logical cores (8) on hyperthreaded systems may strongly degrade performance!\n",
      "******  \n",
      "\n",
      "******  \n",
      "******  Warning: Requesting more threads (8) than the number of available logical cores (8) on hyperthreaded systems may strongly degrade performance!\n",
      "******  \n"
     ]
    },
    {
     "name": "stderr",
     "output_type": "stream",
     "text": [
      "[################################################  ] 96.0% "
     ]
    },
    {
     "name": "stdout",
     "output_type": "stream",
     "text": [
      "\n",
      "******  \n",
      "******  Warning: Requesting more threads (8) than the number of available logical cores (8) on hyperthreaded systems may strongly degrade performance!\n",
      "******  \n",
      "\n",
      "******  \n",
      "******  Warning: Requesting more threads (8) than the number of available logical cores (8) on hyperthreaded systems may strongly degrade performance!\n",
      "******  \n"
     ]
    },
    {
     "name": "stderr",
     "output_type": "stream",
     "text": [
      "[################################################  ] 96.5% "
     ]
    },
    {
     "name": "stdout",
     "output_type": "stream",
     "text": [
      "\n",
      "******  \n",
      "******  Warning: Requesting more threads (8) than the number of available logical cores (8) on hyperthreaded systems may strongly degrade performance!\n",
      "******  \n",
      "\n",
      "******  \n",
      "******  Warning: Requesting more threads (8) than the number of available logical cores (8) on hyperthreaded systems may strongly degrade performance!\n",
      "******  \n"
     ]
    },
    {
     "name": "stderr",
     "output_type": "stream",
     "text": [
      "[################################################  ] 97.0% "
     ]
    },
    {
     "name": "stdout",
     "output_type": "stream",
     "text": [
      "\n",
      "******  \n",
      "******  Warning: Requesting more threads (8) than the number of available logical cores (8) on hyperthreaded systems may strongly degrade performance!\n",
      "******  \n",
      "\n",
      "******  \n",
      "******  Warning: Requesting more threads (8) than the number of available logical cores (8) on hyperthreaded systems may strongly degrade performance!\n",
      "******  \n"
     ]
    },
    {
     "name": "stderr",
     "output_type": "stream",
     "text": [
      "[################################################  ] 97.5% "
     ]
    },
    {
     "name": "stdout",
     "output_type": "stream",
     "text": [
      "\n",
      "******  \n",
      "******  Warning: Requesting more threads (8) than the number of available logical cores (8) on hyperthreaded systems may strongly degrade performance!\n",
      "******  \n",
      "\n",
      "******  \n",
      "******  Warning: Requesting more threads (8) than the number of available logical cores (8) on hyperthreaded systems may strongly degrade performance!\n",
      "******  \n"
     ]
    },
    {
     "name": "stderr",
     "output_type": "stream",
     "text": [
      "[################################################# ] 98.0% "
     ]
    },
    {
     "name": "stdout",
     "output_type": "stream",
     "text": [
      "\n",
      "******  \n",
      "******  Warning: Requesting more threads (8) than the number of available logical cores (8) on hyperthreaded systems may strongly degrade performance!\n",
      "******  \n",
      "\n",
      "******  \n",
      "******  Warning: Requesting more threads (8) than the number of available logical cores (8) on hyperthreaded systems may strongly degrade performance!\n",
      "******  \n"
     ]
    },
    {
     "name": "stderr",
     "output_type": "stream",
     "text": [
      "[################################################# ] 98.5% "
     ]
    },
    {
     "name": "stdout",
     "output_type": "stream",
     "text": [
      "\n",
      "******  \n",
      "******  Warning: Requesting more threads (8) than the number of available logical cores (8) on hyperthreaded systems may strongly degrade performance!\n",
      "******  \n",
      "\n",
      "******  \n",
      "******  Warning: Requesting more threads (8) than the number of available logical cores (8) on hyperthreaded systems may strongly degrade performance!\n",
      "******  \n"
     ]
    },
    {
     "name": "stderr",
     "output_type": "stream",
     "text": [
      "[################################################# ] 99.0% "
     ]
    },
    {
     "name": "stdout",
     "output_type": "stream",
     "text": [
      "\n",
      "******  \n",
      "******  Warning: Requesting more threads (8) than the number of available logical cores (8) on hyperthreaded systems may strongly degrade performance!\n",
      "******  \n",
      "\n",
      "******  \n",
      "******  Warning: Requesting more threads (8) than the number of available logical cores (8) on hyperthreaded systems may strongly degrade performance!\n",
      "******  \n"
     ]
    },
    {
     "name": "stderr",
     "output_type": "stream",
     "text": [
      "[################################################# ] 99.5% "
     ]
    },
    {
     "name": "stdout",
     "output_type": "stream",
     "text": [
      "\n",
      "******  \n",
      "******  Warning: Requesting more threads (8) than the number of available logical cores (8) on hyperthreaded systems may strongly degrade performance!\n",
      "******  \n",
      "\n",
      "******  \n",
      "******  Warning: Requesting more threads (8) than the number of available logical cores (8) on hyperthreaded systems may strongly degrade performance!\n",
      "******  \n"
     ]
    },
    {
     "name": "stderr",
     "output_type": "stream",
     "text": [
      "[##################################################] 100.0% \n"
     ]
    },
    {
     "name": "stdout",
     "output_type": "stream",
     "text": [
      "\n",
      "Bootstrap 50% majority-rule consensus tree\n",
      "   (plus other groups compatible with this tree)\n",
      "\n",
      "/----------------------------------------------------------------------------------------------------------------------------------- SD Field 0201(1)\n",
      "|\n",
      "|                                                                                                                            /------ SD Field 0255(2)\n",
      "|                                                                                                               /-----26-----+\n",
      "|                                                                                                               |            \\------ SD Field 2914(30)\n",
      "|                                                                                                         /--8--+\n",
      "|                                                                                                         |     |      /------------ SD Field 1225(16)\n",
      "|                                                                                                         |     |      |\n",
      "|                                                                                                         |     \\--12--+     /------ SD Field 1226(17)\n",
      "|                                                                                                   /-10--+            \\-34--+\n",
      "|                                                                                                   |     |                  \\------ SD Field 1991(24)\n",
      "|                                                                                                   |     |\n",
      "|                                                                                                   |     |                  /------ SD Field 1220(15)\n",
      "|                                                                                             /-11--+     \\--------10--------+\n",
      "|                                                                                             |     |                        \\------ SD Field 2427(28)\n",
      "|                                                                                             |     |\n",
      "|                                                                                             |     |                        /------ SD Field 0386(3)\n",
      "|                                                                                      /--28--+     \\-----------26-----------+\n",
      "|                                                                                      |      |                              \\------ SD Field 1079(13)\n",
      "|                                                                                /-28--+      |\n",
      "|                                                                                |     |      \\------------------------------------- SD Field 1988(23)\n",
      "|                                                                                |     |\n",
      "|                                                                          /-68--+     \\-------------------------------------------- SD Field 2383(27)\n",
      "|                                                                          |     |\n",
      "|                                                                    /-59--+     \\-------------------------------------------------- SD Field 1961(22)\n",
      "|                                                                    |     |\n",
      "|                                                             /--53--+     \\-------------------------------------------------------- SD Field 0599(9)\n",
      "|                                                             |      |\n",
      "|                                                       /-50--+      \\-------------------------------------------------------------- SD Field 0557(7)\n",
      "|                                                       |     |\n",
      "|                                                 /-39--+     \\--------------------------------------------------------------------- SD Field 0491(4)\n",
      "|                                                 |     |\n",
      "|                                           /-100-+     \\--------------------------------------------------------------------------- SD Field 0493(6)\n",
      "|                                           |     |\n",
      "|                                    /--76--+     \\--------------------------------------------------------------------------------- SD Field 0492(5)\n",
      "|                                    |      |\n",
      "|                              /-89--+      \\--------------------------------------------------------------------------------------- SD Field 0642(10)\n",
      "|                              |     |\n",
      "|                        /-100-+     \\---------------------------------------------------------------------------------------------- SD Field 0666(11)\n",
      "|                        |     |\n",
      "|                  /-77--+     \\---------------------------------------------------------------------------------------------------- SD Field 0598(8)\n",
      "|                  |     |\n",
      "|           /--72--+     \\---------------------------------------------------------------------------------------------------------- SD Field 2287(26)\n",
      "|           |      |\n",
      "|     /-52--+      \\---------------------------------------------------------------------------------------------------------------- SD Field 1205(14)\n",
      "|     |     |\n",
      "|     |     \\----------------------------------------------------------------------------------------------------------------------- SD Field 1899(21)\n",
      "|     |\n",
      "|     |                                                                                             /------------------------------- SD Field 0983(12)\n",
      "|     |                                                                                             |\n",
      "|     |                                                                                             |                        /------ SD Field 1381(18)\n",
      "\\-----+                                                                                             |                  /-34--+\n",
      "      |                                                                                             |                  |     \\------ SD Field 2789(29)\n",
      "      |                                                                                       /-48--+           /--96--+\n",
      "      |                                                                                       |     |           |      |     /------ SD Field 3027(32)\n",
      "      |                                                                                       |     |           |      \\-34--+\n",
      "      |                                                                                       |     |     /-48--+            \\------ SD Field 3124(33)\n",
      "      |                                                                                       |     |     |     |\n",
      "      |                                                                                       |     \\-22--+     \\------------------- SD Field 2968(31)\n",
      "      \\------------------------------------------59-------------------------------------------+           |\n",
      "                                                                                              |           |                  /------ SD Field 1880(20)\n",
      "                                                                                              |           \\--------28--------+\n",
      "                                                                                              |                              \\------ SD Field 2127(25)\n",
      "                                                                                              |\n",
      "                                                                                              \\------------------------------------- SD Field 1878(19)\n",
      "\n",
      "Bipartitions found in one or more trees and frequency of occurrence (bootstrap support values):\n",
      "\n",
      "         1         2         3  3\n",
      "123456789012345678901234567890123          Freq        %\n",
      "--------------------------------------------------------\n",
      ".******.*...*.***....***..**.*...           200  100.00%\n",
      ".**********.*.***....***..**.*...           200  100.00%\n",
      ".................*..........*..**           191   95.50%\n",
      ".******.***.*.***....***..**.*...           178   89.00%\n",
      ".**********.*.***....***.***.*...           154   77.00%\n",
      ".******.**..*.***....***..**.*...           153   76.50%\n",
      ".**********.*****....***.***.*...           144   72.00%\n",
      ".**.........*.***....***..**.*...           136   68.00%\n",
      "...........*.....***....*...*.***           118   59.00%\n",
      ".**.....*...*.***....***..**.*...           118   59.00%\n",
      ".**...*.*...*.***....***..**.*...           106   53.00%\n",
      ".**********.*****...****.***.*...           104   52.00%\n",
      ".***..*.*...*.***....***..**.*...           101   50.50%\n",
      "...........*.....*.*....*...*.***            97   48.50%\n",
      ".................*..........*.***            95   47.50%\n",
      ".***.**.*...*.***....***..**.*...            78   39.00%\n",
      "...............................**            69   34.50%\n",
      "................*......*.........            68   34.00%\n",
      ".................*..........*....            67   33.50%\n",
      ".................*..............*            59   29.50%\n",
      ".****.*.*...*.***....***..**.*...            57   28.50%\n",
      ".**.........*.***.....**..**.*...            57   28.50%\n",
      "...................*....*........            56   28.00%\n",
      "...........*............*........            55   27.50%\n",
      ".**.........*.***.....**...*.*...            55   27.50%\n",
      ".*...........................*...            53   26.50%\n",
      ".***....*...*.***....***..**.*...            52   26.00%\n",
      ".................*..........*...*            52   26.00%\n",
      "..*.........*....................            51   25.50%\n",
      ".................*......*...*.***            45   22.50%\n",
      "...........*.....*......*...*.***            45   22.50%\n",
      ".................*.*....*...*.***            45   22.50%\n",
      ".*******************.************            42   21.00%\n",
      "....**...........................            41   20.50%\n",
      ".**...*.....*.***....***..**.*...            37   18.50%\n",
      "..................**.............            36   18.00%\n",
      ".**.........*.***....***...*.*...            36   18.00%\n",
      ".................*.............**            35   17.50%\n",
      "............................*..**            35   17.50%\n",
      ".**********.*****.*.****.***.*...            34   17.00%\n",
      "............................*..*.            32   16.00%\n",
      ".**********.*.***...****.***.*...            30   15.00%\n",
      "................*............*...            29   14.50%\n",
      ".**********.*****.*..***.***.*...            29   14.50%\n",
      ".............*...........*.......            29   14.50%\n",
      ".................*......*...*..**            29   14.50%\n",
      "............*.........*..........            28   14.00%\n",
      "...........*.......*....*........            27   13.50%\n",
      ".........**......................            27   13.50%\n",
      "............*........*...........            25   12.50%\n",
      "...........*.....****...*...*.***            24   12.00%\n",
      "...*.*...........................            24   12.00%\n",
      "..............*...........*......            23   11.50%\n",
      "...............**......*.........            23   11.50%\n",
      ".*..............*................            23   11.50%\n",
      "...............*.......*.........            23   11.50%\n",
      "..............**.................            22   11.00%\n",
      "............................*...*            22   11.00%\n",
      ".*..............*............*...            22   11.00%\n",
      ".**.........*.***......*...*.*...            22   11.00%\n",
      "..*..................*...........            21   10.50%\n",
      "..............*............*.....            21   10.50%\n",
      ".**.....*...*.***.....**..**.*...            21   10.50%\n",
      "...........*..................*..            21   10.50%\n",
      "............*.*..................            21   10.50%\n",
      "................*......*.....*...            20   10.00%\n",
      ".......*..*......................            20   10.00%\n",
      ".******.*.*.*.***....***..**.*...            20   10.00%\n",
      ".**.*.*.*...*.***....***..**.*...            20   10.00%\n",
      ".*............***......*...*.*...            19    9.50%\n",
      ".*....................*......*...            19    9.50%\n",
      "......................*......*...            19    9.50%\n",
      ".................*..........*..*.            19    9.50%\n",
      "......................*...*......            18    9.00%\n",
      ".*............*..................            18    9.00%\n",
      ".*..............*......*.....*...            18    9.00%\n",
      ".................***....*...*.***            18    9.00%\n",
      ".................*.*....*...*..**            17    8.50%\n",
      ".*.............**......*...*.*...            17    8.50%\n",
      ".*....................*..........            16    8.00%\n",
      ".*.............**.....**...*.*...            16    8.00%\n",
      "...........................*.*...            16    8.00%\n",
      "..*...................*..........            16    8.00%\n",
      ".**...........***......*...*.*...            16    8.00%\n",
      ".....................*....*......            16    8.00%\n",
      ".**.........*.***....*.*..**.*...            15    7.50%\n",
      "...............**................            15    7.50%\n",
      "...............*...........*.....            15    7.50%\n",
      "........................*.....*..            15    7.50%\n",
      "...........*.....**.....*...*.***            15    7.50%\n",
      "..*...........*..................            15    7.50%\n",
      ".*.............**......*.....*...            15    7.50%\n",
      "...........*......*..............            14    7.00%\n",
      "...........*............*.....*..            14    7.00%\n",
      ".*..............*.....**.....*...            13    6.50%\n",
      ".**.....*...*.***....***...*.*...            13    6.50%\n",
      "..*.........*.*..................            13    6.50%\n",
      "....*...*........................            13    6.50%\n",
      ".**..**.*...*.***....***..**.*...            13    6.50%\n",
      ".**.***.*...*.***....***..**.*...            12    6.00%\n",
      ".*..............*.....*......*...            12    6.00%\n",
      "............*..*.................            12    6.00%\n",
      "...............**......*.....*...            12    6.00%\n",
      ".***........*.***....***..**.*...            12    6.00%\n",
      ".**.........*.***....*.*...*.*...            12    6.00%\n",
      ".**...........***.....**...*.*...            12    6.00%\n",
      "...............*.............*...            12    6.00%\n",
      "..*.........*........*...........            11    5.50%\n",
      ".....................*.....*.....            11    5.50%\n",
      ".***..*.....*.***....***..**.*...            11    5.50%\n",
      "..*........................*.....            11    5.50%\n",
      "......*.*........................            11    5.50%\n",
      ".**...........***..........*.*...            10    5.00%\n",
      ".**............**......*...*.*...            10    5.00%\n",
      ".**.........*.***....**...**.*...            10    5.00%\n",
      ".................*.............*.            10    5.00%\n",
      "...........*......**....*........            10    5.00%\n",
      "...........*.....*......*...*..**            10    5.00%\n",
      ".**.........*..**.....**...*.*...            10    5.00%\n",
      ".*.........................*.....            10    5.00%\n",
      ".**********.*****....***..**.*...            10    5.00%\n",
      "\n",
      "522 groups at (relative) frequency less than 5% not shown\n",
      "\n",
      "Bootstrap consensus tree stored to tree buffer (replacing previously stored tree)\n",
      "\n",
      "Trees from bootstrap replicates written to treefile: ~/Population-Genomics-and-Phylogenetics-with-RADseq/svdq_out/ruber_reduced_denovo.svdqboots.tre\n",
      "\n",
      "Time used for SVDQuartet analysis = 00:04:17 (CPU time = 00:33:24.7)\n"
     ]
    }
   ],
   "source": [
    "%%bash\n",
    "PAUP=\"/usr/bin/paup4\" # set up PAUP path\n",
    "OUTDIR=\"/home/jupyter/Population-Genomics-and-Phylogenetics-with-RADseq/svdq_out\"\n",
    "\n",
    "\n",
    "#define  variables for the PAUPblock\n",
    "filebname=\"ruber_reduced_denovo\" #basename for all produced files\n",
    "# double check that you have this path\n",
    "infile=\"/home/jupyter/Population-Genomics-and-Phylogenetics-with-RADseq/ipyrad_out/ruber_reduced_denovo_outfiles/ruber_reduced_denovoPAUP.nex\" #name of input nexus file; can give a path so the input files don't have to be part of the working directory\n",
    "nthreads=8 #number of threads to use\n",
    "nreps=200 #number of replicates for bootstrapping\n",
    "\n",
    "\n",
    "\n",
    "################################################################################################################################################################\n",
    "################################################################################################################################################################\n",
    "####    Run based on the parameters set above\n",
    "################################################################################################################################################################\n",
    "################################################################################################################################################################\n",
    "\n",
    "\n",
    "#change working directory to where your output files will go\n",
    "mkdir -p $OUTDIR\n",
    "cd $OUTDIR\n",
    "\n",
    "\n",
    "cat <<EOF > $filebname.paup.txt\n",
    "Begin paup;\n",
    "set autoclose=yes warntree=no warnreset=no flock=no;\n",
    "log start file=$filebname.log ;\n",
    "execute $infile;\n",
    "svdQuartets evalQuartets=all showScores=no ambigs=distribute bootstrap=no nthreads=$nthreads;\n",
    "savetrees file=$filebname.besttree.tre;\n",
    "svdQuartets evalQuartets=all showScores=no ambigs=distribute bootstrap=standard nreps=$nreps nthreads=$nthreads treefile=$filebname.svdqboots.tre;  \n",
    "quit; \n",
    "end;\n",
    "EOF\n",
    "\n",
    "$PAUP $filebname.paup.txt #execute your new paup block file\n",
    "\n",
    "\n",
    "\n"
   ]
  },
  {
   "cell_type": "markdown",
   "id": "17eb70de-6736-46a2-bc6b-9bf1d92bece5",
   "metadata": {},
   "source": [
    "If SVDQuartets runs sucessfully, your output directory should end up with various files, most importantly `ruber_reduced_denovo.svdqboots.tre` and `ruber_reduced_denovo.besttree.tre`. You should also see a text representation of the tree that was inferred. We'll visualize the tree you estimated in the R in the next tutorial.\n"
   ]
  },
  {
   "cell_type": "code",
   "execution_count": 8,
   "id": "e2964de0-b287-44e8-8969-2bb34513e828",
   "metadata": {},
   "outputs": [
    {
     "data": {
      "text/html": [
       "<div id=\"cYUfxFVQgEbO\" data-shufflequestions=\"False\" data-shuffleanswers=\"True\" data-preserveresponses=\"false\" data-numquestions=\"1000000\" data-maxwidth=\"600\" style=\"border-radius: 10px; text-align: left\"><style>\n",
       "#cYUfxFVQgEbO {\n",
       "   --jq-multiple-choice-bg: #6f78ffff;\n",
       "   --jq-mc-button-bg: #fafafa;\n",
       "   --jq-mc-button-border: #e0e0e0e0;\n",
       "   --jq-mc-button-inset-shadow: #555555;\n",
       "   --jq-many-choice-bg: #f75c03ff;\n",
       "   --jq-numeric-bg: #392061ff;\n",
       "   --jq-numeric-input-bg: #c0c0c0;\n",
       "   --jq-numeric-input-label: #101010;\n",
       "   --jq-numeric-input-shadow: #999999;\n",
       "   --jq-string-bg: #4c1a57;\n",
       "   --jq-incorrect-color: #c80202;\n",
       "   --jq-correct-color: #009113;\n",
       "   --jq-text-color: #fafafa;\n",
       "}\n",
       "\n",
       ".Quiz {\n",
       "    max-width: 600px;\n",
       "    margin-top: 15px;\n",
       "    margin-left: auto;\n",
       "    margin-right: auto;\n",
       "/*    margin-bottom: 15px;*/\n",
       "/*    padding-bottom: 4px;*/\n",
       "    padding-top: 4px;\n",
       "    line-height: 1.1;\n",
       "    font-size: 16pt;\n",
       "    border-radius: inherit;\n",
       "}\n",
       "\n",
       ".QuizCode {\n",
       "    font-size: 14pt;\n",
       "    margin-top: 10px;\n",
       "    margin-left: 20px;\n",
       "    margin-right: 20px;\n",
       "}\n",
       "\n",
       ".QuizCode>pre {\n",
       "    padding: 4px;\n",
       "}\n",
       "\n",
       ".Quiz code {\n",
       "    background-color: lightgray;\n",
       "    color: black;\n",
       "}\n",
       "\n",
       ".Quiz .QuizCode code {\n",
       "    background-color: inherit;\n",
       "    color: inherit;\n",
       "}\n",
       "\n",
       "\n",
       ".Quiz .MCButton code {\n",
       "    background-color: inherit;\n",
       "    color: inherit;\n",
       "}\n",
       "\n",
       ".MCButton .QuizCode {\n",
       "    text-align: left;\n",
       "}\n",
       "\n",
       "\n",
       "\n",
       "\n",
       ".Answer {\n",
       "    border-radius: inherit;\n",
       "    display: grid;\n",
       "    grid-gap: 10px;\n",
       "    grid-template-columns: 1fr 1fr;\n",
       "    margin: 10px 0;\n",
       "}\n",
       "\n",
       "@media only screen and (max-width:480px) {\n",
       "    .Answer {\n",
       "        grid-template-columns: 1fr;\n",
       "    }\n",
       "\n",
       "}\n",
       "\n",
       ".Feedback {\n",
       "    font-size: 16pt;\n",
       "    text-align: center;\n",
       "/*    min-height: 2em;*/\n",
       "}\n",
       "\n",
       ".Input {\n",
       "    align: left;\n",
       "    font-size: 20pt;\n",
       "}\n",
       "\n",
       ".Input-text {\n",
       "    display: block;\n",
       "    margin: 10px;\n",
       "    color: inherit;\n",
       "    width: unset;\n",
       "    min-width: 140px;\n",
       "    max-width: 93%;\n",
       "    field-sizing: content;\n",
       "    background-color: var(--jq-numeric-input-bg);\n",
       "    color: var(--jq-text-color);\n",
       "    padding: 5px;\n",
       "    padding-left: 10px;\n",
       "    font-family: inherit;\n",
       "    font-size: 20px;\n",
       "    font-weight: inherit;\n",
       "    line-height: 20pt;\n",
       "    border: none;\n",
       "    border-radius: 0.2rem;\n",
       "    transition: box-shadow 0.1s);\n",
       "}\n",
       "\n",
       ".Input-text:focus {\n",
       "    /*outline: none;*/\n",
       "    background-color: var(--jq-numeric-input-bg);\n",
       "    box-shadow: 0.6rem 0.8rem 1.4rem -0.5rem var(--jq-numeric-input-shadow);\n",
       "}\n",
       "\n",
       ".MCButton {\n",
       "    background: var(--jq-mc-button-bg);\n",
       "    border: 1px solid var(--jq-mc-button-border);\n",
       "    border-radius: inherit;\n",
       "    color: #333333;\n",
       "    padding: 10px;\n",
       "    font-size: 16px;\n",
       "    cursor: pointer;\n",
       "    text-align: center;\n",
       "    display: flex;\n",
       "    align-items: center;\n",
       "    justify-content: center;\n",
       "}\n",
       "\n",
       ".MCButton p {\n",
       "    color: inherit;\n",
       "}\n",
       "\n",
       ".MultipleChoiceQn {\n",
       "    padding: 10px;\n",
       "    background: var(--jq-multiple-choice-bg);\n",
       "    color: var(--jq-text-color);\n",
       "    border-radius: inherit;\n",
       "}\n",
       "\n",
       ".ManyChoiceQn {\n",
       "    padding: 10px;\n",
       "    background: var(--jq-many-choice-bg);\n",
       "    color: var(--jq-text-color);\n",
       "    border-radius: inherit;\n",
       "}\n",
       "\n",
       ".NumericQn {\n",
       "    background: var(--jq-numeric-bg);\n",
       "    border-radius: inherit;\n",
       "    color: var(--jq-text-color);\n",
       "    padding: 10px;\n",
       "}\n",
       "\n",
       ".NumericQn p {\n",
       "    color: inherit;\n",
       "}\n",
       "\n",
       ".StringQn {\n",
       "    background: var(--jq-string-bg);\n",
       "    border-radius: inherit;\n",
       "    color: var(--jq-text-color);\n",
       "    padding: 10px;\n",
       "}\n",
       "\n",
       ".StringQn p {\n",
       "    color: inherit;\n",
       "}\n",
       "\n",
       "\n",
       ".InpLabel {\n",
       "    color: var(--jq-numeric-input-label);\n",
       "    float: left;\n",
       "    font-size: 15pt;\n",
       "    line-height: 34px;\n",
       "    margin-right: 10px;\n",
       "}\n",
       "\n",
       ".incorrect {\n",
       "    color: var(--jq-incorrect-color);\n",
       "}\n",
       "\n",
       ".correct {\n",
       "    color: var(--jq-correct-color);\n",
       "}\n",
       "\n",
       ".correctButton {\n",
       "    /*\n",
       "    background: var(--jq-correct-color);\n",
       "   */\n",
       "    animation: correct-anim 0.6s ease;\n",
       "    animation-fill-mode: forwards;\n",
       "    box-shadow: inset 0 0 5px var(--jq-mc-button-inset-shadow);\n",
       "    color: var(--jq-text-color);\n",
       "    /*outline: none;*/\n",
       "}\n",
       "\n",
       ".incorrectButton {\n",
       "    animation: incorrect-anim 0.8s ease;\n",
       "    animation-fill-mode: forwards;\n",
       "    box-shadow: inset 0 0 5px var(--jq-mc-button-inset-shadow);\n",
       "    color: var(--jq-text-color);\n",
       "    /*outline: none;*/\n",
       "}\n",
       "\n",
       "@keyframes incorrect-anim {\n",
       "    100% {\n",
       "        background-color: var(--jq-incorrect-color);\n",
       "    }\n",
       "}\n",
       "\n",
       "@keyframes correct-anim {\n",
       "    100% {\n",
       "        background-color: var(--jq-correct-color);\n",
       "    }\n",
       "}\n",
       "</style>"
      ],
      "text/plain": [
       "<IPython.core.display.HTML object>"
      ]
     },
     "metadata": {},
     "output_type": "display_data"
    },
    {
     "data": {
      "application/javascript": [
       "var questionscYUfxFVQgEbO=[\n",
       "    {\n",
       "        \"question\": \"More bootstraps can give a better approximation of the percentage of bootstraps that support a clade. What variable would you change to use 500 replicates for SVDQuartets\",\n",
       "        \"type\": \"many_choice\",\n",
       "        \"answers\": [\n",
       "            {\n",
       "                \"answer\": \"nreps\",\n",
       "                \"correct\": true,\n",
       "                \"feedback\": \"Correct.\"\n",
       "            },\n",
       "            {\n",
       "                \"answer\": \"nthreads\",\n",
       "                \"correct\": false,\n",
       "                \"feedback\": \"Incorrect.\"\n",
       "            },\n",
       "            {\n",
       "                \"answer\": \"-alrt\",\n",
       "                \"correct\": false,\n",
       "                \"feedback\": \"Incorrect.\"\n",
       "            },\n",
       "            {\n",
       "                \"answer\": \"-B\",\n",
       "                \"correct\": false,\n",
       "                \"feedback\": \"Incorrect.\"\n",
       "            }\n",
       "        ]\n",
       "    }\n",
       "]\n",
       "\n",
       ";\n",
       "\n",
       "if (typeof Question === 'undefined') {\n",
       "// Make a random ID\n",
       "function makeid(length) {\n",
       "    var result = [];\n",
       "    var characters = 'ABCDEFGHIJKLMNOPQRSTUVWXYZabcdefghijklmnopqrstuvwxyz';\n",
       "    var charactersLength = characters.length;\n",
       "    for (var i = 0; i < length; i++) {\n",
       "        result.push(characters.charAt(Math.floor(Math.random() * charactersLength)));\n",
       "    }\n",
       "    return result.join('');\n",
       "}\n",
       "// Convert LaTeX delimiters and markdown links to HTML\n",
       "function jaxify(string) {\n",
       "    let mystring = string;\n",
       "    let count = 0, count2 = 0;\n",
       "    let loc = mystring.search(/([^\\\\]|^)(\\$)/);\n",
       "    let loc2 = mystring.search(/([^\\\\]|^)(\\$\\$)/);\n",
       "    while (loc >= 0 || loc2 >= 0) {\n",
       "        if (loc2 >= 0) {\n",
       "            mystring = mystring.replace(/([^\\\\]|^)(\\$\\$)/, count2 % 2 ? '$1\\\\]' : '$1\\\\[');\n",
       "            count2++;\n",
       "        } else {\n",
       "            mystring = mystring.replace(/([^\\\\]|^)(\\$)/, count % 2 ? '$1\\\\)' : '$1\\\\(');\n",
       "            count++;\n",
       "        }\n",
       "        loc = mystring.search(/([^\\\\]|^)(\\$)/);\n",
       "        loc2 = mystring.search(/([^\\\\]|^)(\\$\\$)/);\n",
       "    }\n",
       "    // Replace markdown links\n",
       "    mystring = mystring.replace(/<http(.*?)>/g, '<a href=\"http$1\" target=\"_blank\" class=\"Link\">http$1</a>');\n",
       "    mystring = mystring.replace(/\\[(.*?)\\]\\((.*?)\\)/g, '<a href=\"$2\" target=\"_blank\" class=\"Link\">$1</a>');\n",
       "    return mystring;\n",
       "}\n",
       "\n",
       "// Base class for question types\n",
       "class Question {\n",
       "    static registry = {};\n",
       "    static register(type, cls) {\n",
       "        Question.registry[type] = cls;\n",
       "    }\n",
       "    static create(qa, id, index, options, rootDiv) {\n",
       "        const Cls = Question.registry[qa.type];\n",
       "        if (!Cls) {\n",
       "            console.error(`No question class registered for type \"${qa.type}\"`);\n",
       "            return;\n",
       "        }\n",
       "        const q = new Cls(qa, id, index, options, rootDiv);\n",
       "        q.render();\n",
       "    }\n",
       "\n",
       "    constructor(qa, id, index, options, rootDiv) {\n",
       "        this.qa = qa;\n",
       "        this.id = id;\n",
       "        this.index = index;\n",
       "        this.options = options;\n",
       "        this.rootDiv = rootDiv;\n",
       "        // wrapper\n",
       "        this.wrapper = document.createElement('div');\n",
       "        this.wrapper.id = `quizWrap${id}`;\n",
       "        this.wrapper.className = 'Quiz';\n",
       "        this.wrapper.dataset.qnum = index;\n",
       "        this.wrapper.style.maxWidth = `${options.maxWidth}px`;\n",
       "        rootDiv.appendChild(this.wrapper);\n",
       "        // question container\n",
       "        this.outerqDiv = document.createElement('div');\n",
       "        this.outerqDiv.id = `OuterquizQn${id}${index}`;\n",
       "        this.wrapper.appendChild(this.outerqDiv);\n",
       "        // question text\n",
       "        this.qDiv = document.createElement('div');\n",
       "        this.qDiv.id = `quizQn${id}${index}`;\n",
       "        if (qa.question) {\n",
       "            this.qDiv.innerHTML = jaxify(qa.question);\n",
       "            this.outerqDiv.appendChild(this.qDiv);\n",
       "        }\n",
       "        // code block\n",
       "        if (qa.code) {\n",
       "            const codeDiv = document.createElement('div');\n",
       "            codeDiv.id = `code${id}${index}`;\n",
       "            codeDiv.className = 'QuizCode';\n",
       "            const pre = document.createElement('pre');\n",
       "            const codeEl = document.createElement('code');\n",
       "            codeEl.innerHTML = qa.code;\n",
       "            pre.appendChild(codeEl);\n",
       "            codeDiv.appendChild(pre);\n",
       "            this.outerqDiv.appendChild(codeDiv);\n",
       "        }\n",
       "        // answer container\n",
       "        this.aDiv = document.createElement('div');\n",
       "        this.aDiv.id = `quizAns${id}${index}`;\n",
       "        this.aDiv.className = 'Answer';\n",
       "        this.wrapper.appendChild(this.aDiv);\n",
       "        // feedback container (append after answers)\n",
       "        this.fbDiv = document.createElement('div');\n",
       "        this.fbDiv.id = `fb${id}`;\n",
       "        this.fbDiv.className = 'Feedback';\n",
       "        this.fbDiv.dataset.answeredcorrect = 0;\n",
       "    }\n",
       "\n",
       "    render() {\n",
       "        throw new Error('render() not implemented');\n",
       "    }\n",
       "\n",
       "    preserveResponse(val) {\n",
       "        if (!this.options.preserveResponses) return;\n",
       "        const resp = document.getElementById(`responses${this.rootDiv.id}`);\n",
       "        if (!resp) return;\n",
       "        const arr = JSON.parse(resp.dataset.responses);\n",
       "        arr[this.index] = val;\n",
       "        resp.dataset.responses = JSON.stringify(arr);\n",
       "        printResponses(resp);\n",
       "    }\n",
       "\n",
       "    typeset(container) {\n",
       "        if (typeof MathJax !== 'undefined') {\n",
       "            const v = MathJax.version;\n",
       "            if (v[0] === '2') {\n",
       "                MathJax.Hub.Queue(['Typeset', MathJax.Hub]);\n",
       "            } else {\n",
       "                MathJax.typeset([container]);\n",
       "            }\n",
       "        }\n",
       "    }\n",
       "}\n",
       "\n",
       "// Choose a random subset of an array. Can also be used to shuffle the array\n",
       "function getRandomSubarray(arr, size) {\n",
       "    var shuffled = arr.slice(0), i = arr.length, temp, index;\n",
       "    while (i--) {\n",
       "        index = Math.floor((i + 1) * Math.random());\n",
       "        temp = shuffled[index];\n",
       "        shuffled[index] = shuffled[i];\n",
       "        shuffled[i] = temp;\n",
       "    }\n",
       "    return shuffled.slice(0, size);\n",
       "}\n",
       "\n",
       "function printResponses(responsesContainer) {\n",
       "    var responses=JSON.parse(responsesContainer.dataset.responses);\n",
       "    var stringResponses='<B>IMPORTANT!</B>To preserve this answer sequence for submission, when you have finalized your answers: <ol> <li> Copy the text in this cell below \"Answer String\"</li> <li> Double click on the cell directly below the Answer String, labeled \"Replace Me\"</li> <li> Select the whole \"Replace Me\" text</li> <li> Paste in your answer string and press shift-Enter.</li><li>Save the notebook using the save icon or File->Save Notebook menu item</li></ul><br><br><br><b>Answer String:</b><br> ';\n",
       "    console.log(responses);\n",
       "    responses.forEach((response, index) => {\n",
       "        if (response) {\n",
       "            console.log(index + ': ' + response);\n",
       "            stringResponses+= index + ': ' + response +\"<BR>\";\n",
       "        }\n",
       "    });\n",
       "    responsesContainer.innerHTML=stringResponses;\n",
       "}\n",
       "/* Callback function to determine whether a selected multiple-choice\n",
       "   button corresponded to a correct answer and to provide feedback\n",
       "   based on the answer */\n",
       "function check_mc() {\n",
       "    var id = this.id.split('-')[0];\n",
       "    //var response = this.id.split('-')[1];\n",
       "    //console.log(response);\n",
       "    //console.log(\"In check_mc(), id=\"+id);\n",
       "    //console.log(event.srcElement.id)           \n",
       "    //console.log(event.srcElement.dataset.correct)   \n",
       "    //console.log(event.srcElement.dataset.feedback)\n",
       "\n",
       "    var label = event.srcElement;\n",
       "    //console.log(label, label.nodeName);\n",
       "    var depth = 0;\n",
       "    while ((label.nodeName != \"LABEL\") && (depth < 20)) {\n",
       "        label = label.parentElement;\n",
       "        console.log(depth, label);\n",
       "        depth++;\n",
       "    }\n",
       "\n",
       "\n",
       "\n",
       "    var answers = label.parentElement.children;\n",
       "    //console.log(answers);\n",
       "\n",
       "    // Split behavior based on multiple choice vs many choice:\n",
       "    var fb = document.getElementById(\"fb\" + id);\n",
       "\n",
       "\n",
       "\n",
       "    /* Multiple choice (1 answer). Allow for 0 correct\n",
       "       answers as an edge case */\n",
       "    if (fb.dataset.numcorrect <= 1) {\n",
       "        // What follows is for the saved responses stuff\n",
       "        var outerContainer = fb.parentElement.parentElement;\n",
       "        var responsesContainer = document.getElementById(\"responses\" + outerContainer.id);\n",
       "        if (responsesContainer) {\n",
       "            //console.log(responsesContainer);\n",
       "            var response = label.firstChild.innerText;\n",
       "            if (label.querySelector(\".QuizCode\")){\n",
       "                response+= label.querySelector(\".QuizCode\").firstChild.innerText;\n",
       "            }\n",
       "            console.log(response);\n",
       "            //console.log(document.getElementById(\"quizWrap\"+id));\n",
       "            var qnum = document.getElementById(\"quizWrap\"+id).dataset.qnum;\n",
       "            console.log(\"Question \" + qnum);\n",
       "            //console.log(id, \", got numcorrect=\",fb.dataset.numcorrect);\n",
       "            var responses=JSON.parse(responsesContainer.dataset.responses);\n",
       "            console.log(responses);\n",
       "            responses[qnum]= response;\n",
       "            responsesContainer.setAttribute('data-responses', JSON.stringify(responses));\n",
       "            printResponses(responsesContainer);\n",
       "        }\n",
       "        // End code to preserve responses\n",
       "\n",
       "        for (var i = 0; i < answers.length; i++) {\n",
       "            var child = answers[i];\n",
       "            //console.log(child);\n",
       "            child.className = \"MCButton\";\n",
       "        }\n",
       "\n",
       "\n",
       "\n",
       "        if (label.dataset.correct == \"true\") {\n",
       "            // console.log(\"Correct action\");\n",
       "            if (\"feedback\" in label.dataset) {\n",
       "                fb.innerHTML = jaxify(label.dataset.feedback);\n",
       "            } else {\n",
       "                fb.innerHTML = \"Correct!\";\n",
       "            }\n",
       "            label.classList.add(\"correctButton\");\n",
       "\n",
       "            fb.className = \"Feedback\";\n",
       "            fb.classList.add(\"correct\");\n",
       "\n",
       "        } else {\n",
       "            if (\"feedback\" in label.dataset) {\n",
       "                fb.innerHTML = jaxify(label.dataset.feedback);\n",
       "            } else {\n",
       "                fb.innerHTML = \"Incorrect -- try again.\";\n",
       "            }\n",
       "            //console.log(\"Error action\");\n",
       "            label.classList.add(\"incorrectButton\");\n",
       "            fb.className = \"Feedback\";\n",
       "            fb.classList.add(\"incorrect\");\n",
       "        }\n",
       "    }\n",
       "    else { /* Many choice (more than 1 correct answer) */\n",
       "        var reset = false;\n",
       "        var feedback;\n",
       "         if (label.dataset.correct == \"true\") {\n",
       "            if (\"feedback\" in label.dataset) {\n",
       "                feedback = jaxify(label.dataset.feedback);\n",
       "            } else {\n",
       "                feedback = \"Correct!\";\n",
       "            }\n",
       "            if (label.dataset.answered <= 0) {\n",
       "                if (fb.dataset.answeredcorrect < 0) {\n",
       "                    fb.dataset.answeredcorrect = 1;\n",
       "                    reset = true;\n",
       "                } else {\n",
       "                    fb.dataset.answeredcorrect++;\n",
       "                }\n",
       "                if (reset) {\n",
       "                    for (var i = 0; i < answers.length; i++) {\n",
       "                        var child = answers[i];\n",
       "                        child.className = \"MCButton\";\n",
       "                        child.dataset.answered = 0;\n",
       "                    }\n",
       "                }\n",
       "                label.classList.add(\"correctButton\");\n",
       "                label.dataset.answered = 1;\n",
       "                fb.className = \"Feedback\";\n",
       "                fb.classList.add(\"correct\");\n",
       "\n",
       "            }\n",
       "        } else {\n",
       "            if (\"feedback\" in label.dataset) {\n",
       "                feedback = jaxify(label.dataset.feedback);\n",
       "            } else {\n",
       "                feedback = \"Incorrect -- try again.\";\n",
       "            }\n",
       "            if (fb.dataset.answeredcorrect > 0) {\n",
       "                fb.dataset.answeredcorrect = -1;\n",
       "                reset = true;\n",
       "            } else {\n",
       "                fb.dataset.answeredcorrect--;\n",
       "            }\n",
       "\n",
       "            if (reset) {\n",
       "                for (var i = 0; i < answers.length; i++) {\n",
       "                    var child = answers[i];\n",
       "                    child.className = \"MCButton\";\n",
       "                    child.dataset.answered = 0;\n",
       "                }\n",
       "            }\n",
       "            label.classList.add(\"incorrectButton\");\n",
       "            fb.className = \"Feedback\";\n",
       "            fb.classList.add(\"incorrect\");\n",
       "        }\n",
       "        // What follows is for the saved responses stuff\n",
       "        var outerContainer = fb.parentElement.parentElement;\n",
       "        var responsesContainer = document.getElementById(\"responses\" + outerContainer.id);\n",
       "        if (responsesContainer) {\n",
       "            //console.log(responsesContainer);\n",
       "            var response = label.firstChild.innerText;\n",
       "            if (label.querySelector(\".QuizCode\")){\n",
       "                response+= label.querySelector(\".QuizCode\").firstChild.innerText;\n",
       "            }\n",
       "            console.log(response);\n",
       "            //console.log(document.getElementById(\"quizWrap\"+id));\n",
       "            var qnum = document.getElementById(\"quizWrap\"+id).dataset.qnum;\n",
       "            console.log(\"Question \" + qnum);\n",
       "            //console.log(id, \", got numcorrect=\",fb.dataset.numcorrect);\n",
       "            var responses=JSON.parse(responsesContainer.dataset.responses);\n",
       "            if (label.dataset.correct == \"true\") {\n",
       "                if (typeof(responses[qnum]) == \"object\"){\n",
       "                    if (!responses[qnum].includes(response))\n",
       "                        responses[qnum].push(response);\n",
       "                } else{\n",
       "                    responses[qnum]= [ response ];\n",
       "                }\n",
       "            } else {\n",
       "                responses[qnum]= response;\n",
       "            }\n",
       "            console.log(responses);\n",
       "            responsesContainer.setAttribute('data-responses', JSON.stringify(responses));\n",
       "            printResponses(responsesContainer);\n",
       "        }\n",
       "        // End save responses stuff\n",
       "\n",
       "\n",
       "\n",
       "        var numcorrect = fb.dataset.numcorrect;\n",
       "        var answeredcorrect = fb.dataset.answeredcorrect;\n",
       "        if (answeredcorrect >= 0) {\n",
       "            fb.innerHTML = feedback + \" [\" + answeredcorrect + \"/\" + numcorrect + \"]\";\n",
       "        } else {\n",
       "            fb.innerHTML = feedback + \" [\" + 0 + \"/\" + numcorrect + \"]\";\n",
       "        }\n",
       "\n",
       "\n",
       "    }\n",
       "\n",
       "    if (typeof MathJax != 'undefined') {\n",
       "        var version = MathJax.version;\n",
       "        console.log('MathJax version', version);\n",
       "        if (version[0] == \"2\") {\n",
       "            MathJax.Hub.Queue([\"Typeset\", MathJax.Hub]);\n",
       "        } else if (version[0] == \"3\") {\n",
       "            MathJax.typeset([fb]);\n",
       "        }\n",
       "    } else {\n",
       "        console.log('MathJax not detected');\n",
       "    }\n",
       "\n",
       "}\n",
       "\n",
       "\n",
       "/* Function to produce the HTML buttons for a multiple choice/\n",
       "   many choice question  and to update the CSS tags based on\n",
       "   the question type */\n",
       "function make_mc(qa, shuffle_answers, outerqDiv, qDiv, aDiv, id) {\n",
       "\n",
       "    var shuffled;\n",
       "    if (shuffle_answers == true) {\n",
       "        //console.log(shuffle_answers+\" read as true\");\n",
       "        shuffled = getRandomSubarray(qa.answers, qa.answers.length);\n",
       "    } else {\n",
       "        //console.log(shuffle_answers+\" read as false\");\n",
       "        shuffled = qa.answers;\n",
       "    }\n",
       "\n",
       "\n",
       "    var num_correct = 0;\n",
       "\n",
       "    shuffled.forEach((item, index, ans_array) => {\n",
       "        //console.log(answer);\n",
       "\n",
       "        // Make input element\n",
       "        var inp = document.createElement(\"input\");\n",
       "        inp.type = \"radio\";\n",
       "        inp.id = \"quizo\" + id + index;\n",
       "        inp.style = \"display:none;\";\n",
       "        aDiv.append(inp);\n",
       "\n",
       "        //Make label for input element\n",
       "        var lab = document.createElement(\"label\");\n",
       "        lab.className = \"MCButton\";\n",
       "        lab.id = id + '-' + index;\n",
       "        lab.onclick = check_mc;\n",
       "        var aSpan = document.createElement('span');\n",
       "        aSpan.classsName = \"\";\n",
       "        //qDiv.id=\"quizQn\"+id+index;\n",
       "        if (\"answer\" in item) {\n",
       "            aSpan.innerHTML = jaxify(item.answer);\n",
       "            //aSpan.innerHTML=item.answer;\n",
       "        }\n",
       "        lab.append(aSpan);\n",
       "\n",
       "        // Create div for code inside question\n",
       "        var codeSpan;\n",
       "        if (\"code\" in item) {\n",
       "            codeSpan = document.createElement('span');\n",
       "            codeSpan.id = \"code\" + id + index;\n",
       "            codeSpan.className = \"QuizCode\";\n",
       "            var codePre = document.createElement('pre');\n",
       "            codeSpan.append(codePre);\n",
       "            var codeCode = document.createElement('code');\n",
       "            codePre.append(codeCode);\n",
       "            codeCode.innerHTML = item.code;\n",
       "            lab.append(codeSpan);\n",
       "            //console.log(codeSpan);\n",
       "        }\n",
       "\n",
       "        //lab.textContent=item.answer;\n",
       "\n",
       "        // Set the data attributes for the answer\n",
       "        lab.setAttribute('data-correct', item.correct);\n",
       "        if (item.correct) {\n",
       "            num_correct++;\n",
       "        }\n",
       "        if (\"feedback\" in item) {\n",
       "            lab.setAttribute('data-feedback', item.feedback);\n",
       "        }\n",
       "        lab.setAttribute('data-answered', 0);\n",
       "\n",
       "        aDiv.append(lab);\n",
       "\n",
       "    });\n",
       "\n",
       "    if (num_correct > 1) {\n",
       "        outerqDiv.className = \"ManyChoiceQn\";\n",
       "    } else {\n",
       "        outerqDiv.className = \"MultipleChoiceQn\";\n",
       "    }\n",
       "\n",
       "    return num_correct;\n",
       "\n",
       "}\n",
       "// Object-oriented wrapper for MC/MANY choice\n",
       "class MCQuestion extends Question {\n",
       "    constructor(qa, id, idx, opts, rootDiv) { super(qa, id, idx, opts, rootDiv); }\n",
       "    render() {\n",
       "        //console.log(\"options.shuffleAnswers \" + this.options.shuffleAnswers);\n",
       "        const numCorrect = make_mc(\n",
       "            this.qa,\n",
       "            this.options.shuffleAnswers,\n",
       "            this.outerqDiv,\n",
       "            this.qDiv,\n",
       "            this.aDiv,\n",
       "            this.id\n",
       "        );\n",
       "        if ('answer_cols' in this.qa) {\n",
       "            this.aDiv.style.gridTemplateColumns =\n",
       "                'repeat(' + this.qa.answer_cols + ', 1fr)';\n",
       "        }\n",
       "        this.fbDiv.dataset.numcorrect = numCorrect;\n",
       "        this.wrapper.appendChild(this.fbDiv);\n",
       "    }\n",
       "}\n",
       "Question.register('multiple_choice', MCQuestion);\n",
       "Question.register('many_choice', MCQuestion);\n",
       "function check_numeric(ths, event) {\n",
       "\n",
       "    if (event.keyCode === 13) {\n",
       "        ths.blur();\n",
       "\n",
       "        var id = ths.id.split('-')[0];\n",
       "\n",
       "        var submission = ths.value;\n",
       "        if (submission.indexOf('/') != -1) {\n",
       "            var sub_parts = submission.split('/');\n",
       "            //console.log(sub_parts);\n",
       "            submission = sub_parts[0] / sub_parts[1];\n",
       "        }\n",
       "        //console.log(\"Reader entered\", submission);\n",
       "\n",
       "        if (\"precision\" in ths.dataset) {\n",
       "            var precision = ths.dataset.precision;\n",
       "            submission = Number(Number(submission).toPrecision(precision));\n",
       "        }\n",
       "\n",
       "\n",
       "        //console.log(\"In check_numeric(), id=\"+id);\n",
       "        //console.log(event.srcElement.id)           \n",
       "        //console.log(event.srcElement.dataset.feedback)\n",
       "\n",
       "        var fb = document.getElementById(\"fb\" + id);\n",
       "        fb.style.display = \"none\";\n",
       "        fb.innerHTML = \"Incorrect -- try again.\";\n",
       "\n",
       "        var answers = JSON.parse(ths.dataset.answers);\n",
       "        //console.log(answers);\n",
       "\n",
       "        var defaultFB = \"Incorrect. Try again.\";\n",
       "        var correct;\n",
       "        var done = false;\n",
       "        answers.every(answer => {\n",
       "            //console.log(answer.type);\n",
       "\n",
       "            correct = false;\n",
       "            // if (answer.type==\"value\"){\n",
       "            if ('value' in answer) {\n",
       "                var value;\n",
       "                if (\"precision\" in ths.dataset) {\n",
       "                    value = answer.value.toPrecision(ths.dataset.precision);\n",
       "                } else {\n",
       "                    value = answer.value;\n",
       "                }\n",
       "                if (submission == value) {\n",
       "                    if (\"feedback\" in answer) {\n",
       "                        fb.innerHTML = jaxify(answer.feedback);\n",
       "                    } else {\n",
       "                        fb.innerHTML = jaxify(\"Correct\");\n",
       "                    }\n",
       "                    correct = answer.correct;\n",
       "                    //console.log(answer.correct);\n",
       "                    done = true;\n",
       "                }\n",
       "\n",
       "                // } else if (answer.type==\"range\") {\n",
       "            } else if ('range' in answer) {\n",
       "                console.log(answer.range);\n",
       "                console.log(submission, submission >=answer.range[0], submission < answer.range[1])\n",
       "                if ((submission >= answer.range[0]) && (submission < answer.range[1])) {\n",
       "                    fb.innerHTML = jaxify(answer.feedback);\n",
       "                    correct = answer.correct;\n",
       "                    console.log(answer.correct);\n",
       "                    done = true;\n",
       "                }\n",
       "            } else if (answer.type == \"default\") {\n",
       "                if (\"feedback\" in answer) {\n",
       "                    defaultFB = answer.feedback;\n",
       "                } \n",
       "            }\n",
       "            if (done) {\n",
       "                return false; // Break out of loop if this has been marked correct\n",
       "            } else {\n",
       "                return true; // Keep looking for case that includes this as a correct answer\n",
       "            }\n",
       "        });\n",
       "        console.log(\"done:\", done);\n",
       "\n",
       "        if ((!done) && (defaultFB != \"\")) {\n",
       "            fb.innerHTML = jaxify(defaultFB);\n",
       "            //console.log(\"Default feedback\", defaultFB);\n",
       "        }\n",
       "\n",
       "        fb.style.display = \"block\";\n",
       "        if (correct) {\n",
       "            ths.className = \"Input-text\";\n",
       "            ths.classList.add(\"correctButton\");\n",
       "            fb.className = \"Feedback\";\n",
       "            fb.classList.add(\"correct\");\n",
       "        } else {\n",
       "            ths.className = \"Input-text\";\n",
       "            ths.classList.add(\"incorrectButton\");\n",
       "            fb.className = \"Feedback\";\n",
       "            fb.classList.add(\"incorrect\");\n",
       "        }\n",
       "\n",
       "        // What follows is for the saved responses stuff\n",
       "        var outerContainer = fb.parentElement.parentElement;\n",
       "        var responsesContainer = document.getElementById(\"responses\" + outerContainer.id);\n",
       "        if (responsesContainer) {\n",
       "            console.log(submission);\n",
       "            var qnum = document.getElementById(\"quizWrap\"+id).dataset.qnum;\n",
       "            //console.log(\"Question \" + qnum);\n",
       "            //console.log(id, \", got numcorrect=\",fb.dataset.numcorrect);\n",
       "            var responses=JSON.parse(responsesContainer.dataset.responses);\n",
       "            console.log(responses);\n",
       "            if (submission == ths.value){\n",
       "                responses[qnum]= submission;\n",
       "            } else {\n",
       "                responses[qnum]= ths.value + \"(\" + submission +\")\";\n",
       "            }\n",
       "            responsesContainer.setAttribute('data-responses', JSON.stringify(responses));\n",
       "            printResponses(responsesContainer);\n",
       "        }\n",
       "        // End code to preserve responses\n",
       "\n",
       "        if (typeof MathJax != 'undefined') {\n",
       "            var version = MathJax.version;\n",
       "            console.log('MathJax version', version);\n",
       "            if (version[0] == \"2\") {\n",
       "                MathJax.Hub.Queue([\"Typeset\", MathJax.Hub]);\n",
       "            } else if (version[0] == \"3\") {\n",
       "                MathJax.typeset([fb]);\n",
       "            }\n",
       "        } else {\n",
       "            console.log('MathJax not detected');\n",
       "        }\n",
       "        // After correct answer, if next JupyterQuiz question exists and has a text input, scroll by current question height\n",
       "        if (correct) {\n",
       "            // find the current question wrapper\n",
       "            var wrapper = ths.closest('.Quiz');\n",
       "            if (wrapper) {\n",
       "                var nextWrapper = wrapper.nextElementSibling;\n",
       "                if (nextWrapper && nextWrapper.classList.contains('Quiz')) {\n",
       "                    var nextInput = nextWrapper.querySelector('input.Input-text');\n",
       "                    if (nextInput) {\n",
       "                        var height = wrapper.getBoundingClientRect().height;\n",
       "                        console.log(height);\n",
       "                        nextInput.focus();\n",
       "                    }\n",
       "                }\n",
       "            }\n",
       "        }\n",
       "        return false;\n",
       "    }\n",
       "\n",
       "}\n",
       "// Object-oriented wrapper for numeric questions\n",
       "class NumericQuestion extends Question {\n",
       "    constructor(qa, id, idx, opts, rootDiv) {\n",
       "        super(qa, id, idx, opts, rootDiv);\n",
       "    }\n",
       "    render() {\n",
       "        make_numeric(this.qa, this.outerqDiv, this.qDiv, this.aDiv, this.id);\n",
       "        this.wrapper.appendChild(this.fbDiv);\n",
       "    }\n",
       "}\n",
       "Question.register('numeric', NumericQuestion);\n",
       "\n",
       "function isValid(el, charC) {\n",
       "    //console.log(\"Input char: \", charC);\n",
       "    if (charC == 46) {\n",
       "        if (el.value.indexOf('.') === -1) {\n",
       "            return true;\n",
       "        } else if (el.value.indexOf('/') != -1) {\n",
       "            var parts = el.value.split('/');\n",
       "            if (parts[1].indexOf('.') === -1) {\n",
       "                return true;\n",
       "            }\n",
       "        }\n",
       "        else {\n",
       "            return false;\n",
       "        }\n",
       "    } else if (charC == 47) {\n",
       "        if (el.value.indexOf('/') === -1) {\n",
       "            if ((el.value != \"\") && (el.value != \".\")) {\n",
       "                return true;\n",
       "            } else {\n",
       "                return false;\n",
       "            }\n",
       "        } else {\n",
       "            return false;\n",
       "        }\n",
       "    } else if (charC == 45) {\n",
       "        var edex = el.value.indexOf('e');\n",
       "        if (edex == -1) {\n",
       "            edex = el.value.indexOf('E');\n",
       "        }\n",
       "\n",
       "        if (el.value == \"\") {\n",
       "            return true;\n",
       "        } else if (edex == (el.value.length - 1)) { // If just after e or E\n",
       "            return true;\n",
       "        } else {\n",
       "            return false;\n",
       "        }\n",
       "    } else if (charC == 101) { // \"e\"\n",
       "        if ((el.value.indexOf('e') === -1) && (el.value.indexOf('E') === -1) && (el.value.indexOf('/') == -1)) {\n",
       "            // Prev symbol must be digit or decimal point:\n",
       "            if (el.value.slice(-1).search(/\\d/) >= 0) {\n",
       "                return true;\n",
       "            } else if (el.value.slice(-1).search(/\\./) >= 0) {\n",
       "                return true;\n",
       "            } else {\n",
       "                return false;\n",
       "            }\n",
       "        } else {\n",
       "            return false;\n",
       "        }\n",
       "    } else {\n",
       "        if (charC > 31 && (charC < 48 || charC > 57))\n",
       "            return false;\n",
       "    }\n",
       "    return true;\n",
       "}\n",
       "\n",
       "function numeric_keypress(evnt) {\n",
       "    var charC = (evnt.which) ? evnt.which : evnt.keyCode;\n",
       "\n",
       "    if (charC == 13) {\n",
       "        check_numeric(this, evnt);\n",
       "    } else {\n",
       "        return isValid(this, charC);\n",
       "    }\n",
       "}\n",
       "\n",
       "\n",
       "\n",
       "\n",
       "\n",
       "function make_numeric(qa, outerqDiv, qDiv, aDiv, id) {\n",
       "\n",
       "\n",
       "\n",
       "    //console.log(answer);\n",
       "\n",
       "\n",
       "    outerqDiv.className = \"NumericQn\";\n",
       "    aDiv.style.display = 'block';\n",
       "\n",
       "    var lab = document.createElement(\"label\");\n",
       "    lab.className = \"InpLabel\";\n",
       "    lab.innerHTML = \"Type numeric answer here:\";\n",
       "    aDiv.append(lab);\n",
       "\n",
       "    var inp = document.createElement(\"input\");\n",
       "    inp.type = \"text\";\n",
       "    //inp.id=\"input-\"+id;\n",
       "    inp.id = id + \"-0\";\n",
       "    inp.className = \"Input-text\";\n",
       "    inp.setAttribute('data-answers', JSON.stringify(qa.answers));\n",
       "    if (\"precision\" in qa) {\n",
       "        inp.setAttribute('data-precision', qa.precision);\n",
       "    }\n",
       "    aDiv.append(inp);\n",
       "    //console.log(inp);\n",
       "\n",
       "    //inp.addEventListener(\"keypress\", check_numeric);\n",
       "    //inp.addEventListener(\"keypress\", numeric_keypress);\n",
       "    /*\n",
       "    inp.addEventListener(\"keypress\", function(event) {\n",
       "        return numeric_keypress(this, event);\n",
       "    }\n",
       "                        );\n",
       "                        */\n",
       "    //inp.onkeypress=\"return numeric_keypress(this, event)\";\n",
       "    inp.onkeypress = numeric_keypress;\n",
       "    inp.onpaste = event => false;\n",
       "\n",
       "    inp.addEventListener(\"focus\", function (event) {\n",
       "        this.value = \"\";\n",
       "        return false;\n",
       "    }\n",
       "    );\n",
       "\n",
       "\n",
       "}\n",
       "// Override show_questions to use object-oriented Question API\n",
       "function show_questions(json, container) {\n",
       "    // Accept container element or element ID\n",
       "    if (typeof container === 'string') {\n",
       "        container = document.getElementById(container);\n",
       "    }\n",
       "    if (!container) {\n",
       "        console.error('show_questions: invalid container', container);\n",
       "        return;\n",
       "    }\n",
       "\n",
       "    const shuffleQuestions = container.dataset.shufflequestions === 'True';\n",
       "    const shuffleAnswers = container.dataset.shuffleanswers === 'True';\n",
       "    const preserveResponses = container.dataset.preserveresponses === 'true';\n",
       "    const maxWidth = parseInt(container.dataset.maxwidth, 10) || 0;\n",
       "    let numQuestions = parseInt(container.dataset.numquestions, 10) || json.length;\n",
       "    if (numQuestions > json.length) numQuestions = json.length;\n",
       "\n",
       "    let questions = json;\n",
       "    if (shuffleQuestions || numQuestions < json.length) {\n",
       "        questions = getRandomSubarray(json, numQuestions);\n",
       "    }\n",
       "\n",
       "    questions.forEach((qa, index) => {\n",
       "        const id = makeid(8);\n",
       "        const options = {\n",
       "            shuffleAnswers: shuffleAnswers,\n",
       "            preserveResponses: preserveResponses,\n",
       "            maxWidth: maxWidth\n",
       "        };\n",
       "        Question.create(qa, id, index, options, container);\n",
       "    });\n",
       "\n",
       "    if (preserveResponses) {\n",
       "        const respDiv = document.createElement('div');\n",
       "        respDiv.id = 'responses' + container.id;\n",
       "        respDiv.className = 'JCResponses';\n",
       "        respDiv.dataset.responses = JSON.stringify([]);\n",
       "        respDiv.innerHTML = '<b>Select your answers and then follow the directions that will appear here.</b>';\n",
       "        container.appendChild(respDiv);\n",
       "    }\n",
       "\n",
       "    // Trigger MathJax typesetting if available\n",
       "    if (typeof MathJax != 'undefined') {\n",
       "        console.log(\"MathJax version\", MathJax.version);\n",
       "        var version = MathJax.version;\n",
       "        setTimeout(function(){\n",
       "            var version = MathJax.version;\n",
       "            console.log('After sleep, MathJax version', version);\n",
       "            if (version[0] == \"2\") {\n",
       "                MathJax.Hub.Queue([\"Typeset\", MathJax.Hub]);\n",
       "            } else if (version[0] == \"3\") {\n",
       "                if (MathJax.hasOwnProperty('typeset') ) {\n",
       "                    MathJax.typeset([container]);\n",
       "                } else {\n",
       "                    console.log('WARNING: Trying to force load MathJax 3');\n",
       "                    window.MathJax = {\n",
       "                        tex: {\n",
       "                            inlineMath: [['$', '$'], ['\\\\(', '\\\\)']]\n",
       "                        },\n",
       "                        svg: {\n",
       "                            fontCache: 'global'\n",
       "                        }\n",
       "                    };\n",
       "\n",
       "                    (function () {\n",
       "                        var script = document.createElement('script');\n",
       "                        script.src = 'https://cdn.jsdelivr.net/npm/mathjax@3/es5/tex-svg.js';\n",
       "                        script.async = true;\n",
       "                        document.head.appendChild(script);\n",
       "                    })();\n",
       "                }\n",
       "            }\n",
       "        }, 500);\n",
       "if (typeof version == 'undefined') {\n",
       "        } else\n",
       "        {\n",
       "            if (version[0] == \"2\") {\n",
       "                MathJax.Hub.Queue([\"Typeset\", MathJax.Hub]);\n",
       "            } else if (version[0] == \"3\") {\n",
       "                if (MathJax.hasOwnProperty('typeset') ) {\n",
       "                    MathJax.typeset([container]);\n",
       "                } else {\n",
       "                    console.log('WARNING: Trying to force load MathJax 3');\n",
       "                    window.MathJax = {\n",
       "                        tex: {\n",
       "                            inlineMath: [['$', '$'], ['\\\\(', '\\\\)']]\n",
       "                        },\n",
       "                        svg: {\n",
       "                            fontCache: 'global'\n",
       "                        }\n",
       "                    };\n",
       "\n",
       "                    (function () {\n",
       "                        var script = document.createElement('script');\n",
       "                        script.src = 'https://cdn.jsdelivr.net/npm/mathjax@3/es5/tex-svg.js';\n",
       "                        script.async = true;\n",
       "                        document.head.appendChild(script);\n",
       "                    })();\n",
       "                }\n",
       "            } else {\n",
       "                console.log(\"MathJax not found\");\n",
       "            }\n",
       "        }\n",
       "    }\n",
       "    // if (typeof MathJax !== 'undefined') {\n",
       "    //     const v = MathJax.version;\n",
       "    //     if (v[0] === '2') {\n",
       "    //         MathJax.Hub.Queue(['Typeset', MathJax.Hub]);\n",
       "    //     } else if (v[0] === '3') {\n",
       "    //         MathJax.typeset([container]);\n",
       "    //     }\n",
       "    // }\n",
       "\n",
       "    // Prevent link clicks from bubbling up\n",
       "    Array.from(container.getElementsByClassName('Link')).forEach(link => {\n",
       "        link.addEventListener('click', e => e.stopPropagation());\n",
       "    });\n",
       "}\n",
       "function levenshteinDistance(a, b) {\n",
       "    if (a.length === 0) return b.length;\n",
       "    if (b.length === 0) return a.length;\n",
       "\n",
       "    const matrix = Array(b.length + 1).fill(null).map(() => Array(a.length + 1).fill(null));\n",
       "\n",
       "    for (let i = 0; i <= a.length; i++) {\n",
       "        matrix[0][i] = i;\n",
       "    }\n",
       "\n",
       "    for (let j = 0; j <= b.length; j++) {\n",
       "        matrix[j][0] = j;\n",
       "    }\n",
       "\n",
       "    for (let j = 1; j <= b.length; j++) {\n",
       "        for (let i = 1; i <= a.length; i++) {\n",
       "            const cost = a[i - 1] === b[j - 1] ? 0 : 1;\n",
       "            matrix[j][i] = Math.min(\n",
       "                matrix[j - 1][i] + 1, // Deletion\n",
       "                matrix[j][i - 1] + 1, // Insertion\n",
       "                matrix[j - 1][i - 1] + cost // Substitution\n",
       "            );\n",
       "        }\n",
       "    }\n",
       "    return matrix[b.length][a.length];\n",
       "}\n",
       "// Object-oriented wrapper for string input questions\n",
       "class StringQuestion extends Question {\n",
       "    constructor(qa, id, idx, opts, rootDiv) {\n",
       "        super(qa, id, idx, opts, rootDiv);\n",
       "    }\n",
       "    render() {\n",
       "        make_string(this.qa, this.outerqDiv, this.qDiv, this.aDiv, this.id);\n",
       "        this.wrapper.appendChild(this.fbDiv);\n",
       "    }\n",
       "}\n",
       "Question.register('string', StringQuestion);\n",
       "\n",
       "function check_string(ths, event) {\n",
       "    if (event.keyCode === 13) {\n",
       "        ths.blur();\n",
       "\n",
       "        var id = ths.id.split('-')[0];\n",
       "        var submission = ths.value.trim();\n",
       "        var fb = document.getElementById(\"fb\" + id);\n",
       "        fb.style.display = \"none\";\n",
       "        fb.innerHTML = \"Incorrect -- try again.\";\n",
       "\n",
       "        var answers = JSON.parse(ths.dataset.answers);\n",
       "        var defaultFB = \"Incorrect. Try again.\";\n",
       "        var correct;\n",
       "        var done = false;\n",
       "\n",
       "        // Handle default answer pattern: filter out and capture default feedback\n",
       "        var filteredAnswers = [];\n",
       "        answers.forEach(answer => {\n",
       "            if (answer.type === \"default\") {\n",
       "                defaultFB = answer.feedback;\n",
       "            } else {\n",
       "                filteredAnswers.push(answer);\n",
       "            }\n",
       "        });\n",
       "        answers = filteredAnswers;\n",
       "\n",
       "        answers.every(answer => {\n",
       "            correct = false;\n",
       "\n",
       "            let match = false;\n",
       "            if (answer.match_case) {\n",
       "                match = submission === answer.answer;\n",
       "            } else {\n",
       "                match = submission.toLowerCase() === answer.answer.toLowerCase();\n",
       "            }\n",
       "            console.log(submission);\n",
       "            console.log(answer.answer);\n",
       "            console.log(match);\n",
       "\n",
       "            if (match) {\n",
       "                if (\"feedback\" in answer) {\n",
       "                    fb.innerHTML = jaxify(answer.feedback);\n",
       "                } else {\n",
       "                    fb.innerHTML = jaxify(\"Correct\");\n",
       "                }\n",
       "                correct = answer.correct;\n",
       "                done = true;\n",
       "            } else if (answer.fuzzy_threshold) {\n",
       "                var max_length = Math.max(submission.length, answer.answer.length);\n",
       "                var ratio;\n",
       "                if (answer.match_case) {\n",
       "                    ratio = 1- (levenshteinDistance(submission, answer.answer) / max_length);\n",
       "                } else {\n",
       "                    ratio = 1- (levenshteinDistance(submission.toLowerCase(),\n",
       "                                                    answer.answer.toLowerCase()) / max_length);\n",
       "                }\n",
       "                if (ratio >= answer.fuzzy_threshold) {\n",
       "                    if (\"feedback\" in answer) {\n",
       "                        fb.innerHTML = jaxify(\"(Fuzzy) \" + answer.feedback);\n",
       "                    } else {\n",
       "                        fb.innerHTML = jaxify(\"Correct\");\n",
       "                    }\n",
       "                    correct = answer.correct;\n",
       "                    done = true;\n",
       "                }\n",
       "\n",
       "            }\n",
       "\n",
       "            if (done) {\n",
       "                return false;\n",
       "            } else {\n",
       "                return true;\n",
       "            }\n",
       "        });\n",
       "\n",
       "        if ((!done) && (defaultFB != \"\")) {\n",
       "            fb.innerHTML = jaxify(defaultFB);\n",
       "        }\n",
       "\n",
       "        fb.style.display = \"block\";\n",
       "        if (correct) {\n",
       "            ths.className = \"Input-text\";\n",
       "            ths.classList.add(\"correctButton\");\n",
       "            fb.className = \"Feedback\";\n",
       "            fb.classList.add(\"correct\");\n",
       "        } else {\n",
       "            ths.className = \"Input-text\";\n",
       "            ths.classList.add(\"incorrectButton\");\n",
       "            fb.className = \"Feedback\";\n",
       "            fb.classList.add(\"incorrect\");\n",
       "        }\n",
       "\n",
       "        var outerContainer = fb.parentElement.parentElement;\n",
       "        var responsesContainer = document.getElementById(\"responses\" + outerContainer.id);\n",
       "        if (responsesContainer) {\n",
       "            var qnum = document.getElementById(\"quizWrap\" + id).dataset.qnum;\n",
       "            var responses = JSON.parse(responsesContainer.dataset.responses);\n",
       "            responses[qnum] = submission;\n",
       "            responsesContainer.setAttribute('data-responses', JSON.stringify(responses));\n",
       "            printResponses(responsesContainer);\n",
       "        }\n",
       "\n",
       "        if (typeof MathJax != 'undefined') {\n",
       "            var version = MathJax.version;\n",
       "            if (version[0] == \"2\") {\n",
       "                MathJax.Hub.Queue([\"Typeset\", MathJax.Hub]);\n",
       "            } else if (version[0] == \"3\") {\n",
       "                MathJax.typeset([fb]);\n",
       "            }\n",
       "        } else {\n",
       "            console.log('MathJax not detected');\n",
       "        }\n",
       "        // After correct answer, if next JupyterQuiz question exists and has a text input, scroll by current question height\n",
       "        if (correct) {\n",
       "            var wrapper = ths.closest('.Quiz');\n",
       "            if (wrapper) {\n",
       "                var nextWrapper = wrapper.nextElementSibling;\n",
       "                if (nextWrapper && nextWrapper.classList.contains('Quiz')) {\n",
       "                    var nextInput = nextWrapper.querySelector('input.Input-text');\n",
       "                    if (nextInput) {\n",
       "                        var height = wrapper.getBoundingClientRect().height;\n",
       "                        nextInput.focus();\n",
       "                    }\n",
       "                }\n",
       "            }\n",
       "        }\n",
       "        return false;\n",
       "    }\n",
       "}\n",
       "\n",
       "function string_keypress(evnt) {\n",
       "    var charC = (evnt.which) ? evnt.which : evnt.keyCode;\n",
       "\n",
       "    if (charC == 13) {\n",
       "        check_string(this, evnt);\n",
       "    } \n",
       "}\n",
       "\n",
       "\n",
       "function make_string(qa, outerqDiv, qDiv, aDiv, id) {\n",
       "    outerqDiv.className = \"StringQn\";\n",
       "    aDiv.style.display = 'block';\n",
       "\n",
       "    var lab = document.createElement(\"label\");\n",
       "    lab.className = \"InpLabel\";\n",
       "    lab.innerHTML = \"Type your answer here:\";\n",
       "    aDiv.append(lab);\n",
       "\n",
       "    var inp = document.createElement(\"input\");\n",
       "    inp.type = \"text\";\n",
       "    inp.id = id + \"-0\";\n",
       "    inp.className = \"Input-text\";\n",
       "    inp.setAttribute('data-answers', JSON.stringify(qa.answers));\n",
       "    // Apply optional input width (approx. number of characters, in em units)\n",
       "    if (qa.input_width != null) {\n",
       "        inp.style['min-width'] = qa.input_width + 'em';\n",
       "    }\n",
       "    aDiv.append(inp);\n",
       "\n",
       "    inp.onkeypress = string_keypress;\n",
       "    inp.onpaste = event => false;\n",
       "\n",
       "    inp.addEventListener(\"focus\", function (event) {\n",
       "        this.value = \"\";\n",
       "        return false;\n",
       "    });\n",
       "}\n",
       "/*\n",
       " * Handle asynchrony issues when re-running quizzes in Jupyter notebooks.\n",
       " * Ensures show_questions is called after the container div is in the DOM.\n",
       " */\n",
       "function try_show() {\n",
       "  if (document.getElementById(\"cYUfxFVQgEbO\")) {\n",
       "    show_questions(questionscYUfxFVQgEbO, cYUfxFVQgEbO);\n",
       "  } else {\n",
       "    setTimeout(try_show, 200);\n",
       "  }\n",
       "};\n",
       "// Invoke immediately\n",
       "{\n",
       "  try_show();\n",
       "}\n",
       "}\n"
      ],
      "text/plain": [
       "<IPython.core.display.Javascript object>"
      ]
     },
     "metadata": {},
     "output_type": "display_data"
    }
   ],
   "source": [
    "display_quiz(\"quizzes/submodule_3/quiz2.json\")"
   ]
  },
  {
   "cell_type": "markdown",
   "id": "b3d2b4f5-a79c-40d9-9b6d-d7add4284282",
   "metadata": {},
   "source": [
    "# Conclusion\n",
    "\n",
    "In this tutorial, we took the RADseq data that was assembled using ipyrad in the first submodule and used two different phylogenetic methods to estimate trees from the data. In the next tutorial, we will show how to plot these trees in R.\n",
    "\n",
    "\n",
    "\n",
    "<br>\n",
    "\n",
    "# Cleanup\n",
    "\n",
    "If you are not immediately moving on to the next notebook, shut down your GCP instance to prevent being charged while it sits idle."
   ]
  }
 ],
 "metadata": {
  "kernelspec": {
   "display_name": "Python 3 (ipykernel) (Local)",
   "language": "python",
   "name": "micromamba-base-py"
  },
  "language_info": {
   "codemirror_mode": {
    "name": "ipython",
    "version": 3
   },
   "file_extension": ".py",
   "mimetype": "text/x-python",
   "name": "python",
   "nbconvert_exporter": "python",
   "pygments_lexer": "ipython3",
   "version": "3.10.15"
  }
 },
 "nbformat": 4,
 "nbformat_minor": 5
}
